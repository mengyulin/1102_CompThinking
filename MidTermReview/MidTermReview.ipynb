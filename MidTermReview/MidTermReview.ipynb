{
 "cells": [
  {
   "cell_type": "markdown",
   "id": "42e7b75a",
   "metadata": {},
   "source": [
    "[![Open In Colab](https://colab.research.google.com/assets/colab-badge.svg)](https://colab.research.google.com/github/mengyulin/1102_CompThinking/blob/main/MidTermReview/MidTermReview.ipynb)"
   ]
  },
  {
   "cell_type": "markdown",
   "id": "027c5ee5",
   "metadata": {},
   "source": [
    "# 函數繪圖\n",
    "\n",
    "畫出函數 $f(x) = x^4 - 3x^3 + 10x^2 -x -2$ 在 $-6 \\le x \\le 6$ 區間的函數圖形。"
   ]
  },
  {
   "cell_type": "code",
   "execution_count": null,
   "id": "5ea02dc5",
   "metadata": {},
   "outputs": [],
   "source": [
    "%matplotlib inline\n",
    "\n",
    "import numpy as np\n",
    "import matplotlib.pyplot as plt"
   ]
  },
  {
   "cell_type": "code",
   "execution_count": null,
   "id": "0c15c0ee",
   "metadata": {},
   "outputs": [],
   "source": []
  },
  {
   "cell_type": "markdown",
   "id": "37b8fd78",
   "metadata": {},
   "source": [
    "# 極座標繪圖：衛星軌道\n",
    "\n",
    "\n",
    "人造衛星繞地球的軌道，如以極座標 $(r,\\theta)$ 表示為\n",
    "\n",
    "$$\n",
    "r = \\frac{p}{1-\\epsilon\\cos\\theta}\n",
    "$$\n",
    "\n",
    "其中 $r$ 與 $\\theta$ 分別為衛星到地球中心的距離與角度，$p$ 為軌道尺度大小之參數，$\\epsilon$ 則代表了偏心率 (eccentricity)。例如圓的偏心率為 0, 橢圓則為 $0 \\le \\epsilon \\le 1$。\n",
    "\n",
    "考慮一人造衛星，其軌道尺寸參數 $p = 1000$。試分別繪出偏心率 (a) $\\epsilon = 0$, (b) $\\epsilon = 0.25$ 以及 (c) $\\epsilon = 0.5$ 之軌道圖。\n",
    "\n",
    "註：$0 \\le \\theta \\le 2\\pi$。"
   ]
  },
  {
   "cell_type": "code",
   "execution_count": null,
   "id": "92fef403",
   "metadata": {},
   "outputs": [],
   "source": []
  },
  {
   "cell_type": "markdown",
   "id": "36346c59",
   "metadata": {},
   "source": [
    "# 溫度轉換\n",
    "\n",
    "華氏溫度 ($^\\circ\\mathrm{F}$) 與絕對溫度 (即克氏溫度 K) 的關係式為\n",
    "\n",
    "$$\n",
    "T_k = \\frac{5}{9}\\left( T_f - 32.0\\right) + 273.15\n",
    "$$\n",
    "\n",
    "其中 $T_k$ 與 $T_f$ 分別為絕對溫度與華氏溫度之數據。\n",
    "\n",
    "試寫一程式，可輸入華氏溫度，並轉換為絕對溫度，然後輸出計算結果。程式之步驟為\n",
    "\n",
    "1. 提示使用者輸入華氏溫度，並讀取之。\n",
    "2. 計算所對應之絕對溫度。\n",
    "3. 輸出計算結果。\n",
    "\n",
    "我們可用以下的數據來檢驗程式的正確性：\n",
    "\n",
    "* 水的沸點：$212^\\circ\\mathrm{F}$, $373.15~\\mathrm{K}$\n",
    "* 乾冰的昇華點：$-110^\\circ\\mathrm{F}$, $194.26~\\mathrm{K}$"
   ]
  },
  {
   "cell_type": "code",
   "execution_count": null,
   "id": "c10f262e",
   "metadata": {},
   "outputs": [],
   "source": []
  },
  {
   "cell_type": "markdown",
   "id": "18930ee4",
   "metadata": {},
   "source": [
    "# 比大小\n",
    "\n",
    "請撰寫一程式，讓使用者輸入二個數，num1 和 num2，比較 num1 和 num2 的大小，並依比較的結果顯示出\n",
    "\n",
    "* num1 大於 num2\n",
    "* num2 大於 num1\n",
    "* 二者相等"
   ]
  },
  {
   "cell_type": "code",
   "execution_count": null,
   "id": "be2563fc",
   "metadata": {},
   "outputs": [],
   "source": []
  },
  {
   "cell_type": "markdown",
   "id": "c96550f6",
   "metadata": {},
   "source": [
    "# 求和\n",
    "\n",
    "請撰寫一程式，計算 0 到 100 之間所有奇數的和，並顯示其結果。"
   ]
  },
  {
   "cell_type": "code",
   "execution_count": null,
   "id": "def46c0e",
   "metadata": {},
   "outputs": [],
   "source": []
  }
 ],
 "metadata": {
  "kernelspec": {
   "display_name": "Python 3",
   "language": "python",
   "name": "python3"
  },
  "language_info": {
   "codemirror_mode": {
    "name": "ipython",
    "version": 3
   },
   "file_extension": ".py",
   "mimetype": "text/x-python",
   "name": "python",
   "nbconvert_exporter": "python",
   "pygments_lexer": "ipython3",
   "version": "3.8.8"
  }
 },
 "nbformat": 4,
 "nbformat_minor": 5
}
