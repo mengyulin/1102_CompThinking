{
 "cells": [
  {
   "cell_type": "markdown",
   "id": "37b8fd78",
   "metadata": {},
   "source": [
    "[![Open In Colab](https://colab.research.google.com/assets/colab-badge.svg)](https://colab.research.google.com/github/mengyulin/1102_CompThinking/blob/main/MidExam/MidTermExamP2.ipynb)\n",
    "\n",
    "# 第二題\n",
    "\n",
    "## 題目\n",
    "\n",
    "令變數 $x$ 於 0 至 $4\\pi$ 之間產生 100 個數值，繪製 \n",
    "$y(x) = e^{-0.5 x}\\sin 2x$ 的函數圖形。\n",
    "並在同一圖軸繪製 $y(x) = e^{-0.5 x}\\cos 2x$ 的函數圖形。\n",
    "\n",
    "註：Numpy 之指數函數 $e^x$ 為 `np.exp(x)`。"
   ]
  },
  {
   "cell_type": "code",
   "execution_count": null,
   "id": "130056e0",
   "metadata": {},
   "outputs": [],
   "source": [
    "%matplotlib inline\n",
    "\n",
    "import numpy as np\n",
    "import matplotlib.pyplot as plt"
   ]
  },
  {
   "cell_type": "code",
   "execution_count": null,
   "id": "c32bc8dd",
   "metadata": {},
   "outputs": [],
   "source": []
  }
 ],
 "metadata": {
  "kernelspec": {
   "display_name": "Python 3",
   "language": "python",
   "name": "python3"
  },
  "language_info": {
   "codemirror_mode": {
    "name": "ipython",
    "version": 3
   },
   "file_extension": ".py",
   "mimetype": "text/x-python",
   "name": "python",
   "nbconvert_exporter": "python",
   "pygments_lexer": "ipython3",
   "version": "3.8.8"
  }
 },
 "nbformat": 4,
 "nbformat_minor": 5
}
