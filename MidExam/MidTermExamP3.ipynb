{
 "cells": [
  {
   "cell_type": "markdown",
   "id": "37b8fd78",
   "metadata": {},
   "source": [
    "[![Open In Colab](https://colab.research.google.com/assets/colab-badge.svg)](https://colab.research.google.com/github/mengyulin/1102_CompThinking/blob/main/MidExam/MidTermExamP3.ipynb)\n",
    "\n",
    "\n",
    "# 第三題\n",
    "\n",
    "## 題目\n",
    "\n",
    "麥克風的增益 (gain) 功能為加強某一方向的訊號，多以角度為函數，其關係式為\n",
    "\n",
    "$$\n",
    "gain = 2g(1+\\cos\\theta)\n",
    "$$\n",
    "\n",
    "其中 $g$ 為麥克風之參數，$\\theta$ 為麥克風軸線對著音源之角度，$0 \\le \\theta \\le 2\\pi$。\n",
    "\n",
    "試以極座標繪出當參數 $g$ 為 0.3, 0.5, 1.0 時之增益函數圖，其中極座標之半徑為增益值，角度為 $\\theta$。請繪製於單一圖面中。"
   ]
  },
  {
   "cell_type": "code",
   "execution_count": null,
   "id": "130056e0",
   "metadata": {},
   "outputs": [],
   "source": [
    "%matplotlib inline\n",
    "\n",
    "import numpy as np\n",
    "import matplotlib.pyplot as plt"
   ]
  },
  {
   "cell_type": "code",
   "execution_count": null,
   "id": "8f846d63",
   "metadata": {},
   "outputs": [],
   "source": []
  }
 ],
 "metadata": {
  "kernelspec": {
   "display_name": "Python 3",
   "language": "python",
   "name": "python3"
  },
  "language_info": {
   "codemirror_mode": {
    "name": "ipython",
    "version": 3
   },
   "file_extension": ".py",
   "mimetype": "text/x-python",
   "name": "python",
   "nbconvert_exporter": "python",
   "pygments_lexer": "ipython3",
   "version": "3.8.8"
  }
 },
 "nbformat": 4,
 "nbformat_minor": 5
}
