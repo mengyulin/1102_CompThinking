{
 "cells": [
  {
   "cell_type": "markdown",
   "id": "37b8fd78",
   "metadata": {},
   "source": [
    "[![Open In Colab](https://colab.research.google.com/assets/colab-badge.svg)](https://colab.research.google.com/github/mengyulin/1102_CompThinking/blob/main/MidExam/MidTermExamP4.ipynb)\n",
    "\n",
    "\n",
    "# 第四題\n",
    "\n",
    "## 題目\n",
    "\n",
    "下表為台灣多數大學採用的等第標準：\n",
    "\n",
    "等第成績 | 分數區間\n",
    ":--------|-------\n",
    "A+ | 90 - 100分\n",
    "A | 85 - 89分\n",
    "A- | 80 - 84分\n",
    "B+ | 77 - 79分\n",
    "B | 73 - 76分\n",
    "B- | 70 - 72分\n",
    "C+ | 67 - 69分\n",
    "C | 63 - 66分\n",
    "C- | 60 - 62分\n",
    "F | 0 - 59分\n",
    "\n",
    "\n",
    "使用 `if`/`elif`/`else` 架構，編寫一程式，輸入分數 grade, (0~100分)，並依據此表評定成績之等第。\n",
    "\n",
    "## 程式流程：\n",
    "\n",
    "1. 提示使用者輸入分數 grade, 讀取後轉換為整數 (`int`)。\n",
    "2. 判斷該分數之等第。\n",
    "3. 輸出等第。\n"
   ]
  },
  {
   "cell_type": "code",
   "execution_count": null,
   "id": "130056e0",
   "metadata": {},
   "outputs": [],
   "source": [
    "%matplotlib inline\n",
    "\n",
    "import numpy as np\n",
    "import matplotlib.pyplot as plt"
   ]
  },
  {
   "cell_type": "code",
   "execution_count": null,
   "id": "f1722718",
   "metadata": {},
   "outputs": [],
   "source": []
  }
 ],
 "metadata": {
  "kernelspec": {
   "display_name": "Python 3",
   "language": "python",
   "name": "python3"
  },
  "language_info": {
   "codemirror_mode": {
    "name": "ipython",
    "version": 3
   },
   "file_extension": ".py",
   "mimetype": "text/x-python",
   "name": "python",
   "nbconvert_exporter": "python",
   "pygments_lexer": "ipython3",
   "version": "3.8.8"
  }
 },
 "nbformat": 4,
 "nbformat_minor": 5
}
