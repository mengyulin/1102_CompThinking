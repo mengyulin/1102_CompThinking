{
 "cells": [
  {
   "cell_type": "markdown",
   "id": "37b8fd78",
   "metadata": {},
   "source": [
    "[![Open In Colab](https://colab.research.google.com/assets/colab-badge.svg)](https://colab.research.google.com/github/mengyulin/1102_CompThinking/blob/main/MidExam/MidTermExamP1.ipynb)\n",
    "\n",
    "# 第一題\n",
    "\n",
    "## 題目\n",
    "\n",
    "在直角座標平面上，點 a 之座標為 $(x_1,y_1)$, 點 b 之座標為 $(x_2,y_2)$。 這兩點的距離 $d$ 可由下式計算：\n",
    "\n",
    "$$\n",
    "d = \\sqrt{(x_1-x_2)^2+(y_1-y_2)^2}\n",
    "$$\n",
    "\n",
    "試寫出一程式，由使用者輸入兩點座標，並輸出此兩點之距離。\n",
    "\n",
    "## 程式流程\n",
    "\n",
    "1. 使用 `input` 指令，提示使用者分別輸入 (記得要型別轉換為 `float`):\n",
    "    * 點 a 之 x 座標 x1\n",
    "    * 點 a 之 y 座標 y1\n",
    "    * 點 b 之 x 座標 x2\n",
    "    * 點 b 之 y 座標 y2\n",
    "2. 計算兩點的距離 d\n",
    "3. 使用 `print` 指令，輸出兩點的距離 d\n",
    "\n",
    "註：numpy 之平方根 $\\sqrt{x}$ 為 `np.sqrt(x)`"
   ]
  },
  {
   "cell_type": "code",
   "execution_count": null,
   "id": "130056e0",
   "metadata": {},
   "outputs": [],
   "source": [
    "%matplotlib inline\n",
    "\n",
    "import numpy as np\n",
    "import matplotlib.pyplot as plt"
   ]
  },
  {
   "cell_type": "code",
   "execution_count": null,
   "id": "c7a03b10",
   "metadata": {},
   "outputs": [],
   "source": []
  }
 ],
 "metadata": {
  "kernelspec": {
   "display_name": "Python 3",
   "language": "python",
   "name": "python3"
  },
  "language_info": {
   "codemirror_mode": {
    "name": "ipython",
    "version": 3
   },
   "file_extension": ".py",
   "mimetype": "text/x-python",
   "name": "python",
   "nbconvert_exporter": "python",
   "pygments_lexer": "ipython3",
   "version": "3.8.8"
  }
 },
 "nbformat": 4,
 "nbformat_minor": 5
}
