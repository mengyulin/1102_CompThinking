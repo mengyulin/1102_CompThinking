{
 "cells": [
  {
   "cell_type": "markdown",
   "id": "37b8fd78",
   "metadata": {},
   "source": [
    "[![Open In Colab](https://colab.research.google.com/assets/colab-badge.svg)](https://colab.research.google.com/github/mengyulin/1102_CompThinking/blob/main/MidExam/MidTermExamP5.ipynb)\n",
    "\n",
    "# 第五題\n",
    "\n",
    "## 題目\n",
    "\n",
    "均方根 (root-mean-square, rms) 為另一種計算數據平均值的方法。若有 $n$ 個數據為 $\\{x_1, x_2, \\dots, x_n \\}$，其均方根為\n",
    "\n",
    "$$\n",
    "\\mathrm{rms} = \\sqrt{\\frac{1}{n}\\sum_{i=1}^n x_i^2}\n",
    "$$\n",
    "\n",
    "亦即將此數據的平方取算數平均數，再取平方根。\n",
    "\n",
    "試寫一程式，使用 `for` 迴圈，計算串列 `[10, 5, 2, 5]` 之均方根，並輸出於螢幕。\n",
    "\n",
    "## 程式流程\n",
    "\n",
    "1. 設定串列\n",
    "2. 計算均方根\n",
    "3. 輸出結果。"
   ]
  },
  {
   "cell_type": "code",
   "execution_count": null,
   "id": "130056e0",
   "metadata": {},
   "outputs": [],
   "source": [
    "%matplotlib inline\n",
    "\n",
    "import numpy as np\n",
    "import matplotlib.pyplot as plt"
   ]
  },
  {
   "cell_type": "code",
   "execution_count": null,
   "id": "c7a03b10",
   "metadata": {},
   "outputs": [],
   "source": []
  }
 ],
 "metadata": {
  "kernelspec": {
   "display_name": "Python 3",
   "language": "python",
   "name": "python3"
  },
  "language_info": {
   "codemirror_mode": {
    "name": "ipython",
    "version": 3
   },
   "file_extension": ".py",
   "mimetype": "text/x-python",
   "name": "python",
   "nbconvert_exporter": "python",
   "pygments_lexer": "ipython3",
   "version": "3.8.8"
  }
 },
 "nbformat": 4,
 "nbformat_minor": 5
}
