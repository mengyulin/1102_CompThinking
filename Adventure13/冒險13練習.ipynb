{
 "cells": [
  {
   "cell_type": "markdown",
   "id": "3af3ddd4",
   "metadata": {},
   "source": [
    "[![Open In Colab](https://colab.research.google.com/assets/colab-badge.svg)](https://colab.research.google.com/github/mengyulin/1102_CompThinking/blob/main/Adventure13/冒險13練習.ipynb)"
   ]
  },
  {
   "cell_type": "markdown",
   "id": "b7dfe863",
   "metadata": {},
   "source": [
    "# 冒險 13 練習\n",
    "\n",
    "一個詞或一個句子，如果從前面唸到後面，或從後面唸到前面是完全一樣的，叫做回文 (palindrome)。例如英文的女士\n",
    "\n",
    "* madam\n",
    "\n",
    "或是中文的\n",
    "\n",
    "* 文言文\n",
    "\n",
    "都是回文。請寫一個程式，讓使用者輸入一個英文單字或中文詞句，判斷它是不是回文。"
   ]
  },
  {
   "cell_type": "code",
   "execution_count": 15,
   "id": "f7a98b82",
   "metadata": {},
   "outputs": [
    {
     "name": "stdout",
     "output_type": "stream",
     "text": [
      "請輸入一個英文單字 (小寫): men\n",
      "men 不是回文。\n"
     ]
    }
   ],
   "source": [
    "word = input('請輸入一個英文單字 (小寫): ')\n",
    "word2 = word[::-1]\n",
    "if word2 == word:\n",
    "    print(word + ' 是回文。')\n",
    "else:\n",
    "    print(word + ' 不是回文。')"
   ]
  },
  {
   "cell_type": "code",
   "execution_count": 12,
   "id": "8254604f",
   "metadata": {},
   "outputs": [
    {
     "name": "stdout",
     "output_type": "stream",
     "text": [
      "請輸入一個英文單字 (小寫): madam\n",
      "madam 是回文。\n"
     ]
    }
   ],
   "source": [
    "word = input('請輸入一個英文單字 (小寫): ')\n",
    "word2 = word[::-1]\n",
    "if word2 == word:\n",
    "    print(word + ' 是回文。')\n",
    "else:\n",
    "    print(word + ' 不是回文。')"
   ]
  },
  {
   "cell_type": "code",
   "execution_count": 13,
   "id": "3aaa559f",
   "metadata": {},
   "outputs": [
    {
     "name": "stdout",
     "output_type": "stream",
     "text": [
      "請輸入一個英文單字 (小寫): 白話文\n",
      "白話文 不是回文。\n"
     ]
    }
   ],
   "source": [
    "word = input('請輸入一個英文單字 (小寫): ')\n",
    "word2 = word[::-1]\n",
    "if word2 == word:\n",
    "    print(word + ' 是回文。')\n",
    "else:\n",
    "    print(word + ' 不是回文。')"
   ]
  },
  {
   "cell_type": "code",
   "execution_count": 14,
   "id": "5a0c097e",
   "metadata": {},
   "outputs": [
    {
     "name": "stdout",
     "output_type": "stream",
     "text": [
      "請輸入一個英文單字 (小寫): 文言文\n",
      "文言文 是回文。\n"
     ]
    }
   ],
   "source": [
    "word = input('請輸入一個英文單字 (小寫): ')\n",
    "word2 = word[::-1]\n",
    "if word2 == word:\n",
    "    print(word + ' 是回文。')\n",
    "else:\n",
    "    print(word + ' 不是回文。')"
   ]
  }
 ],
 "metadata": {
  "kernelspec": {
   "display_name": "Python 3",
   "language": "python",
   "name": "python3"
  },
  "language_info": {
   "codemirror_mode": {
    "name": "ipython",
    "version": 3
   },
   "file_extension": ".py",
   "mimetype": "text/x-python",
   "name": "python",
   "nbconvert_exporter": "python",
   "pygments_lexer": "ipython3",
   "version": "3.8.8"
  }
 },
 "nbformat": 4,
 "nbformat_minor": 5
}
