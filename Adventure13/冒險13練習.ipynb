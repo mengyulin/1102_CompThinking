{
 "cells": [
  {
   "cell_type": "markdown",
   "id": "4707d02d",
   "metadata": {},
   "source": [
    "[![Open In Colab](https://colab.research.google.com/assets/colab-badge.svg)](https://colab.research.google.com/github/mengyulin/1102_CompThinking/blob/main/Adventure13/冒險13練習.ipynb)"
   ]
  },
  {
   "cell_type": "markdown",
   "id": "e7714fed",
   "metadata": {},
   "source": [
    "# 冒險 13 練習\n",
    "\n",
    "一個詞或一個句子，如果從前面唸到後面，或從後面唸到前面是完全一樣的，叫做回文 (palindrome)。例如英文的女士\n",
    "\n",
    "* madam\n",
    "\n",
    "或是中文的\n",
    "\n",
    "* 文言文\n",
    "\n",
    "都是回文。請寫一個程式，讓使用者輸入一個英文單字或中文詞句，判斷它是不是回文。"
   ]
  },
  {
   "cell_type": "code",
   "execution_count": null,
   "id": "fac596d6",
   "metadata": {},
   "outputs": [],
   "source": []
  }
 ],
 "metadata": {
  "kernelspec": {
   "display_name": "Python 3",
   "language": "python",
   "name": "python3"
  },
  "language_info": {
   "codemirror_mode": {
    "name": "ipython",
    "version": 3
   },
   "file_extension": ".py",
   "mimetype": "text/x-python",
   "name": "python",
   "nbconvert_exporter": "python",
   "pygments_lexer": "ipython3",
   "version": "3.8.8"
  }
 },
 "nbformat": 4,
 "nbformat_minor": 5
}
