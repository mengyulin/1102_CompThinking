{
 "cells": [
  {
   "cell_type": "markdown",
   "metadata": {
    "slideshow": {
     "slide_type": "skip"
    }
   },
   "source": [
    "[![Open In Colab](https://colab.research.google.com/assets/colab-badge.svg)](https://colab.research.google.com/github/mengyulin/1102_CompThinking/blob/main/Adventure19/冒險19_引入套件寫個猜數字遊戲.ipynb)"
   ]
  },
  {
   "cell_type": "markdown",
   "metadata": {
    "slideshow": {
     "slide_type": "slide"
    }
   },
   "source": [
    "# 冒險19  引入套件，寫個猜數字遊戲"
   ]
  },
  {
   "cell_type": "code",
   "execution_count": 1,
   "metadata": {},
   "outputs": [],
   "source": [
    "%matplotlib inline\n",
    "\n",
    "import numpy as np\n",
    "import matplotlib.pyplot as plt"
   ]
  },
  {
   "cell_type": "markdown",
   "metadata": {
    "slideshow": {
     "slide_type": "subslide"
    }
   },
   "source": [
    "接著我們想做一個猜數字遊戲, 並且把它設計成一個函數。為了這個, 我們介紹從 `random` 套件庫來的 `randint` 指令。"
   ]
  },
  {
   "cell_type": "markdown",
   "metadata": {},
   "source": [
    "![randint](randint.png)"
   ]
  },
  {
   "cell_type": "markdown",
   "metadata": {
    "slideshow": {
     "slide_type": "subslide"
    }
   },
   "source": [
    "### 問題: 猜數字遊戲\n",
    "\n",
    "電腦從 1-100 之間「想」一個數字。玩家開始猜電腦的數字, 電腦回饋「太大」或「太小」, 直到猜對為止。"
   ]
  },
  {
   "cell_type": "code",
   "execution_count": 2,
   "metadata": {},
   "outputs": [],
   "source": [
    "from random import randint"
   ]
  },
  {
   "cell_type": "code",
   "execution_count": 3,
   "metadata": {},
   "outputs": [
    {
     "name": "stdout",
     "output_type": "stream",
     "text": [
      "1 4 5 1 5 2 1 4 1 2 "
     ]
    }
   ],
   "source": [
    "for i in range(10):\n",
    "    print(randint(1, 5), end=' ')"
   ]
  },
  {
   "cell_type": "code",
   "execution_count": 5,
   "metadata": {
    "slideshow": {
     "slide_type": "subslide"
    }
   },
   "outputs": [],
   "source": [
    "def game ():\n",
    "    ans = randint(1, 100)\n",
    "    guess = -1\n",
    "\n",
    "    while guess != ans:\n",
    "        guess = int(input(\"請輸入一個數字 (1-100): \"))\n",
    "\n",
    "        if guess>ans:\n",
    "            print(\"太大了!\")\n",
    "        elif guess<ans:\n",
    "            print(\"太小了!\")\n",
    "        else:\n",
    "            print(\"太神了!\")"
   ]
  },
  {
   "cell_type": "code",
   "execution_count": 7,
   "metadata": {
    "slideshow": {
     "slide_type": "subslide"
    }
   },
   "outputs": [
    {
     "name": "stdout",
     "output_type": "stream",
     "text": [
      "請輸入一個數字 (1-100): 50\n",
      "太大了!\n",
      "請輸入一個數字 (1-100): 40\n",
      "太大了!\n",
      "請輸入一個數字 (1-100): 30\n",
      "太大了!\n",
      "請輸入一個數字 (1-100): 10\n",
      "太大了!\n",
      "請輸入一個數字 (1-100): 5\n",
      "太小了!\n",
      "請輸入一個數字 (1-100): 6\n",
      "太小了!\n",
      "請輸入一個數字 (1-100): 7\n",
      "太神了!\n"
     ]
    }
   ],
   "source": [
    "game()"
   ]
  },
  {
   "cell_type": "markdown",
   "metadata": {
    "slideshow": {
     "slide_type": "slide"
    }
   },
   "source": [
    "現在我們想要玩了一盤之後, 能問要不要再玩一次。這時可以發現, 我們把遊戲寫成一個函數就很方便!"
   ]
  },
  {
   "cell_type": "code",
   "execution_count": 8,
   "metadata": {
    "slideshow": {
     "slide_type": "subslide"
    }
   },
   "outputs": [
    {
     "name": "stdout",
     "output_type": "stream",
     "text": [
      "請輸入一個數字 (1-100): 50\n",
      "太小了!\n",
      "請輸入一個數字 (1-100): 80\n",
      "太小了!\n",
      "請輸入一個數字 (1-100): 90\n",
      "太小了!\n",
      "請輸入一個數字 (1-100): 99\n",
      "太大了!\n",
      "請輸入一個數字 (1-100): 98\n",
      "太大了!\n",
      "請輸入一個數字 (1-100): 97\n",
      "太大了!\n",
      "請輸入一個數字 (1-100): 96\n",
      "太大了!\n",
      "請輸入一個數字 (1-100): 95\n",
      "太大了!\n",
      "請輸入一個數字 (1-100): 94\n",
      "太大了!\n",
      "請輸入一個數字 (1-100): 92\n",
      "太小了!\n",
      "請輸入一個數字 (1-100): 93\n",
      "太神了!\n",
      "ヽ(∀ﾟ )人(ﾟ∀ﾟ)人( ﾟ∀)人(∀ﾟ )ﾉ\n",
      "再玩一次?no\n"
     ]
    }
   ],
   "source": [
    "play = True\n",
    "\n",
    "while play:\n",
    "    game()\n",
    "    print(\"ヽ(∀ﾟ )人(ﾟ∀ﾟ)人( ﾟ∀)人(∀ﾟ )ﾉ\")\n",
    "    again = input(\"再玩一次?\")\n",
    "    if again == 'no':\n",
    "        play = False"
   ]
  },
  {
   "cell_type": "markdown",
   "metadata": {
    "slideshow": {
     "slide_type": "slide"
    }
   },
   "source": [
    "我們現在準備存成一個 Python 檔案。Python 檔一般以 `.py` 結尾, 要執行在終端機 (Anaconda Prompt) 打入\n",
    "\n",
    "    python 檔名.py\n",
    "    \n",
    "就可以!"
   ]
  },
  {
   "cell_type": "markdown",
   "metadata": {
    "slideshow": {
     "slide_type": "subslide"
    }
   },
   "source": [
    "![Python 檔案](python_file.png)"
   ]
  },
  {
   "cell_type": "markdown",
   "metadata": {
    "slideshow": {
     "slide_type": "subslide"
    }
   },
   "source": [
    "看了一下, 我們這次需要存的輸入格有 2, 5, 8 三行。可以用魔術指令 `%save` 來儲存。"
   ]
  },
  {
   "cell_type": "code",
   "execution_count": 9,
   "metadata": {},
   "outputs": [
    {
     "name": "stdout",
     "output_type": "stream",
     "text": [
      "File `guessing_game.py` exists. Overwrite (y/[N])?  y\n",
      "The following commands were written to file `guessing_game.py`:\n",
      "from random import randint\n",
      "def game ():\n",
      "    ans = randint(1, 100)\n",
      "    guess = -1\n",
      "\n",
      "    while guess != ans:\n",
      "        guess = int(input(\"請輸入一個數字 (1-100): \"))\n",
      "\n",
      "        if guess>ans:\n",
      "            print(\"太大了!\")\n",
      "        elif guess<ans:\n",
      "            print(\"太小了!\")\n",
      "        else:\n",
      "            print(\"太神了!\")\n",
      "play = True\n",
      "\n",
      "while play:\n",
      "    game()\n",
      "    print(\"ヽ(∀ﾟ )人(ﾟ∀ﾟ)人( ﾟ∀)人(∀ﾟ )ﾉ\")\n",
      "    again = input(\"再玩一次?\")\n",
      "    if again == 'no':\n",
      "        play = False\n"
     ]
    }
   ],
   "source": [
    "%save \"guessing_game.py\" 2 5 8"
   ]
  },
  {
   "cell_type": "markdown",
   "metadata": {
    "slideshow": {
     "slide_type": "subslide"
    }
   },
   "source": [
    "於是我們就可以在終端機 (或 Windows 下的 Anaconda Prompt), 確定是在這個 `guessing_game.py' 這個資料夾下, 打入\n",
    "\n",
    "    python guessing_game.py\n",
    "    \n",
    "就可以執行了!\n",
    "\n",
    "![在終端機執行猜數字遊戲](game_terminal.png)"
   ]
  },
  {
   "cell_type": "code",
   "execution_count": null,
   "metadata": {},
   "outputs": [],
   "source": []
  }
 ],
 "metadata": {
  "celltoolbar": "Slideshow",
  "kernelspec": {
   "display_name": "Python 3",
   "language": "python",
   "name": "python3"
  },
  "language_info": {
   "codemirror_mode": {
    "name": "ipython",
    "version": 3
   },
   "file_extension": ".py",
   "mimetype": "text/x-python",
   "name": "python",
   "nbconvert_exporter": "python",
   "pygments_lexer": "ipython3",
   "version": "3.8.8"
  }
 },
 "nbformat": 4,
 "nbformat_minor": 2
}
