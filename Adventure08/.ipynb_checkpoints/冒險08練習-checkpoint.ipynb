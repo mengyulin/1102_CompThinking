{
 "cells": [
  {
   "cell_type": "markdown",
   "id": "83d34c66",
   "metadata": {},
   "source": [
    "[![Open In Colab](https://colab.research.google.com/assets/colab-badge.svg)](https://colab.research.google.com/github/mengyulin/1102_CompThinking/blob/main/Adventure08/冒險08練習.ipynb)\n",
    "\n",
    "# 冒險 08 練習\n",
    "\n",
    "## 練習 1\n",
    "\n",
    "找出五樣你想購買的東西，設計一個字典變數去記錄這五樣東西的價格。"
   ]
  },
  {
   "cell_type": "code",
   "execution_count": null,
   "id": "a1b237ec",
   "metadata": {},
   "outputs": [],
   "source": []
  },
  {
   "cell_type": "markdown",
   "id": "47c02ea5",
   "metadata": {},
   "source": [
    "## 練習 2\n",
    "\n",
    "承上題，你又找到一個新的東西，再把它加入你的「欲購物品資料庫」。"
   ]
  },
  {
   "cell_type": "code",
   "execution_count": null,
   "id": "70e511e9",
   "metadata": {},
   "outputs": [],
   "source": []
  }
 ],
 "metadata": {
  "kernelspec": {
   "display_name": "Python 3",
   "language": "python",
   "name": "python3"
  },
  "language_info": {
   "codemirror_mode": {
    "name": "ipython",
    "version": 3
   },
   "file_extension": ".py",
   "mimetype": "text/x-python",
   "name": "python",
   "nbconvert_exporter": "python",
   "pygments_lexer": "ipython3",
   "version": "3.8.8"
  }
 },
 "nbformat": 4,
 "nbformat_minor": 5
}
