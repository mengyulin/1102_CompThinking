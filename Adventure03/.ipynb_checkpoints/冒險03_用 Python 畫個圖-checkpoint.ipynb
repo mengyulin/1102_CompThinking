{
 "cells": [
  {
   "cell_type": "markdown",
   "metadata": {},
   "source": [
    "[![Open In Colab](https://colab.research.google.com/assets/colab-badge.svg)](https://colab.research.google.com/github/mengyulin/1102_CompThinking/blob/main/Adventure03/冒險03_用%20Python%20畫個圖.ipynb)\n",
    "\n",
    "我們現在來畫圖! 這裡我們需要引入套件 (函式庫), 開始的時候我們先不用那麼在意這些指令是什麼意思。大概知道就是要引入兩個套件:\n",
    "\n",
    "* `numpy`: 做 (數值型的) 數學運算\n",
    "* `matplotlib`: 畫圖用的標準套件 (Matlab + Plot + Library)"
   ]
  },
  {
   "cell_type": "code",
   "execution_count": null,
   "metadata": {},
   "outputs": [],
   "source": [
    "%matplotlib inline\n",
    "\n",
    "import numpy as np\n",
    "import matplotlib.pyplot as plt"
   ]
  },
  {
   "cell_type": "markdown",
   "metadata": {},
   "source": [
    "匯入 `numpy` 後即可使用常見的數學方程式與常數。例如圓周率 $\\pi$ 為 `np.pi`, 正弦函數 $\\sin$ 為 `np.sin`。故計算 $\\sin(\\pi/2)$:"
   ]
  },
  {
   "cell_type": "code",
   "execution_count": null,
   "metadata": {},
   "outputs": [],
   "source": [
    "np.sin(np.pi/2)"
   ]
  },
  {
   "cell_type": "markdown",
   "metadata": {},
   "source": [
    "注意：每個 Notebook 只需要匯入一次，並且可以在需要時再匯入。但是要匯入之後才能使用，因此每次開啟 Notebook 時都必須重新執行一次。"
   ]
  },
  {
   "cell_type": "markdown",
   "metadata": {},
   "source": [
    "![matplotlib inline](matplotlib_inline.png)\n",
    "\n",
    "我們要學的畫圖方式主要只有兩種:\n",
    "    \n",
    "* `plt.plot`: 畫折線圖\n",
    "* `plt.scatter`: 畫散佈圖\n",
    "\n",
    "首先是最重要、最常用的 `plt.plot`。"
   ]
  },
  {
   "cell_type": "code",
   "execution_count": null,
   "metadata": {},
   "outputs": [],
   "source": [
    "plt.plot([2, -5, 3, 8, -2])"
   ]
  },
  {
   "cell_type": "markdown",
   "metadata": {},
   "source": [
    "我們把 `plt.plot` 引入一個串列 (list) 的數字, 串列都是用中括號。這裡輸入的是:\n",
    "\n",
    "    [2, -5, 3, 8, -2]\n",
    "\n",
    "其實是點的 Y 座標。標準的 `plt.plot` 指令是\n",
    "\n",
    "    plt.plot(X, Y)\n",
    "\n",
    "其中 X 是點的 X 座標的串列, Y 是點的 Y 座標的串列。\n",
    "\n",
    "如果我們沒有給 X 座標, X 座標會自動以 0, 1, 2, ... 補上。然後 `plt.plot(X, Y)` 就是把這些點點出來, 再用線段連接起來, 成為折線圖。"
   ]
  },
  {
   "cell_type": "code",
   "execution_count": null,
   "metadata": {},
   "outputs": [],
   "source": [
    "# Python 的註解就是像這樣先用井字號\n",
    "# 這樣 Python 就不會理會我們打什麼\n",
    "# 接下來我們想把 (0, 2.1), (1.1, 3.4), (2.5, 1), (3.2, 5), (4.8, 7) 這幾個點連起來!\n",
    "# 之後我們會學更美的呈現法!"
   ]
  },
  {
   "cell_type": "code",
   "execution_count": null,
   "metadata": {},
   "outputs": [],
   "source": [
    "X = [0, 1.1, 2.5, 3.2, 4.8]\n",
    "Y = [2.1, 3.4, 1, 5, 7]"
   ]
  },
  {
   "cell_type": "code",
   "execution_count": null,
   "metadata": {},
   "outputs": [],
   "source": [
    "plt.plot(X, Y)"
   ]
  },
  {
   "cell_type": "markdown",
   "metadata": {},
   "source": [
    "註：上面的資料型態稱為 \"串列\" (list), 即為將一串數據存入一個變數中。串列必須放在中括號 `[ ]` 之內，且用逗號 `,` 分開（切勿使用中文符號）。"
   ]
  },
  {
   "cell_type": "code",
   "execution_count": null,
   "metadata": {},
   "outputs": [],
   "source": []
  }
 ],
 "metadata": {
  "anaconda-cloud": {},
  "kernelspec": {
   "display_name": "Python 3",
   "language": "python",
   "name": "python3"
  },
  "language_info": {
   "codemirror_mode": {
    "name": "ipython",
    "version": 3
   },
   "file_extension": ".py",
   "mimetype": "text/x-python",
   "name": "python",
   "nbconvert_exporter": "python",
   "pygments_lexer": "ipython3",
   "version": "3.8.8"
  }
 },
 "nbformat": 4,
 "nbformat_minor": 1
}
