{
 "cells": [
  {
   "cell_type": "markdown",
   "id": "1abc8e92",
   "metadata": {},
   "source": [
    "# 練習1\n",
    "\n",
    "台北市每個月平均最高溫度 (從 1 月開始) 分別是：\n",
    "\n",
    "**high = [19, 20, 22, 26, 29, 32, 34, 33, 31, 27, 24, 21]**\n",
    "\n",
    "月平均最低溫度是：\n",
    "\n",
    "**low = [13, 14, 15, 19, 22, 25, 26, 26, 24, 22, 18, 15]**\n",
    "\n",
    "1. 把這平均最高溫、最低溫分別用兩張圖畫出來。\n",
    "2. 將兩張圖放在一起。"
   ]
  },
  {
   "cell_type": "code",
   "execution_count": null,
   "id": "89da0c4e",
   "metadata": {},
   "outputs": [],
   "source": []
  }
 ],
 "metadata": {
  "kernelspec": {
   "display_name": "Python 3",
   "language": "python",
   "name": "python3"
  },
  "language_info": {
   "codemirror_mode": {
    "name": "ipython",
    "version": 3
   },
   "file_extension": ".py",
   "mimetype": "text/x-python",
   "name": "python",
   "nbconvert_exporter": "python",
   "pygments_lexer": "ipython3",
   "version": "3.8.8"
  }
 },
 "nbformat": 4,
 "nbformat_minor": 5
}
