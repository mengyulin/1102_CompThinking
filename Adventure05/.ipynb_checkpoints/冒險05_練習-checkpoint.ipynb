{
 "cells": [
  {
   "cell_type": "markdown",
   "id": "ad822a52",
   "metadata": {},
   "source": [
    "# 練習一：自由落體的位置與速度\n",
    "\n",
    "一個球的初始高程為 $z_0$, 若以垂直速度 $v_0$ 投出, 則經過 $t$ 時間後的高程 $z$ 及垂直速度 $v$ 以時間的函數表示為\n",
    "\n",
    "$$\n",
    "z(t) = z_0 + v_0\\,t + \\frac{1}{2}g\\,t^2\n",
    "$$\n",
    "\n",
    "$$\n",
    "v(t) = v_0 + g\\,t\n",
    "$$\n",
    "\n",
    "其中 $g = -9.81~\\mathrm{m/s^2}$ 為重力加速度（朝上為正）。若一球體之 $z_0 = 10$ m, $v_0 = 15$ m/s, 試繪出 $t = 0$ 至 $t = 5$ s 之高程與垂直速度隨時間的變化圖 (取至少 100 點)。"
   ]
  },
  {
   "cell_type": "code",
   "execution_count": null,
   "id": "de12f3c0",
   "metadata": {},
   "outputs": [],
   "source": []
  }
 ],
 "metadata": {
  "kernelspec": {
   "display_name": "Python 3",
   "language": "python",
   "name": "python3"
  },
  "language_info": {
   "codemirror_mode": {
    "name": "ipython",
    "version": 3
   },
   "file_extension": ".py",
   "mimetype": "text/x-python",
   "name": "python",
   "nbconvert_exporter": "python",
   "pygments_lexer": "ipython3",
   "version": "3.8.8"
  }
 },
 "nbformat": 4,
 "nbformat_minor": 5
}
