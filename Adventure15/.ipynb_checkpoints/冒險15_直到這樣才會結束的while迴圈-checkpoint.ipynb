{
 "cells": [
  {
   "cell_type": "markdown",
   "metadata": {},
   "source": [
    "[![Open In Colab](https://colab.research.google.com/assets/colab-badge.svg)](https://colab.research.google.com/github/mengyulin/1102_CompThinking/blob/main/Adventure15/冒險15_直到這樣才會結束的while迴圈.ipynb)"
   ]
  },
  {
   "cell_type": "code",
   "execution_count": 1,
   "metadata": {
    "slideshow": {
     "slide_type": "slide"
    }
   },
   "outputs": [],
   "source": [
    "%matplotlib inline\n",
    "\n",
    "import numpy as np\n",
    "import matplotlib.pyplot as plt"
   ]
  },
  {
   "cell_type": "markdown",
   "metadata": {
    "slideshow": {
     "slide_type": "slide"
    }
   },
   "source": [
    "![while 迴圈](T_while.png)\n",
    "\n",
    "        while 條件式:\n",
    "            條件符合就執行\n",
    "            \n",
    "要小心不要讓這個迴圈無窮執行。"
   ]
  },
  {
   "cell_type": "code",
   "execution_count": 2,
   "metadata": {
    "slideshow": {
     "slide_type": "slide"
    }
   },
   "outputs": [
    {
     "name": "stdout",
     "output_type": "stream",
     "text": [
      "(*´▽`*)\n",
      "(*´▽`*)(*´▽`*)\n",
      "(*´▽`*)(*´▽`*)(*´▽`*)\n",
      "(*´▽`*)(*´▽`*)(*´▽`*)(*´▽`*)\n",
      "(*´▽`*)(*´▽`*)(*´▽`*)(*´▽`*)(*´▽`*)\n"
     ]
    }
   ],
   "source": [
    "i = 1\n",
    "face = \"(*´▽`*)\"\n",
    "\n",
    "while i <= 5:\n",
    "    print(face * i)\n",
    "    i = i + 1"
   ]
  },
  {
   "cell_type": "markdown",
   "metadata": {
    "slideshow": {
     "slide_type": "slide"
    }
   },
   "source": [
    "### 【練習】拍拍機器人正式版\n",
    "\n",
    "一直和你對話, 直到你說再見..."
   ]
  },
  {
   "cell_type": "code",
   "execution_count": 3,
   "metadata": {},
   "outputs": [
    {
     "name": "stdout",
     "output_type": "stream",
     "text": [
      "> 高興\n",
      "ヾ(･∀･`): 拍拍\n",
      "\n",
      "> 生氣\n",
      "ヾ(･∀･`): 拍拍\n",
      "\n",
      "> Bye\n",
      "ヾ(･∀･`): 拍拍\n",
      "\n"
     ]
    }
   ],
   "source": [
    "message = \"\"\n",
    "\n",
    "while message != \"Bye\":\n",
    "    message = input(\"> \")\n",
    "    print(\"ヾ(･∀･`): 拍拍\")\n",
    "    print()"
   ]
  },
  {
   "cell_type": "code",
   "execution_count": null,
   "metadata": {},
   "outputs": [],
   "source": []
  }
 ],
 "metadata": {
  "celltoolbar": "Slideshow",
  "kernelspec": {
   "display_name": "Python 3",
   "language": "python",
   "name": "python3"
  },
  "language_info": {
   "codemirror_mode": {
    "name": "ipython",
    "version": 3
   },
   "file_extension": ".py",
   "mimetype": "text/x-python",
   "name": "python",
   "nbconvert_exporter": "python",
   "pygments_lexer": "ipython3",
   "version": "3.8.8"
  }
 },
 "nbformat": 4,
 "nbformat_minor": 1
}
