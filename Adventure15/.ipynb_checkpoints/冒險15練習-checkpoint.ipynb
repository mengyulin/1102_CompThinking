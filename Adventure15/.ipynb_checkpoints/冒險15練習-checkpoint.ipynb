{
 "cells": [
  {
   "cell_type": "markdown",
   "id": "143593ba",
   "metadata": {},
   "source": [
    "[![Open In Colab](https://colab.research.google.com/assets/colab-badge.svg)](https://colab.research.google.com/github/mengyulin/1102_CompThinking/blob/main/Adventure15/冒險15練習.ipynb)"
   ]
  },
  {
   "cell_type": "markdown",
   "id": "a985c0f9",
   "metadata": {},
   "source": [
    "# 冒險 15 練習\n",
    "\n",
    "改寫拍拍機器人，當使用者說 \"Bye\" 的時候，不要再顯示「拍拍」，而是顯示「Bye! 祝你一切順利！」，並結束對話。"
   ]
  },
  {
   "cell_type": "code",
   "execution_count": null,
   "id": "247d42a5",
   "metadata": {},
   "outputs": [],
   "source": []
  }
 ],
 "metadata": {
  "kernelspec": {
   "display_name": "Python 3",
   "language": "python",
   "name": "python3"
  },
  "language_info": {
   "codemirror_mode": {
    "name": "ipython",
    "version": 3
   },
   "file_extension": ".py",
   "mimetype": "text/x-python",
   "name": "python",
   "nbconvert_exporter": "python",
   "pygments_lexer": "ipython3",
   "version": "3.8.8"
  }
 },
 "nbformat": 4,
 "nbformat_minor": 5
}
