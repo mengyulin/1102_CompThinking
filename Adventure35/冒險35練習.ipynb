{
 "cells": [
  {
   "cell_type": "markdown",
   "id": "96efef0e",
   "metadata": {},
   "source": [
    "# 冒險 35 練習\n",
    "\n",
    "某大學中文系希望錄取文科成績好的學生。請使用冒險 34 的 array 快篩法，從 grades.csv 的學測成績資料中找出國文、英文及社會科成績都超過 13 級分的學生姓名。"
   ]
  },
  {
   "cell_type": "code",
   "execution_count": 1,
   "id": "48a485e0",
   "metadata": {},
   "outputs": [],
   "source": [
    "%matplotlib inline\n",
    "\n",
    "import numpy as np\n",
    "import matplotlib.pyplot as plt\n",
    "import pandas as pd"
   ]
  },
  {
   "cell_type": "code",
   "execution_count": 4,
   "id": "1647e237",
   "metadata": {},
   "outputs": [],
   "source": [
    "df = pd.read_csv('grades.csv') "
   ]
  },
  {
   "cell_type": "code",
   "execution_count": 5,
   "id": "2ba67a8e",
   "metadata": {},
   "outputs": [
    {
     "data": {
      "text/html": [
       "<div>\n",
       "<style scoped>\n",
       "    .dataframe tbody tr th:only-of-type {\n",
       "        vertical-align: middle;\n",
       "    }\n",
       "\n",
       "    .dataframe tbody tr th {\n",
       "        vertical-align: top;\n",
       "    }\n",
       "\n",
       "    .dataframe thead th {\n",
       "        text-align: right;\n",
       "    }\n",
       "</style>\n",
       "<table border=\"1\" class=\"dataframe\">\n",
       "  <thead>\n",
       "    <tr style=\"text-align: right;\">\n",
       "      <th></th>\n",
       "      <th>姓名</th>\n",
       "      <th>國文</th>\n",
       "      <th>英文</th>\n",
       "      <th>數學</th>\n",
       "      <th>自然</th>\n",
       "      <th>社會</th>\n",
       "    </tr>\n",
       "  </thead>\n",
       "  <tbody>\n",
       "    <tr>\n",
       "      <th>0</th>\n",
       "      <td>劉俊安</td>\n",
       "      <td>9</td>\n",
       "      <td>10</td>\n",
       "      <td>15</td>\n",
       "      <td>10</td>\n",
       "      <td>13</td>\n",
       "    </tr>\n",
       "    <tr>\n",
       "      <th>1</th>\n",
       "      <td>胡玉華</td>\n",
       "      <td>10</td>\n",
       "      <td>10</td>\n",
       "      <td>10</td>\n",
       "      <td>8</td>\n",
       "      <td>9</td>\n",
       "    </tr>\n",
       "    <tr>\n",
       "      <th>2</th>\n",
       "      <td>黃淑婷</td>\n",
       "      <td>13</td>\n",
       "      <td>15</td>\n",
       "      <td>8</td>\n",
       "      <td>11</td>\n",
       "      <td>14</td>\n",
       "    </tr>\n",
       "    <tr>\n",
       "      <th>3</th>\n",
       "      <td>陳上紫</td>\n",
       "      <td>10</td>\n",
       "      <td>10</td>\n",
       "      <td>8</td>\n",
       "      <td>9</td>\n",
       "      <td>14</td>\n",
       "    </tr>\n",
       "    <tr>\n",
       "      <th>4</th>\n",
       "      <td>崔靜成</td>\n",
       "      <td>13</td>\n",
       "      <td>12</td>\n",
       "      <td>14</td>\n",
       "      <td>12</td>\n",
       "      <td>13</td>\n",
       "    </tr>\n",
       "  </tbody>\n",
       "</table>\n",
       "</div>"
      ],
      "text/plain": [
       "    姓名  國文  英文  數學  自然  社會\n",
       "0  劉俊安   9  10  15  10  13\n",
       "1  胡玉華  10  10  10   8   9\n",
       "2  黃淑婷  13  15   8  11  14\n",
       "3  陳上紫  10  10   8   9  14\n",
       "4  崔靜成  13  12  14  12  13"
      ]
     },
     "execution_count": 5,
     "metadata": {},
     "output_type": "execute_result"
    }
   ],
   "source": [
    "df.head()"
   ]
  },
  {
   "cell_type": "code",
   "execution_count": 6,
   "id": "f0fe0b98",
   "metadata": {},
   "outputs": [],
   "source": [
    "name = df.姓名.values"
   ]
  },
  {
   "cell_type": "code",
   "execution_count": 7,
   "id": "4c26b471",
   "metadata": {},
   "outputs": [
    {
     "data": {
      "text/plain": [
       "array(['劉俊安', '胡玉華', '黃淑婷', '陳上紫', '崔靜成', '張雅岳', '梁俊翔', '林金鳳', '許協旺',\n",
       "       '郭雅惠', '張志偉', '周皇樺', '李正偉', '黃旭忠', '葉雅琳', '黃淑慧', '吳芝菁', '聶珮君',\n",
       "       '梁慧君', '葉曉玲', '陳智超', '黃奕霞', '沈昆純', '許惠雯', '陳竹伯', '蔡亦瑄', '戴喜寶',\n",
       "       '馮白屏', '王金鳳', '闕進綠', '連瑋玲', '林秀娟', '林建亨', '王佳蓉', '曾淑玟', '盧冠宏',\n",
       "       '詹威德', '曾怡君', '吳文伯', '段冠廷', '吳欣強', '曲秀芬', '趙恭群', '林士茜', '童心怡',\n",
       "       '謝亮夫', '柳菁蘭', '葉子豪', '陳怡婷', '朱寶原', '馮伶瑋', '劉彥斌', '黃慧綸', '駱穎琦',\n",
       "       '陳怡潔', '林意珍', '陳亭妏', '胡淳茜', '陳允凌', '芮秋辛', '曾昇喬', '周筠菁', '許立偉',\n",
       "       '張山琇', '俞志峰', '謝雅琳', '邱盈俊', '林哲法', '劉麗芬', '蔣奕任', '葉儀依', '葉必盈',\n",
       "       '陳欣玲', '吳志遠', '劉雅友', '宋美珠', '周育霖', '黃介喬', '葉孟名', '宣宣士', '施雅鈴',\n",
       "       '楊彥伶', '蕭呈萍', '李士賢', '胡凱琳', '張雅彬', '林貞儀', '趙偉希', '戴青英', '郭順誠',\n",
       "       '胡勝傑', '陳登翰', '蔡淑孝', '李曼夢', '林與忠', '蔡佳燕', '吳筱婷', '陳家銘', '李明威',\n",
       "       '農揚勇'], dtype=object)"
      ]
     },
     "execution_count": 7,
     "metadata": {},
     "output_type": "execute_result"
    }
   ],
   "source": [
    "name"
   ]
  },
  {
   "cell_type": "code",
   "execution_count": 8,
   "id": "134bd0c0",
   "metadata": {},
   "outputs": [
    {
     "data": {
      "text/plain": [
       "array([ 9, 10, 13, 10, 13, 13, 11,  8,  9, 10, 14, 13, 11, 15,  8, 11, 14,\n",
       "       12,  9, 14, 13,  9, 12, 10, 10, 13, 13,  8, 15, 14,  8, 15,  9, 14,\n",
       "       13, 14, 12, 11,  8,  9, 12, 14, 14, 12, 13,  9, 14,  8, 15, 10, 12,\n",
       "       14, 12, 14, 15,  9, 11, 12, 10, 11, 14, 14,  8, 12,  9, 13, 10, 14,\n",
       "        8, 12,  9,  9, 10, 13, 14, 13,  9, 13, 12,  9, 13, 11, 11, 10, 10,\n",
       "       10, 11, 10, 11, 13,  8, 14,  8, 11, 10,  9,  8, 14, 15,  9])"
      ]
     },
     "execution_count": 8,
     "metadata": {},
     "output_type": "execute_result"
    }
   ],
   "source": [
    "ch = df.國文.values\n",
    "ch"
   ]
  },
  {
   "cell_type": "code",
   "execution_count": 9,
   "id": "da3676b0",
   "metadata": {},
   "outputs": [
    {
     "data": {
      "text/plain": [
       "array([10, 10, 15, 10, 12, 12, 13,  9,  9, 15,  9,  9, 15, 14, 13,  8,  9,\n",
       "       11,  8,  9,  9,  8, 14, 13, 12, 13, 11, 13, 14, 11, 10, 12, 11, 15,\n",
       "       12, 11, 13, 12,  8,  8, 13, 14, 12, 15, 13,  8, 12,  9, 14, 14, 12,\n",
       "       11,  9, 10, 15, 15, 14, 15, 13, 10, 12,  8, 10, 11, 14, 14, 14,  9,\n",
       "       14, 12, 13,  8,  9, 15,  9,  8, 12, 10, 13, 10, 15,  8, 14, 14,  8,\n",
       "       11, 10, 13,  8, 13, 11, 11, 12,  9,  9, 10, 10,  9,  9, 11])"
      ]
     },
     "execution_count": 9,
     "metadata": {},
     "output_type": "execute_result"
    }
   ],
   "source": [
    "eng = df.英文.values\n",
    "eng"
   ]
  },
  {
   "cell_type": "code",
   "execution_count": 10,
   "id": "5aa6d2bf",
   "metadata": {},
   "outputs": [
    {
     "data": {
      "text/plain": [
       "array([13,  9, 14, 14, 13,  8, 14,  8, 10,  9, 12, 15, 15, 10, 14, 15,  9,\n",
       "        9, 12,  9, 13,  8,  9, 10, 14, 12,  9, 10,  8, 11, 13, 15, 11,  8,\n",
       "        9, 11, 14, 14, 12, 15,  9, 15, 15, 13, 13,  9, 14, 15, 15, 15, 11,\n",
       "       13,  9, 15, 11,  9, 10, 11, 14,  8, 15, 12,  9, 15, 15,  9,  8, 14,\n",
       "       14,  8, 14, 12, 10,  8, 11, 11, 12, 13, 11, 13, 13, 15,  9, 13, 15,\n",
       "        8, 13, 15, 10,  9, 15, 12, 11,  8, 15, 14, 15, 12, 15, 10])"
      ]
     },
     "execution_count": 10,
     "metadata": {},
     "output_type": "execute_result"
    }
   ],
   "source": [
    "soc = df.社會.values\n",
    "soc"
   ]
  },
  {
   "cell_type": "code",
   "execution_count": 11,
   "id": "88a37402",
   "metadata": {},
   "outputs": [
    {
     "data": {
      "text/plain": [
       "array([False, False, False, False, False, False, False, False, False,\n",
       "       False,  True, False, False,  True, False, False,  True, False,\n",
       "       False,  True, False, False, False, False, False, False, False,\n",
       "       False,  True,  True, False,  True, False,  True, False,  True,\n",
       "       False, False, False, False, False,  True,  True, False, False,\n",
       "       False,  True, False,  True, False, False,  True, False,  True,\n",
       "        True, False, False, False, False, False,  True,  True, False,\n",
       "       False, False, False, False,  True, False, False, False, False,\n",
       "       False, False,  True, False, False, False, False, False, False,\n",
       "       False, False, False, False, False, False, False, False, False,\n",
       "       False,  True, False, False, False, False, False,  True,  True,\n",
       "       False])"
      ]
     },
     "execution_count": 11,
     "metadata": {},
     "output_type": "execute_result"
    }
   ],
   "source": [
    "ch > 13"
   ]
  },
  {
   "cell_type": "code",
   "execution_count": 12,
   "id": "98de6b8b",
   "metadata": {},
   "outputs": [
    {
     "data": {
      "text/plain": [
       "array([False, False,  True, False, False, False, False, False, False,\n",
       "        True, False, False,  True,  True, False, False, False, False,\n",
       "       False, False, False, False,  True, False, False, False, False,\n",
       "       False,  True, False, False, False, False,  True, False, False,\n",
       "       False, False, False, False, False,  True, False,  True, False,\n",
       "       False, False, False,  True,  True, False, False, False, False,\n",
       "        True,  True,  True,  True, False, False, False, False, False,\n",
       "       False,  True,  True,  True, False,  True, False, False, False,\n",
       "       False,  True, False, False, False, False, False, False,  True,\n",
       "       False,  True,  True, False, False, False, False, False, False,\n",
       "       False, False, False, False, False, False, False, False, False,\n",
       "       False])"
      ]
     },
     "execution_count": 12,
     "metadata": {},
     "output_type": "execute_result"
    }
   ],
   "source": [
    "eng > 13"
   ]
  },
  {
   "cell_type": "code",
   "execution_count": 13,
   "id": "e66a2230",
   "metadata": {},
   "outputs": [
    {
     "data": {
      "text/plain": [
       "array([False, False,  True,  True, False, False,  True, False, False,\n",
       "       False, False,  True,  True, False,  True,  True, False, False,\n",
       "       False, False, False, False, False, False,  True, False, False,\n",
       "       False, False, False, False,  True, False, False, False, False,\n",
       "        True,  True, False,  True, False,  True,  True, False, False,\n",
       "       False,  True,  True,  True,  True, False, False, False,  True,\n",
       "       False, False, False, False,  True, False,  True, False, False,\n",
       "        True,  True, False, False,  True,  True, False,  True, False,\n",
       "       False, False, False, False, False, False, False, False, False,\n",
       "        True, False, False,  True, False, False,  True, False, False,\n",
       "        True, False, False, False,  True,  True,  True, False,  True,\n",
       "       False])"
      ]
     },
     "execution_count": 13,
     "metadata": {},
     "output_type": "execute_result"
    }
   ],
   "source": [
    "soc > 13"
   ]
  },
  {
   "cell_type": "code",
   "execution_count": 15,
   "id": "4bcf2c76",
   "metadata": {},
   "outputs": [
    {
     "data": {
      "text/plain": [
       "array(['曲秀芬', '陳怡婷'], dtype=object)"
      ]
     },
     "execution_count": 15,
     "metadata": {},
     "output_type": "execute_result"
    }
   ],
   "source": [
    "name[(ch > 13) & (eng > 13) & (soc > 13)]"
   ]
  },
  {
   "cell_type": "code",
   "execution_count": null,
   "id": "5f159997",
   "metadata": {},
   "outputs": [],
   "source": []
  }
 ],
 "metadata": {
  "kernelspec": {
   "display_name": "Python 3",
   "language": "python",
   "name": "python3"
  },
  "language_info": {
   "codemirror_mode": {
    "name": "ipython",
    "version": 3
   },
   "file_extension": ".py",
   "mimetype": "text/x-python",
   "name": "python",
   "nbconvert_exporter": "python",
   "pygments_lexer": "ipython3",
   "version": "3.8.8"
  }
 },
 "nbformat": 4,
 "nbformat_minor": 5
}
