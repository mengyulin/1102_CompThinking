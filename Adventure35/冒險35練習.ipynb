{
 "cells": [
  {
   "cell_type": "markdown",
   "id": "f4b07fd7",
   "metadata": {
    "slideshow": {
     "slide_type": "skip"
    }
   },
   "source": [
    "[![Open In Colab](https://colab.research.google.com/assets/colab-badge.svg)](https://colab.research.google.com/github/mengyulin/1102_CompThinking/blob/main/Adventure35/冒險35練習.ipynb)"
   ]
  },
  {
   "cell_type": "markdown",
   "id": "eab289c0",
   "metadata": {},
   "source": [
    "# 冒險 35 練習\n",
    "\n",
    "某大學中文系希望錄取文科成績好的學生。請使用冒險 34 的 array 快篩法，從 grades.csv 的學測成績資料中找出國文、英文及社會科成績都超過 13 級分的學生姓名。"
   ]
  },
  {
   "cell_type": "code",
   "execution_count": null,
   "id": "14e0d8b1",
   "metadata": {},
   "outputs": [],
   "source": [
    "%matplotlib inline\n",
    "\n",
    "import numpy as np\n",
    "import matplotlib.pyplot as plt\n",
    "import pandas as pd"
   ]
  },
  {
   "cell_type": "code",
   "execution_count": null,
   "id": "5baba16e",
   "metadata": {},
   "outputs": [],
   "source": [
    "df = pd.read_csv('https://bitly.com/gradescsv') "
   ]
  },
  {
   "cell_type": "code",
   "execution_count": null,
   "id": "3c14eab4",
   "metadata": {},
   "outputs": [],
   "source": [
    "df.head()"
   ]
  },
  {
   "cell_type": "code",
   "execution_count": null,
   "id": "a0d15590",
   "metadata": {},
   "outputs": [],
   "source": [
    "name = df.姓名.values"
   ]
  },
  {
   "cell_type": "code",
   "execution_count": null,
   "id": "dd872c5a",
   "metadata": {},
   "outputs": [],
   "source": []
  },
  {
   "cell_type": "code",
   "execution_count": null,
   "id": "a08ac047",
   "metadata": {},
   "outputs": [],
   "source": []
  },
  {
   "cell_type": "code",
   "execution_count": null,
   "id": "484f7279",
   "metadata": {},
   "outputs": [],
   "source": []
  },
  {
   "cell_type": "code",
   "execution_count": null,
   "id": "0f0a4730",
   "metadata": {},
   "outputs": [],
   "source": []
  }
 ],
 "metadata": {
  "kernelspec": {
   "display_name": "Python 3",
   "language": "python",
   "name": "python3"
  },
  "language_info": {
   "codemirror_mode": {
    "name": "ipython",
    "version": 3
   },
   "file_extension": ".py",
   "mimetype": "text/x-python",
   "name": "python",
   "nbconvert_exporter": "python",
   "pygments_lexer": "ipython3",
   "version": "3.8.8"
  }
 },
 "nbformat": 4,
 "nbformat_minor": 5
}
