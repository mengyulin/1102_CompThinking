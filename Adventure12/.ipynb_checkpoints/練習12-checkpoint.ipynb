{
 "cells": [
  {
   "cell_type": "markdown",
   "id": "b03702b8",
   "metadata": {
    "slideshow": {
     "slide_type": "skip"
    }
   },
   "source": [
    "[![Open In Colab](https://colab.research.google.com/assets/colab-badge.svg)](https://colab.research.google.com/github/mengyulin/1102_CompThinking/blob/main/Adventure12/練習12.ipynb)"
   ]
  },
  {
   "cell_type": "markdown",
   "id": "4aa4c2c8",
   "metadata": {
    "slideshow": {
     "slide_type": "slide"
    }
   },
   "source": [
    "# 第一題\n",
    "\n",
    "我們的拍拍機器人，改成如果輸入的句子中有「悲傷」，才回應「拍拍」；如果有「很快樂」就回應「太棒了」；其他句子就回覆「嗯嗯」。"
   ]
  },
  {
   "cell_type": "code",
   "execution_count": null,
   "id": "e7622959",
   "metadata": {
    "slideshow": {
     "slide_type": "subslide"
    }
   },
   "outputs": [],
   "source": [
    "%matplotlib inline\n",
    "\n",
    "import numpy as np\n",
    "import matplotlib.pyplot"
   ]
  },
  {
   "cell_type": "code",
   "execution_count": null,
   "id": "8e6588b0",
   "metadata": {
    "slideshow": {
     "slide_type": "subslide"
    }
   },
   "outputs": [],
   "source": [
    "message = input(\"> \")\n",
    "\n",
    "if \"悲傷\" in message:\n",
    "    print(\"ヾ(･∀･`): 拍拍\")\n",
    "else:\n",
    "    print(\"ヾ(･∀･`): 嗯嗯\")"
   ]
  },
  {
   "cell_type": "markdown",
   "id": "d1638efa",
   "metadata": {
    "slideshow": {
     "slide_type": "slide"
    }
   },
   "source": [
    "# 第二題\n",
    "\n",
    "讓使用者輸入身高、體重。幫他算出 BMI 值，並且依 BMI 值來告訴他是正常、過量或過輕。\n",
    "\n",
    "BMI＝體重(公斤)÷身高(公尺)÷身高(公尺)\n",
    "\n",
    "衛福部資料：\n",
    "\n",
    "![BMI標準](bmi.png)"
   ]
  },
  {
   "cell_type": "code",
   "execution_count": null,
   "id": "1539a600",
   "metadata": {
    "slideshow": {
     "slide_type": "subslide"
    }
   },
   "outputs": [],
   "source": [
    "height = float(input(\"請輸入身高 (公尺):\"))\n",
    "weight = float(input(\"請輸入體重 (公斤):\"))\n",
    "\n",
    "bmi = weight / height / height\n",
    "if bmi < 18.5:\n",
    "    print(\"體重過輕\")"
   ]
  }
 ],
 "metadata": {
  "celltoolbar": "Slideshow",
  "kernelspec": {
   "display_name": "Python 3",
   "language": "python",
   "name": "python3"
  },
  "language_info": {
   "codemirror_mode": {
    "name": "ipython",
    "version": 3
   },
   "file_extension": ".py",
   "mimetype": "text/x-python",
   "name": "python",
   "nbconvert_exporter": "python",
   "pygments_lexer": "ipython3",
   "version": "3.8.8"
  }
 },
 "nbformat": 4,
 "nbformat_minor": 5
}
