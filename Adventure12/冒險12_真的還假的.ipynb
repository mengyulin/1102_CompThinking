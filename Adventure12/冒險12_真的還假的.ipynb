{
 "cells": [
  {
   "cell_type": "markdown",
   "metadata": {
    "slideshow": {
     "slide_type": "skip"
    }
   },
   "source": [
    "[![Open In Colab](https://colab.research.google.com/assets/colab-badge.svg)](https://colab.research.google.com/github/mengyulin/1102_CompThinking/blob/main/Adventure12/冒險12_真的還假的.ipynb)"
   ]
  },
  {
   "cell_type": "code",
   "execution_count": null,
   "metadata": {
    "slideshow": {
     "slide_type": "slide"
    }
   },
   "outputs": [],
   "source": [
    "%matplotlib inline\n",
    "\n",
    "import numpy as np\n",
    "import matplotlib.pyplot"
   ]
  },
  {
   "cell_type": "markdown",
   "metadata": {
    "slideshow": {
     "slide_type": "slide"
    }
   },
   "source": [
    "![條件判斷](if.png)"
   ]
  },
  {
   "cell_type": "code",
   "execution_count": null,
   "metadata": {
    "slideshow": {
     "slide_type": "subslide"
    }
   },
   "outputs": [],
   "source": [
    "2 < 3"
   ]
  },
  {
   "cell_type": "code",
   "execution_count": null,
   "metadata": {},
   "outputs": [],
   "source": [
    "3 < 2"
   ]
  },
  {
   "cell_type": "markdown",
   "metadata": {
    "slideshow": {
     "slide_type": "subslide"
    }
   },
   "source": [
    "記得 `True` 和 `False` 都是 Python 的保留常數, 代表, 嗯, true 和 false。請注意保留字的大小寫。"
   ]
  },
  {
   "cell_type": "markdown",
   "metadata": {
    "slideshow": {
     "slide_type": "subslide"
    }
   },
   "source": [
    "另外要注意的是, 要把一個變數設定成某個數字, 和要判斷某個變數的值是不是某個數字方式是不一樣的!"
   ]
  },
  {
   "cell_type": "code",
   "execution_count": null,
   "metadata": {},
   "outputs": [],
   "source": [
    "a = 7"
   ]
  },
  {
   "cell_type": "code",
   "execution_count": null,
   "metadata": {},
   "outputs": [],
   "source": [
    "a == 8"
   ]
  },
  {
   "cell_type": "markdown",
   "metadata": {
    "slideshow": {
     "slide_type": "slide"
    }
   },
   "source": [
    "再來是不等於的表示法。"
   ]
  },
  {
   "cell_type": "code",
   "execution_count": null,
   "metadata": {},
   "outputs": [],
   "source": [
    "a != 8"
   ]
  },
  {
   "cell_type": "markdown",
   "metadata": {
    "slideshow": {
     "slide_type": "subslide"
    }
   },
   "source": [
    "大於等於。"
   ]
  },
  {
   "cell_type": "code",
   "execution_count": null,
   "metadata": {},
   "outputs": [],
   "source": [
    "a >= 6"
   ]
  },
  {
   "cell_type": "code",
   "execution_count": null,
   "metadata": {},
   "outputs": [],
   "source": [
    "a <= 6"
   ]
  },
  {
   "cell_type": "markdown",
   "metadata": {
    "slideshow": {
     "slide_type": "slide"
    }
   },
   "source": [
    "## 條件判斷 (if)\n",
    "\n",
    "接著我們使用**條件判斷**指令，包含 `if`、`elif` (else if) 與 `else`。"
   ]
  },
  {
   "cell_type": "markdown",
   "metadata": {
    "slideshow": {
     "slide_type": "subslide"
    }
   },
   "source": [
    "### 一個條件成立\n",
    "\n",
    "    if 條件判斷式:\n",
    "        條件成立時執行之一\n",
    "        條件成立時執行之二\n",
    "        ...\n",
    "    後續之程式碼 ...\n",
    "\n",
    "注意：冒號是必須的！"
   ]
  },
  {
   "cell_type": "code",
   "execution_count": null,
   "metadata": {
    "slideshow": {
     "slide_type": "subslide"
    }
   },
   "outputs": [],
   "source": [
    "grade = 87\n",
    "\n",
    "if grade >= 60:\n",
    "    print(\"及格了！\")\n",
    "    print(\"再繼續加油！\")"
   ]
  },
  {
   "cell_type": "markdown",
   "metadata": {
    "slideshow": {
     "slide_type": "subslide"
    }
   },
   "source": [
    "### 一個條件成立或不成立\n",
    "\n",
    "    if 條件判斷式:\n",
    "        條件成立時執行之一\n",
    "        條件成立時執行之二\n",
    "        ...\n",
    "    else:\n",
    "        條件不成立時執行之一\n",
    "        條件不成立時執行之二\n",
    "        ...\n",
    "    後續之程式碼 ...\n",
    "    \n",
    "注意：冒號是必須的！"
   ]
  },
  {
   "cell_type": "code",
   "execution_count": null,
   "metadata": {
    "slideshow": {
     "slide_type": "subslide"
    }
   },
   "outputs": [],
   "source": [
    "grade = 87\n",
    "\n",
    "if grade >= 60:\n",
    "    print(\"太棒了，及格了！\")\n",
    "else:\n",
    "    print(\"不要灰心，再加油！\")"
   ]
  },
  {
   "cell_type": "markdown",
   "metadata": {
    "slideshow": {
     "slide_type": "subslide"
    }
   },
   "source": [
    "### 多個條件\n",
    "\n",
    "    if 條件判斷式一:\n",
    "        條件一成立時執行\n",
    "        ...\n",
    "    elif 條件判斷式二:\n",
    "        條件二成立時執行\n",
    "        ...\n",
    "    elif 條件判斷式三:\n",
    "        條件三成立時執行\n",
    "        ...\n",
    "    else:\n",
    "        以上條件都不成立時執行\n",
    "        ...\n",
    "    後續之程式碼 ...\n",
    "    \n",
    "注意：冒號是必須的！"
   ]
  },
  {
   "cell_type": "code",
   "execution_count": null,
   "metadata": {
    "slideshow": {
     "slide_type": "subslide"
    }
   },
   "outputs": [],
   "source": [
    "grade = 66\n",
    "\n",
    "if grade >= 80:\n",
    "    print('太神了!!')\n",
    "elif grade >= 60:\n",
    "    print('及格了!')\n",
    "elif grade > 50:\n",
    "    print('差一點點，再加油!')\n",
    "else:\n",
    "    print('不要灰心, 再努力一點!')"
   ]
  },
  {
   "cell_type": "markdown",
   "metadata": {
    "slideshow": {
     "slide_type": "slide"
    }
   },
   "source": [
    "Python對字串也是可以比大小的！比如說："
   ]
  },
  {
   "cell_type": "code",
   "execution_count": null,
   "metadata": {},
   "outputs": [],
   "source": [
    "'Z' > 'B'"
   ]
  },
  {
   "cell_type": "code",
   "execution_count": null,
   "metadata": {},
   "outputs": [],
   "source": [
    "'zoo' > 'zip'"
   ]
  },
  {
   "cell_type": "markdown",
   "metadata": {
    "slideshow": {
     "slide_type": "subslide"
    }
   },
   "source": [
    "還有Python很容易判斷一個字串是不是包含在另一個字串中，比方說："
   ]
  },
  {
   "cell_type": "code",
   "execution_count": null,
   "metadata": {},
   "outputs": [],
   "source": [
    "'悲傷' in '我今天很悲傷'"
   ]
  }
 ],
 "metadata": {
  "celltoolbar": "Slideshow",
  "kernelspec": {
   "display_name": "Python 3",
   "language": "python",
   "name": "python3"
  },
  "language_info": {
   "codemirror_mode": {
    "name": "ipython",
    "version": 3
   },
   "file_extension": ".py",
   "mimetype": "text/x-python",
   "name": "python",
   "nbconvert_exporter": "python",
   "pygments_lexer": "ipython3",
   "version": "3.8.8"
  }
 },
 "nbformat": 4,
 "nbformat_minor": 1
}
