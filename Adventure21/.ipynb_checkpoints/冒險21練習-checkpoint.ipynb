{
 "cells": [
  {
   "cell_type": "markdown",
   "id": "4b6a3f9e",
   "metadata": {
    "slideshow": {
     "slide_type": "skip"
    }
   },
   "source": [
    "[![Open In Colab](https://colab.research.google.com/assets/colab-badge.svg)](https://colab.research.google.com/github/mengyulin/1102_CompThinking/blob/main/Adventure21/冒險21練習.ipynb)"
   ]
  },
  {
   "cell_type": "markdown",
   "id": "f512ab9c",
   "metadata": {
    "slideshow": {
     "slide_type": "slide"
    }
   },
   "source": [
    "# 冒險 21 練習\n",
    "\n",
    "## 題目\n",
    "\n",
    "你有五個想買的東西如下表：\n",
    "\n",
    "物品 | 價格\n",
    ":------:|-----:\n",
    "    帽子 | 1350\n",
    "  休閒褲 | 2400\n",
    "  T-shirt | 800\n",
    "  西裝外套 | 7900\n",
    "  西裝褲 | 5000\n",
    "  \n",
    "今天發現發票中了 2000, 請想辦法找出小於或等於 2000 的價格。但會發現若只篩出價格不太方便。有可能設計出可以篩出價格，又能知道是哪個物品的方式嗎？"
   ]
  },
  {
   "cell_type": "markdown",
   "id": "ec8783f0",
   "metadata": {
    "slideshow": {
     "slide_type": "slide"
    }
   },
   "source": [
    "## 以字典定義物品與價格\n",
    "\n",
    "先定義字典"
   ]
  },
  {
   "cell_type": "code",
   "execution_count": null,
   "id": "bb1635ae",
   "metadata": {},
   "outputs": [],
   "source": [
    "cost = {'帽子':1350, '休閒褲':2400, 'T-shirt':800, '西裝外套':7980, '西裝褲':5000}"
   ]
  },
  {
   "cell_type": "markdown",
   "id": "b038db4b",
   "metadata": {},
   "source": [
    "測試一下："
   ]
  },
  {
   "cell_type": "code",
   "execution_count": null,
   "id": "84586ff3",
   "metadata": {},
   "outputs": [],
   "source": [
    "cost['帽子']"
   ]
  },
  {
   "cell_type": "markdown",
   "id": "f537b75f",
   "metadata": {
    "slideshow": {
     "slide_type": "subslide"
    }
   },
   "source": [
    "使用字典的函式，顯示出所有的「鍵」(key) 與「值」(value):"
   ]
  },
  {
   "cell_type": "code",
   "execution_count": null,
   "id": "09a1e00f",
   "metadata": {},
   "outputs": [],
   "source": [
    "cost.keys()"
   ]
  },
  {
   "cell_type": "code",
   "execution_count": null,
   "id": "c86b28bd",
   "metadata": {},
   "outputs": [],
   "source": [
    "cost.values()"
   ]
  },
  {
   "cell_type": "markdown",
   "id": "ce03a032",
   "metadata": {
    "slideshow": {
     "slide_type": "slide"
    }
   },
   "source": [
    "### 使用 for 迴圈 (1分)\n",
    "\n",
    "使用 for 迴圈與 if 判斷，挑出價格小於等於 2000 的物品。"
   ]
  },
  {
   "cell_type": "code",
   "execution_count": null,
   "id": "434ef3fd",
   "metadata": {},
   "outputs": [],
   "source": []
  },
  {
   "cell_type": "markdown",
   "id": "ea33f0f7",
   "metadata": {
    "slideshow": {
     "slide_type": "subslide"
    }
   },
   "source": [
    "### 使用快速串列生成法 (1分)\n",
    "\n",
    "範例："
   ]
  },
  {
   "cell_type": "code",
   "execution_count": null,
   "id": "cb362f26",
   "metadata": {},
   "outputs": [],
   "source": []
  },
  {
   "cell_type": "markdown",
   "id": "f85e39e4",
   "metadata": {
    "slideshow": {
     "slide_type": "subslide"
    }
   },
   "source": [
    "使用此方法挑出價格小於等於 2000 的物品。"
   ]
  },
  {
   "cell_type": "code",
   "execution_count": null,
   "id": "1fdb3dec",
   "metadata": {},
   "outputs": [],
   "source": []
  },
  {
   "cell_type": "markdown",
   "id": "2c35a7c8",
   "metadata": {
    "slideshow": {
     "slide_type": "slide"
    }
   },
   "source": [
    "### 使用 filter (加分題，1分)\n",
    "\n",
    "先定義一個函式，判斷價格是否小於等於 2000。"
   ]
  },
  {
   "cell_type": "code",
   "execution_count": null,
   "id": "d2bc2f11",
   "metadata": {},
   "outputs": [],
   "source": [
    "def bonus(x):\n",
    "    return x <= 2000"
   ]
  },
  {
   "cell_type": "code",
   "execution_count": null,
   "id": "7d62aee3",
   "metadata": {},
   "outputs": [],
   "source": [
    "bonus(cost['帽子'])"
   ]
  },
  {
   "cell_type": "code",
   "execution_count": null,
   "id": "9b08f4f9",
   "metadata": {},
   "outputs": [],
   "source": [
    "bonus(cost['休閒褲'])"
   ]
  },
  {
   "cell_type": "markdown",
   "id": "41d96d9b",
   "metadata": {
    "slideshow": {
     "slide_type": "subslide"
    }
   },
   "source": [
    "列出所有的價格："
   ]
  },
  {
   "cell_type": "code",
   "execution_count": null,
   "id": "0caae897",
   "metadata": {},
   "outputs": [],
   "source": [
    "cost.values()"
   ]
  },
  {
   "cell_type": "markdown",
   "id": "eb5e9981",
   "metadata": {},
   "source": [
    "使用 filter, 列出小於 2000 的價格："
   ]
  },
  {
   "cell_type": "code",
   "execution_count": null,
   "id": "8288bdcc",
   "metadata": {},
   "outputs": [],
   "source": []
  },
  {
   "cell_type": "markdown",
   "id": "7414d282",
   "metadata": {
    "slideshow": {
     "slide_type": "subslide"
    }
   },
   "source": [
    "也可以使用 `lambda`:"
   ]
  },
  {
   "cell_type": "code",
   "execution_count": null,
   "id": "3913e67b",
   "metadata": {},
   "outputs": [],
   "source": []
  },
  {
   "cell_type": "markdown",
   "id": "dda30043",
   "metadata": {
    "slideshow": {
     "slide_type": "subslide"
    }
   },
   "source": [
    "有沒有可能用此方法也輸出對應的品名？"
   ]
  },
  {
   "cell_type": "code",
   "execution_count": null,
   "id": "2e87bbb2",
   "metadata": {},
   "outputs": [],
   "source": []
  }
 ],
 "metadata": {
  "celltoolbar": "Slideshow",
  "kernelspec": {
   "display_name": "Python 3",
   "language": "python",
   "name": "python3"
  },
  "language_info": {
   "codemirror_mode": {
    "name": "ipython",
    "version": 3
   },
   "file_extension": ".py",
   "mimetype": "text/x-python",
   "name": "python",
   "nbconvert_exporter": "python",
   "pygments_lexer": "ipython3",
   "version": "3.8.8"
  }
 },
 "nbformat": 4,
 "nbformat_minor": 5
}
