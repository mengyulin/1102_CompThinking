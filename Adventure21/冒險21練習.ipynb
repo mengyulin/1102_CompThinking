{
 "cells": [
  {
   "cell_type": "markdown",
   "id": "4fb54c9b",
   "metadata": {
    "slideshow": {
     "slide_type": "slide"
    }
   },
   "source": [
    "# 冒險 21 練習\n",
    "\n",
    "## 題目\n",
    "\n",
    "你有五個想買的東西如下表：\n",
    "\n",
    "物品 | 價格\n",
    ":------:|-----:\n",
    "    帽子 | 1350\n",
    "  休閒褲 | 2400\n",
    "  T-shirt | 800\n",
    "  西裝外套 | 7900\n",
    "  西裝褲 | 5000\n",
    "  \n",
    "今天發現發票中了 2000, 請想辦法找出小於或等於 2000 的價格。但會發現若只篩出價格不太方便。有可能設計出可以篩出價格，又能知道是哪個物品的方式嗎？"
   ]
  },
  {
   "cell_type": "markdown",
   "id": "730a3168",
   "metadata": {
    "slideshow": {
     "slide_type": "slide"
    }
   },
   "source": [
    "## 以字典定義物品與價格\n",
    "\n",
    "先定義字典"
   ]
  },
  {
   "cell_type": "code",
   "execution_count": 39,
   "id": "1a1f4556",
   "metadata": {},
   "outputs": [],
   "source": [
    "cost = {'帽子':1350, '休閒褲':2400, 'T-shirt':800, '西裝外套':7980, '西裝褲':5000}"
   ]
  },
  {
   "cell_type": "markdown",
   "id": "f51b254a",
   "metadata": {},
   "source": [
    "測試一下："
   ]
  },
  {
   "cell_type": "code",
   "execution_count": 40,
   "id": "496681dc",
   "metadata": {},
   "outputs": [
    {
     "data": {
      "text/plain": [
       "1350"
      ]
     },
     "execution_count": 40,
     "metadata": {},
     "output_type": "execute_result"
    }
   ],
   "source": [
    "cost['帽子']"
   ]
  },
  {
   "cell_type": "markdown",
   "id": "8ee0318e",
   "metadata": {
    "slideshow": {
     "slide_type": "subslide"
    }
   },
   "source": [
    "使用字典的函式，顯示出所有的「鍵」(key) 與「值」(value):"
   ]
  },
  {
   "cell_type": "code",
   "execution_count": 41,
   "id": "c5447ebd",
   "metadata": {},
   "outputs": [
    {
     "data": {
      "text/plain": [
       "dict_keys(['帽子', '休閒褲', 'T-shirt', '西裝外套', '西裝褲'])"
      ]
     },
     "execution_count": 41,
     "metadata": {},
     "output_type": "execute_result"
    }
   ],
   "source": [
    "cost.keys()"
   ]
  },
  {
   "cell_type": "code",
   "execution_count": 42,
   "id": "d53ee0aa",
   "metadata": {},
   "outputs": [
    {
     "data": {
      "text/plain": [
       "dict_values([1350, 2400, 800, 7980, 5000])"
      ]
     },
     "execution_count": 42,
     "metadata": {},
     "output_type": "execute_result"
    }
   ],
   "source": [
    "cost.values()"
   ]
  },
  {
   "cell_type": "markdown",
   "id": "363496e7",
   "metadata": {
    "slideshow": {
     "slide_type": "slide"
    }
   },
   "source": [
    "### 使用 for 迴圈 (1分)\n",
    "\n",
    "使用 for 迴圈與 if 判斷，挑出價格小於等於 2000 的物品。"
   ]
  },
  {
   "cell_type": "code",
   "execution_count": 43,
   "id": "c795d522",
   "metadata": {},
   "outputs": [
    {
     "name": "stdout",
     "output_type": "stream",
     "text": [
      "帽子 1350\n",
      "T-shirt 800\n"
     ]
    }
   ],
   "source": [
    "for item in cost.keys():\n",
    "    if cost[item] <= 2000:\n",
    "        print(item, cost[item])"
   ]
  },
  {
   "cell_type": "markdown",
   "id": "9cf737a0",
   "metadata": {
    "slideshow": {
     "slide_type": "subslide"
    }
   },
   "source": [
    "### 使用快速串列生成法 (1分)\n",
    "\n",
    "範例："
   ]
  },
  {
   "cell_type": "code",
   "execution_count": 52,
   "id": "3692eafc",
   "metadata": {},
   "outputs": [
    {
     "data": {
      "text/plain": [
       "[2, 4, 6, 8, 10, 12, 14, 16, 18, 20]"
      ]
     },
     "execution_count": 52,
     "metadata": {},
     "output_type": "execute_result"
    }
   ],
   "source": [
    "egg = list(range(1, 21))     # egg = [1, 2, 3, 4, 5, ..., 19, 20]\n",
    "[k for k in egg if k%2 == 0]"
   ]
  },
  {
   "cell_type": "markdown",
   "id": "09059687",
   "metadata": {
    "slideshow": {
     "slide_type": "subslide"
    }
   },
   "source": [
    "使用此方法挑出價格小於等於 2000 的物品。"
   ]
  },
  {
   "cell_type": "code",
   "execution_count": 44,
   "id": "7f6ddedf",
   "metadata": {},
   "outputs": [
    {
     "data": {
      "text/plain": [
       "[['帽子', 1350], ['T-shirt', 800]]"
      ]
     },
     "execution_count": 44,
     "metadata": {},
     "output_type": "execute_result"
    }
   ],
   "source": [
    "[[item, cost[item]] for item in cost.keys() if cost[item] <= 2000]"
   ]
  },
  {
   "cell_type": "markdown",
   "id": "2f634e4f",
   "metadata": {
    "slideshow": {
     "slide_type": "slide"
    }
   },
   "source": [
    "### 使用 filter (加分題，1分)\n",
    "\n",
    "先定義一個函式，判斷價格是否小於等於 2000。"
   ]
  },
  {
   "cell_type": "code",
   "execution_count": 45,
   "id": "92d6e5ca",
   "metadata": {},
   "outputs": [],
   "source": [
    "def bonus(x):\n",
    "    return x <= 2000"
   ]
  },
  {
   "cell_type": "code",
   "execution_count": 46,
   "id": "07c7e2e5",
   "metadata": {},
   "outputs": [
    {
     "data": {
      "text/plain": [
       "True"
      ]
     },
     "execution_count": 46,
     "metadata": {},
     "output_type": "execute_result"
    }
   ],
   "source": [
    "bonus(cost['帽子'])"
   ]
  },
  {
   "cell_type": "code",
   "execution_count": 47,
   "id": "cfbff573",
   "metadata": {},
   "outputs": [
    {
     "data": {
      "text/plain": [
       "False"
      ]
     },
     "execution_count": 47,
     "metadata": {},
     "output_type": "execute_result"
    }
   ],
   "source": [
    "bonus(cost['休閒褲'])"
   ]
  },
  {
   "cell_type": "markdown",
   "id": "29991298",
   "metadata": {
    "slideshow": {
     "slide_type": "subslide"
    }
   },
   "source": [
    "列出所有的價格："
   ]
  },
  {
   "cell_type": "code",
   "execution_count": 48,
   "id": "f8cca381",
   "metadata": {},
   "outputs": [
    {
     "data": {
      "text/plain": [
       "dict_values([1350, 2400, 800, 7980, 5000])"
      ]
     },
     "execution_count": 48,
     "metadata": {},
     "output_type": "execute_result"
    }
   ],
   "source": [
    "cost.values()"
   ]
  },
  {
   "cell_type": "markdown",
   "id": "b060d151",
   "metadata": {},
   "source": [
    "使用 filter, 列出小於 2000 的價格："
   ]
  },
  {
   "cell_type": "code",
   "execution_count": 49,
   "id": "be4358d4",
   "metadata": {},
   "outputs": [
    {
     "data": {
      "text/plain": [
       "[1350, 800]"
      ]
     },
     "execution_count": 49,
     "metadata": {},
     "output_type": "execute_result"
    }
   ],
   "source": [
    "list(filter(bonus, cost.values()))"
   ]
  },
  {
   "cell_type": "markdown",
   "id": "7ec67080",
   "metadata": {
    "slideshow": {
     "slide_type": "subslide"
    }
   },
   "source": [
    "也可以使用 `lambda`:"
   ]
  },
  {
   "cell_type": "code",
   "execution_count": 50,
   "id": "d4784b09",
   "metadata": {},
   "outputs": [
    {
     "data": {
      "text/plain": [
       "[1350, 800]"
      ]
     },
     "execution_count": 50,
     "metadata": {},
     "output_type": "execute_result"
    }
   ],
   "source": [
    "list(filter(lambda x:x<=2000, cost.values()))"
   ]
  },
  {
   "cell_type": "markdown",
   "id": "4ca2cb9f",
   "metadata": {
    "slideshow": {
     "slide_type": "subslide"
    }
   },
   "source": [
    "有沒有可能用此方法也輸出對應的品名？"
   ]
  },
  {
   "cell_type": "code",
   "execution_count": null,
   "id": "398dbeb2",
   "metadata": {},
   "outputs": [],
   "source": []
  }
 ],
 "metadata": {
  "celltoolbar": "Slideshow",
  "kernelspec": {
   "display_name": "Python 3",
   "language": "python",
   "name": "python3"
  },
  "language_info": {
   "codemirror_mode": {
    "name": "ipython",
    "version": 3
   },
   "file_extension": ".py",
   "mimetype": "text/x-python",
   "name": "python",
   "nbconvert_exporter": "python",
   "pygments_lexer": "ipython3",
   "version": "3.8.8"
  }
 },
 "nbformat": 4,
 "nbformat_minor": 5
}
