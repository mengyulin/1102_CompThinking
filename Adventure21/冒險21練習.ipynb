{
 "cells": [
  {
   "cell_type": "markdown",
   "id": "554dce0a",
   "metadata": {
    "slideshow": {
     "slide_type": "skip"
    }
   },
   "source": [
    "[![Open In Colab](https://colab.research.google.com/assets/colab-badge.svg)](https://colab.research.google.com/github/mengyulin/1102_CompThinking/blob/main/Adventure21/冒險21練習.ipynb)"
   ]
  },
  {
   "cell_type": "markdown",
   "id": "46f9b372",
   "metadata": {
    "slideshow": {
     "slide_type": "slide"
    }
   },
   "source": [
    "# 冒險 21 練習\n",
    "\n",
    "## 題目\n",
    "\n",
    "你有五個想買的東西如下表：\n",
    "\n",
    "物品 | 價格\n",
    ":------:|-----:\n",
    "    帽子 | 1350\n",
    "  休閒褲 | 2400\n",
    "  T-shirt | 800\n",
    "  西裝外套 | 7900\n",
    "  西裝褲 | 5000\n",
    "  \n",
    "今天發現發票中了 2000, 請想辦法找出小於或等於 2000 的價格。但會發現若只篩出價格不太方便。有可能設計出可以篩出價格，又能知道是哪個物品的方式嗎？"
   ]
  },
  {
   "cell_type": "markdown",
   "id": "6c8d1eaa",
   "metadata": {
    "slideshow": {
     "slide_type": "slide"
    }
   },
   "source": [
    "## 以字典定義物品與價格\n",
    "\n",
    "先定義字典"
   ]
  },
  {
   "cell_type": "code",
   "execution_count": 1,
   "id": "8e26d92d",
   "metadata": {},
   "outputs": [],
   "source": [
    "cost = {'帽子':1350, '休閒褲':2400, 'T-shirt':800, '西裝外套':7980, '西裝褲':5000}"
   ]
  },
  {
   "cell_type": "markdown",
   "id": "e799d4f3",
   "metadata": {},
   "source": [
    "測試一下："
   ]
  },
  {
   "cell_type": "code",
   "execution_count": 3,
   "id": "fd0d4b11",
   "metadata": {},
   "outputs": [
    {
     "data": {
      "text/plain": [
       "800"
      ]
     },
     "execution_count": 3,
     "metadata": {},
     "output_type": "execute_result"
    }
   ],
   "source": [
    "cost['T-shirt']   # key, 鍵; value, 值"
   ]
  },
  {
   "cell_type": "markdown",
   "id": "3659e8b8",
   "metadata": {
    "slideshow": {
     "slide_type": "subslide"
    }
   },
   "source": [
    "使用字典的函式，顯示出所有的「鍵」(key) 與「值」(value):"
   ]
  },
  {
   "cell_type": "code",
   "execution_count": 4,
   "id": "d8a1d07c",
   "metadata": {},
   "outputs": [
    {
     "data": {
      "text/plain": [
       "dict_keys(['帽子', '休閒褲', 'T-shirt', '西裝外套', '西裝褲'])"
      ]
     },
     "execution_count": 4,
     "metadata": {},
     "output_type": "execute_result"
    }
   ],
   "source": [
    "cost.keys()"
   ]
  },
  {
   "cell_type": "code",
   "execution_count": 5,
   "id": "3ebd8699",
   "metadata": {},
   "outputs": [
    {
     "data": {
      "text/plain": [
       "dict_values([1350, 2400, 800, 7980, 5000])"
      ]
     },
     "execution_count": 5,
     "metadata": {},
     "output_type": "execute_result"
    }
   ],
   "source": [
    "cost.values()"
   ]
  },
  {
   "cell_type": "markdown",
   "id": "f8831f9c",
   "metadata": {
    "slideshow": {
     "slide_type": "slide"
    }
   },
   "source": [
    "### 使用 for 迴圈 (10分)\n",
    "\n",
    "使用 for 迴圈與 if 判斷，挑出價格小於等於 2000 的物品。"
   ]
  },
  {
   "cell_type": "code",
   "execution_count": 7,
   "id": "6f0ce15a",
   "metadata": {},
   "outputs": [
    {
     "name": "stdout",
     "output_type": "stream",
     "text": [
      "帽子\n",
      "休閒褲\n",
      "T-shirt\n",
      "西裝外套\n",
      "西裝褲\n"
     ]
    }
   ],
   "source": [
    "for item in cost.keys():\n",
    "    if .....:\n",
    "        print()\n"
   ]
  },
  {
   "cell_type": "markdown",
   "id": "0d6ab3e7",
   "metadata": {
    "slideshow": {
     "slide_type": "subslide"
    }
   },
   "source": [
    "### 使用快速串列生成法 (10分)\n",
    "\n",
    "範例："
   ]
  },
  {
   "cell_type": "code",
   "execution_count": 9,
   "id": "1d9d6447",
   "metadata": {},
   "outputs": [
    {
     "data": {
      "text/plain": [
       "[2, 4, 6, 8, 10, 12, 14, 16, 18, 20]"
      ]
     },
     "execution_count": 9,
     "metadata": {},
     "output_type": "execute_result"
    }
   ],
   "source": [
    "egg = list(range(1,21))\n",
    "[k for k in egg if k%2 == 0]"
   ]
  },
  {
   "cell_type": "markdown",
   "id": "1f894d94",
   "metadata": {
    "slideshow": {
     "slide_type": "subslide"
    }
   },
   "source": [
    "使用此方法挑出價格小於等於 2000 的物品。"
   ]
  },
  {
   "cell_type": "code",
   "execution_count": null,
   "id": "f31d9427",
   "metadata": {},
   "outputs": [],
   "source": []
  },
  {
   "cell_type": "markdown",
   "id": "bf77bd68",
   "metadata": {
    "slideshow": {
     "slide_type": "slide"
    }
   },
   "source": [
    "### 使用 filter (加分題，10分)\n",
    "\n",
    "先定義一個函式，判斷價格是否小於等於 2000。"
   ]
  },
  {
   "cell_type": "code",
   "execution_count": 10,
   "id": "a9370845",
   "metadata": {},
   "outputs": [],
   "source": [
    "def bonus(x):\n",
    "    return x <= 2000"
   ]
  },
  {
   "cell_type": "code",
   "execution_count": 11,
   "id": "c3374860",
   "metadata": {},
   "outputs": [
    {
     "data": {
      "text/plain": [
       "True"
      ]
     },
     "execution_count": 11,
     "metadata": {},
     "output_type": "execute_result"
    }
   ],
   "source": [
    "bonus(cost['帽子'])"
   ]
  },
  {
   "cell_type": "code",
   "execution_count": 12,
   "id": "57abed30",
   "metadata": {},
   "outputs": [
    {
     "data": {
      "text/plain": [
       "False"
      ]
     },
     "execution_count": 12,
     "metadata": {},
     "output_type": "execute_result"
    }
   ],
   "source": [
    "bonus(cost['休閒褲'])"
   ]
  },
  {
   "cell_type": "markdown",
   "id": "0ce1b4f3",
   "metadata": {
    "slideshow": {
     "slide_type": "subslide"
    }
   },
   "source": [
    "列出所有的價格："
   ]
  },
  {
   "cell_type": "code",
   "execution_count": null,
   "id": "f609503f",
   "metadata": {},
   "outputs": [],
   "source": [
    "cost.values()"
   ]
  },
  {
   "cell_type": "markdown",
   "id": "cbed0bab",
   "metadata": {},
   "source": [
    "使用 filter, 列出小於 2000 的價格："
   ]
  },
  {
   "cell_type": "code",
   "execution_count": null,
   "id": "caecfabd",
   "metadata": {},
   "outputs": [],
   "source": []
  },
  {
   "cell_type": "markdown",
   "id": "ef83ac58",
   "metadata": {
    "slideshow": {
     "slide_type": "subslide"
    }
   },
   "source": [
    "也可以使用 `lambda`:"
   ]
  },
  {
   "cell_type": "code",
   "execution_count": null,
   "id": "240ae72d",
   "metadata": {},
   "outputs": [],
   "source": []
  },
  {
   "cell_type": "markdown",
   "id": "14e9898a",
   "metadata": {
    "slideshow": {
     "slide_type": "subslide"
    }
   },
   "source": [
    "有沒有可能用此方法也輸出對應的品名？"
   ]
  },
  {
   "cell_type": "code",
   "execution_count": null,
   "id": "7286d664",
   "metadata": {},
   "outputs": [],
   "source": []
  }
 ],
 "metadata": {
  "celltoolbar": "Slideshow",
  "kernelspec": {
   "display_name": "Python 3",
   "language": "python",
   "name": "python3"
  },
  "language_info": {
   "codemirror_mode": {
    "name": "ipython",
    "version": 3
   },
   "file_extension": ".py",
   "mimetype": "text/x-python",
   "name": "python",
   "nbconvert_exporter": "python",
   "pygments_lexer": "ipython3",
   "version": "3.8.8"
  }
 },
 "nbformat": 4,
 "nbformat_minor": 5
}
