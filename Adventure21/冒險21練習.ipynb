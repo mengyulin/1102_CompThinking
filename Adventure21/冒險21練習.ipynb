{
 "cells": [
  {
   "cell_type": "markdown",
   "id": "90340d5f",
   "metadata": {
    "slideshow": {
     "slide_type": "skip"
    }
   },
   "source": [
    "[![Open In Colab](https://colab.research.google.com/assets/colab-badge.svg)](https://colab.research.google.com/github/mengyulin/1102_CompThinking/blob/main/Adventure21/冒險21練習.ipynb)"
   ]
  },
  {
   "cell_type": "markdown",
   "id": "40391e54",
   "metadata": {
    "slideshow": {
     "slide_type": "slide"
    }
   },
   "source": [
    "# 冒險 21 練習\n",
    "\n",
    "## 題目\n",
    "\n",
    "你有五個想買的東西如下表：\n",
    "\n",
    "物品 | 價格\n",
    ":------:|-----:\n",
    "    帽子 | 1350\n",
    "  休閒褲 | 2400\n",
    "  T-shirt | 800\n",
    "  西裝外套 | 7900\n",
    "  西裝褲 | 5000\n",
    "  \n",
    "今天發現發票中了 2000, 請想辦法找出小於或等於 2000 的價格。但會發現若只篩出價格不太方便。有可能設計出可以篩出價格，又能知道是哪個物品的方式嗎？"
   ]
  },
  {
   "cell_type": "markdown",
   "id": "cb57ce72",
   "metadata": {
    "slideshow": {
     "slide_type": "slide"
    }
   },
   "source": [
    "## 以字典定義物品與價格\n",
    "\n",
    "先定義字典"
   ]
  },
  {
   "cell_type": "code",
   "execution_count": null,
   "id": "c724935b",
   "metadata": {},
   "outputs": [],
   "source": [
    "cost = {'帽子':1350, '休閒褲':2400, 'T-shirt':800, '西裝外套':7980, '西裝褲':5000}"
   ]
  },
  {
   "cell_type": "markdown",
   "id": "37d32ba6",
   "metadata": {},
   "source": [
    "測試一下："
   ]
  },
  {
   "cell_type": "code",
   "execution_count": null,
   "id": "081f2512",
   "metadata": {},
   "outputs": [],
   "source": [
    "cost['帽子']"
   ]
  },
  {
   "cell_type": "markdown",
   "id": "a658cca0",
   "metadata": {
    "slideshow": {
     "slide_type": "subslide"
    }
   },
   "source": [
    "使用字典的函式，顯示出所有的「鍵」(key) 與「值」(value):"
   ]
  },
  {
   "cell_type": "code",
   "execution_count": null,
   "id": "7b94d1f3",
   "metadata": {},
   "outputs": [],
   "source": [
    "cost.keys()"
   ]
  },
  {
   "cell_type": "code",
   "execution_count": null,
   "id": "ccc3bf7f",
   "metadata": {},
   "outputs": [],
   "source": [
    "cost.values()"
   ]
  },
  {
   "cell_type": "markdown",
   "id": "6ee583a3",
   "metadata": {
    "slideshow": {
     "slide_type": "slide"
    }
   },
   "source": [
    "### 使用 for 迴圈 (10分)\n",
    "\n",
    "使用 for 迴圈與 if 判斷，挑出價格小於等於 2000 的物品。"
   ]
  },
  {
   "cell_type": "code",
   "execution_count": null,
   "id": "47323eb4",
   "metadata": {},
   "outputs": [],
   "source": []
  },
  {
   "cell_type": "markdown",
   "id": "063d8d7f",
   "metadata": {
    "slideshow": {
     "slide_type": "subslide"
    }
   },
   "source": [
    "### 使用快速串列生成法 (10分)\n",
    "\n",
    "範例："
   ]
  },
  {
   "cell_type": "code",
   "execution_count": null,
   "id": "89014387",
   "metadata": {},
   "outputs": [],
   "source": []
  },
  {
   "cell_type": "markdown",
   "id": "b773e40d",
   "metadata": {
    "slideshow": {
     "slide_type": "subslide"
    }
   },
   "source": [
    "使用此方法挑出價格小於等於 2000 的物品。"
   ]
  },
  {
   "cell_type": "code",
   "execution_count": null,
   "id": "32272ea6",
   "metadata": {},
   "outputs": [],
   "source": []
  },
  {
   "cell_type": "markdown",
   "id": "4d8dc705",
   "metadata": {
    "slideshow": {
     "slide_type": "slide"
    }
   },
   "source": [
    "### 使用 filter (加分題，10分)\n",
    "\n",
    "先定義一個函式，判斷價格是否小於等於 2000。"
   ]
  },
  {
   "cell_type": "code",
   "execution_count": null,
   "id": "1ccb93af",
   "metadata": {},
   "outputs": [],
   "source": [
    "def bonus(x):\n",
    "    return x <= 2000"
   ]
  },
  {
   "cell_type": "code",
   "execution_count": null,
   "id": "4fb27b08",
   "metadata": {},
   "outputs": [],
   "source": [
    "bonus(cost['帽子'])"
   ]
  },
  {
   "cell_type": "code",
   "execution_count": null,
   "id": "48aee329",
   "metadata": {},
   "outputs": [],
   "source": [
    "bonus(cost['休閒褲'])"
   ]
  },
  {
   "cell_type": "markdown",
   "id": "569efc23",
   "metadata": {
    "slideshow": {
     "slide_type": "subslide"
    }
   },
   "source": [
    "列出所有的價格："
   ]
  },
  {
   "cell_type": "code",
   "execution_count": null,
   "id": "e79e6f08",
   "metadata": {},
   "outputs": [],
   "source": [
    "cost.values()"
   ]
  },
  {
   "cell_type": "markdown",
   "id": "8b093ad7",
   "metadata": {},
   "source": [
    "使用 filter, 列出小於 2000 的價格："
   ]
  },
  {
   "cell_type": "code",
   "execution_count": null,
   "id": "dbacee12",
   "metadata": {},
   "outputs": [],
   "source": []
  },
  {
   "cell_type": "markdown",
   "id": "27135f5d",
   "metadata": {
    "slideshow": {
     "slide_type": "subslide"
    }
   },
   "source": [
    "也可以使用 `lambda`:"
   ]
  },
  {
   "cell_type": "code",
   "execution_count": null,
   "id": "ad5e0d9d",
   "metadata": {},
   "outputs": [],
   "source": []
  },
  {
   "cell_type": "markdown",
   "id": "4df59031",
   "metadata": {
    "slideshow": {
     "slide_type": "subslide"
    }
   },
   "source": [
    "有沒有可能用此方法也輸出對應的品名？"
   ]
  },
  {
   "cell_type": "code",
   "execution_count": null,
   "id": "4c3a900f",
   "metadata": {},
   "outputs": [],
   "source": []
  }
 ],
 "metadata": {
  "celltoolbar": "Slideshow",
  "kernelspec": {
   "display_name": "Python 3",
   "language": "python",
   "name": "python3"
  },
  "language_info": {
   "codemirror_mode": {
    "name": "ipython",
    "version": 3
   },
   "file_extension": ".py",
   "mimetype": "text/x-python",
   "name": "python",
   "nbconvert_exporter": "python",
   "pygments_lexer": "ipython3",
   "version": "3.8.8"
  }
 },
 "nbformat": 4,
 "nbformat_minor": 5
}
