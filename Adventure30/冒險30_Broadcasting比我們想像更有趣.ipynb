{
 "cells": [
  {
   "cell_type": "markdown",
   "metadata": {
    "slideshow": {
     "slide_type": "skip"
    }
   },
   "source": [
    "[![Open In Colab](https://colab.research.google.com/assets/colab-badge.svg)](https://colab.research.google.com/github/mengyulin/1102_CompThinking/blob/main/Adventure30/冒險30_Broadcasting比我們想像更有趣.ipynb)"
   ]
  },
  {
   "cell_type": "markdown",
   "metadata": {
    "slideshow": {
     "slide_type": "slide"
    }
   },
   "source": [
    "# 冒險 30 Broadcasting 比我們想像更有趣"
   ]
  },
  {
   "cell_type": "code",
   "execution_count": null,
   "metadata": {},
   "outputs": [],
   "source": [
    "%matplotlib inline\n",
    "\n",
    "import numpy as np\n",
    "import matplotlib.pyplot as plt"
   ]
  },
  {
   "cell_type": "markdown",
   "metadata": {
    "slideshow": {
     "slide_type": "subslide"
    }
   },
   "source": [
    "## Broadcasting\n",
    "\n",
    "我們之前「一次調分」神技，其實是用了 Broadcasting 廣播的功能！\n",
    "\n",
    "現在來複習一下，狀況弄簡單一點。有一位同學的成績是這樣：平時成績85分、期中考70分、期末考80分。"
   ]
  },
  {
   "cell_type": "code",
   "execution_count": null,
   "metadata": {},
   "outputs": [],
   "source": [
    "grades = np.array([85, 70, 80])"
   ]
  },
  {
   "cell_type": "markdown",
   "metadata": {},
   "source": [
    "如果平時、期中、期末的成績都要乘以 1.1倍。那就讓1.1「廣播」到每一個分數，然後相乘。"
   ]
  },
  {
   "cell_type": "code",
   "execution_count": null,
   "metadata": {},
   "outputs": [],
   "source": [
    "grades * 1.1"
   ]
  },
  {
   "cell_type": "markdown",
   "metadata": {
    "slideshow": {
     "slide_type": "subslide"
    }
   },
   "source": [
    "我們想幫這位同學算學期成績，學期成績通常有一個加權方式，像是平時成績佔20%、期中考佔35%、期末考佔45%。"
   ]
  },
  {
   "cell_type": "code",
   "execution_count": null,
   "metadata": {},
   "outputs": [],
   "source": [
    "weights = np.array([0.2, 0.35, 0.45])"
   ]
  },
  {
   "cell_type": "markdown",
   "metadata": {},
   "source": [
    "平時、期中、期末加權成績。"
   ]
  },
  {
   "cell_type": "code",
   "execution_count": null,
   "metadata": {},
   "outputs": [],
   "source": [
    "wgrades = grades * weights"
   ]
  },
  {
   "cell_type": "code",
   "execution_count": null,
   "metadata": {},
   "outputs": [],
   "source": [
    "wgrades"
   ]
  },
  {
   "cell_type": "markdown",
   "metadata": {
    "slideshow": {
     "slide_type": "subslide"
    }
   },
   "source": [
    "把每項成績加起來，得到最後的學期成績。"
   ]
  },
  {
   "cell_type": "code",
   "execution_count": null,
   "metadata": {},
   "outputs": [],
   "source": [
    "wgrades.sum()"
   ]
  },
  {
   "cell_type": "markdown",
   "metadata": {
    "slideshow": {
     "slide_type": "slide"
    }
   },
   "source": [
    "## 內積 (dot)\n",
    "\n",
    "更快的方法——內積 (dot product)。設有兩個向量：$\\mathbf{a}=(a_1,a_2,\\dots,a_n)$, $\\mathbf{b}=(b_1,b_2,\\dots,b_n)$, 則 $\\mathbf{a}$ 與 $\\mathbf{b}$ 之內積為\n",
    "\n",
    "$$\n",
    "\\mathbf{a}\\cdot\\mathbf{b} = a_1 b_1 + a_2 b_2 + \\dots + a_n b_2\n",
    "$$\n",
    "\n",
    "內積的 Python 指令為 `np.dot`, 亦可使用符號 `@`:"
   ]
  },
  {
   "cell_type": "code",
   "execution_count": null,
   "metadata": {},
   "outputs": [],
   "source": [
    "np.dot(grades, weights)"
   ]
  },
  {
   "cell_type": "code",
   "execution_count": null,
   "metadata": {},
   "outputs": [],
   "source": [
    "grades @ weights"
   ]
  },
  {
   "cell_type": "markdown",
   "metadata": {
    "slideshow": {
     "slide_type": "slide"
    }
   },
   "source": [
    "## 陣列之進階應用\n",
    "\n",
    "同時算三位同學的學期成績。三位同學的成績分別為\n",
    "\n",
    "| 平時成績 (20%) | 期中考 (35%) | 期末考 (45%) |\n",
    "|-------------|--------------|--------------|\n",
    "| 85          | 70           | 80           |\n",
    "| 12          | 88           | 77           |\n",
    "| 85          | 91           | 33           |\n",
    "\n",
    "可以將學期成績的計算用矩陣的乘法 (也就是內積) 來處理：\n",
    "\n",
    "$$\n",
    "\\left[\\begin{array}{ccc}\n",
    "85 & 70 & 80\\\\\n",
    "12 & 88 & 77\\\\\n",
    "85 & 91 & 33\n",
    "\\end{array}\\right] \\cdot\n",
    "\\left\\{\\begin{array}{c}\n",
    "0.2 \\\\\n",
    "0.35\\\\\n",
    "0.45\n",
    "\\end{array}\\right\\}\n",
    "= \\left\\{\\begin{array}{c}\n",
    "77.5\\\\\n",
    "67.85\\\\\n",
    "63.7\n",
    "\\end{array}\\right\\}\n",
    "$$"
   ]
  },
  {
   "cell_type": "code",
   "execution_count": null,
   "metadata": {
    "slideshow": {
     "slide_type": "subslide"
    }
   },
   "outputs": [],
   "source": [
    "grades = np.array([[85, 70, 80],\n",
    "                 [12, 88, 77],\n",
    "                 [85, 91, 33]])"
   ]
  },
  {
   "cell_type": "code",
   "execution_count": null,
   "metadata": {},
   "outputs": [],
   "source": [
    "weights = np.array([0.2, 0.35, 0.45])"
   ]
  },
  {
   "cell_type": "code",
   "execution_count": null,
   "metadata": {},
   "outputs": [],
   "source": [
    "grades @ weights"
   ]
  },
  {
   "cell_type": "markdown",
   "metadata": {
    "slideshow": {
     "slide_type": "slide"
    }
   },
   "source": [
    "## 多維陣列\n",
    "\n",
    "上面的運算用到了二維陣列。我們來了解一下 array 的不同形狀。"
   ]
  },
  {
   "cell_type": "markdown",
   "metadata": {},
   "source": [
    "一維向量"
   ]
  },
  {
   "cell_type": "code",
   "execution_count": null,
   "metadata": {},
   "outputs": [],
   "source": [
    "np.array([0, 1, 2])"
   ]
  },
  {
   "cell_type": "markdown",
   "metadata": {
    "slideshow": {
     "slide_type": "subslide"
    }
   },
   "source": [
    "二維矩陣"
   ]
  },
  {
   "cell_type": "code",
   "execution_count": null,
   "metadata": {},
   "outputs": [],
   "source": [
    "np.array([[0, 0, 0],\n",
    "        [1, 1, 1],\n",
    "        [2, 2, 2]])"
   ]
  },
  {
   "cell_type": "markdown",
   "metadata": {
    "slideshow": {
     "slide_type": "subslide"
    }
   },
   "source": [
    "三維 array\n",
    "\n",
    "![](./fig30_3.jpg)"
   ]
  },
  {
   "cell_type": "code",
   "execution_count": null,
   "metadata": {
    "slideshow": {
     "slide_type": "subslide"
    }
   },
   "outputs": [],
   "source": [
    "np.array([[[0, 0, 0],\n",
    "        [1, 1, 1],\n",
    "        [2, 2, 2]],\n",
    "        [[3, 3, 3],\n",
    "        [4, 4, 4],\n",
    "        [5, 5, 5]]])"
   ]
  }
 ],
 "metadata": {
  "celltoolbar": "Slideshow",
  "kernelspec": {
   "display_name": "Python 3",
   "language": "python",
   "name": "python3"
  },
  "language_info": {
   "codemirror_mode": {
    "name": "ipython",
    "version": 3
   },
   "file_extension": ".py",
   "mimetype": "text/x-python",
   "name": "python",
   "nbconvert_exporter": "python",
   "pygments_lexer": "ipython3",
   "version": "3.8.8"
  }
 },
 "nbformat": 4,
 "nbformat_minor": 2
}
