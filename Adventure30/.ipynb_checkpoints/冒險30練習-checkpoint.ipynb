{
 "cells": [
  {
   "cell_type": "markdown",
   "id": "3d4818cf",
   "metadata": {
    "slideshow": {
     "slide_type": "skip"
    }
   },
   "source": [
    "[![Open In Colab](https://colab.research.google.com/assets/colab-badge.svg)](https://colab.research.google.com/github/mengyulin/1102_CompThinking/blob/main/Adventure30/冒險30練習.ipynb)"
   ]
  },
  {
   "cell_type": "markdown",
   "id": "40e43305",
   "metadata": {},
   "source": [
    "# 冒險 30 練習\n",
    "\n",
    "\n",
    "三位同學的成績分別為\n",
    "\n",
    "| 出席 (5%) | 平時成績 (20%) | 期中考 (35%) | 期末考 (40%) |\n",
    "|--------|-------------|--------------|--------------|\n",
    "| 100    | 85          | 70           | 80           |\n",
    "| 30     | 12          | 88           | 77           |\n",
    "| 50     | 85          | 91           | 33           |\n",
    "\n",
    "## 問題一 (10 分)\n",
    "\n",
    "請使用陣列與內積，計算學期總成績之後，再做調整。調整公式為原始總成績乘上 1.1 倍後，再加上 2 分。\n",
    "\n",
    "## 問題二 (10 分）\n",
    "\n",
    "前面的成果應該會出現大於 100 分的總成績。請寫一個 for 迴圈，檢查若最終總成績大於 100 分則調整為 100 分。\n"
   ]
  },
  {
   "cell_type": "code",
   "execution_count": 1,
   "id": "0d51c719",
   "metadata": {},
   "outputs": [],
   "source": [
    "%matplotlib inline\n",
    "\n",
    "import numpy as np\n",
    "import matplotlib.pyplot as plt"
   ]
  },
  {
   "cell_type": "code",
   "execution_count": 2,
   "id": "8793f4cb",
   "metadata": {},
   "outputs": [
    {
     "data": {
      "text/plain": [
       "array([[100,  95,  96,  98],\n",
       "       [ 30,  12,  88,  77],\n",
       "       [ 50,  85,  91,  33]])"
      ]
     },
     "execution_count": 2,
     "metadata": {},
     "output_type": "execute_result"
    }
   ],
   "source": [
    "grades = np.array([[100, 95, 96, 98],\n",
    "                 [30, 12, 88, 77],\n",
    "                 [50, 85, 91, 33]])\n",
    "\n",
    "grades"
   ]
  },
  {
   "cell_type": "code",
   "execution_count": 3,
   "id": "50cb1ea6",
   "metadata": {},
   "outputs": [
    {
     "data": {
      "text/plain": [
       "array([0.05, 0.2 , 0.35, 0.4 ])"
      ]
     },
     "execution_count": 3,
     "metadata": {},
     "output_type": "execute_result"
    }
   ],
   "source": [
    "weights = np.array([0.05, 0.2, 0.35, 0.4])\n",
    "weights"
   ]
  },
  {
   "cell_type": "markdown",
   "id": "248a2bb5",
   "metadata": {},
   "source": [
    "檢查 weights 是否總和為 1:"
   ]
  },
  {
   "cell_type": "code",
   "execution_count": 4,
   "id": "229ec760",
   "metadata": {},
   "outputs": [
    {
     "data": {
      "text/plain": [
       "1.0"
      ]
     },
     "execution_count": 4,
     "metadata": {},
     "output_type": "execute_result"
    }
   ],
   "source": [
    "weights.sum()"
   ]
  },
  {
   "cell_type": "code",
   "execution_count": 5,
   "id": "ad22e05a",
   "metadata": {},
   "outputs": [
    {
     "data": {
      "text/plain": [
       "array([96.8 , 65.5 , 64.55])"
      ]
     },
     "execution_count": 5,
     "metadata": {},
     "output_type": "execute_result"
    }
   ],
   "source": [
    "final = grades @ weights\n",
    "final"
   ]
  },
  {
   "cell_type": "code",
   "execution_count": 6,
   "id": "24664c55",
   "metadata": {},
   "outputs": [
    {
     "data": {
      "text/plain": [
       "array([108.48 ,  74.05 ,  73.005])"
      ]
     },
     "execution_count": 6,
     "metadata": {},
     "output_type": "execute_result"
    }
   ],
   "source": [
    "finalmod = final * 1.1 + 2\n",
    "finalmod"
   ]
  },
  {
   "cell_type": "markdown",
   "id": "30839f4f",
   "metadata": {},
   "source": [
    "修正超過 100 分之成績："
   ]
  },
  {
   "cell_type": "code",
   "execution_count": 7,
   "id": "0086aded",
   "metadata": {},
   "outputs": [
    {
     "data": {
      "text/plain": [
       "array([100.   ,  74.05 ,  73.005])"
      ]
     },
     "execution_count": 7,
     "metadata": {},
     "output_type": "execute_result"
    }
   ],
   "source": [
    "for i in range(grades.shape[0]):\n",
    "    if finalmod[i] >= 100:\n",
    "        finalmod[i] = 100\n",
    "finalmod"
   ]
  },
  {
   "cell_type": "code",
   "execution_count": null,
   "id": "e9c73620",
   "metadata": {},
   "outputs": [],
   "source": []
  }
 ],
 "metadata": {
  "kernelspec": {
   "display_name": "Python 3",
   "language": "python",
   "name": "python3"
  },
  "language_info": {
   "codemirror_mode": {
    "name": "ipython",
    "version": 3
   },
   "file_extension": ".py",
   "mimetype": "text/x-python",
   "name": "python",
   "nbconvert_exporter": "python",
   "pygments_lexer": "ipython3",
   "version": "3.8.8"
  }
 },
 "nbformat": 4,
 "nbformat_minor": 5
}
