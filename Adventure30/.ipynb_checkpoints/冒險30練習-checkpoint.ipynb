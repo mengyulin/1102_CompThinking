{
 "cells": [
  {
   "cell_type": "markdown",
   "id": "2571dacb",
   "metadata": {
    "slideshow": {
     "slide_type": "skip"
    }
   },
   "source": [
    "[![Open In Colab](https://colab.research.google.com/assets/colab-badge.svg)](https://colab.research.google.com/github/mengyulin/1102_CompThinking/blob/main/Adventure30/冒險30練習.ipynb)"
   ]
  },
  {
   "cell_type": "markdown",
   "id": "527340f1",
   "metadata": {},
   "source": [
    "# 冒險 30 練習\n",
    "\n",
    "\n",
    "三位同學的成績分別為\n",
    "\n",
    "| 出席 (5%) | 平時成績 (20%) | 期中考 (35%) | 期末考 (40%) |\n",
    "|--------|-------------|--------------|--------------|\n",
    "| 100    | 85          | 70           | 80           |\n",
    "| 30     | 12          | 88           | 77           |\n",
    "| 50     | 85          | 91           | 33           |\n",
    "\n",
    "## 問題一 (10 分)\n",
    "\n",
    "請使用陣列與內積，計算學期總成績之後，再做調整。調整公式為原始總成績乘上 1.1 倍後，再加上 2 分。\n",
    "\n",
    "## 問題二 (10 分）\n",
    "\n",
    "前面的成果應該會出現大於 100 分的總成績。請寫一個 for 迴圈，檢查若最終總成績大於 100 分則調整為 100 分。\n"
   ]
  },
  {
   "cell_type": "code",
   "execution_count": null,
   "id": "d3fc198b",
   "metadata": {},
   "outputs": [],
   "source": []
  }
 ],
 "metadata": {
  "kernelspec": {
   "display_name": "Python 3",
   "language": "python",
   "name": "python3"
  },
  "language_info": {
   "codemirror_mode": {
    "name": "ipython",
    "version": 3
   },
   "file_extension": ".py",
   "mimetype": "text/x-python",
   "name": "python",
   "nbconvert_exporter": "python",
   "pygments_lexer": "ipython3",
   "version": "3.8.8"
  }
 },
 "nbformat": 4,
 "nbformat_minor": 5
}
