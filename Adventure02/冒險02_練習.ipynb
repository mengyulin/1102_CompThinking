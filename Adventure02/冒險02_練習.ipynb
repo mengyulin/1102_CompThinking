{
 "cells": [
  {
   "cell_type": "markdown",
   "id": "d464c36d",
   "metadata": {
    "slideshow": {
     "slide_type": "slide"
    }
   },
   "source": [
    "[![Open In Colab](https://colab.research.google.com/assets/colab-badge.svg)](https://colab.research.google.com/github/mengyulin/1102_CompThinking/blob/main/Adventure02/冒險02_練習.ipynb)\n",
    "\n",
    "\n",
    "# 練習一：圓柱體積\n",
    "\n",
    "## 題目\n",
    "\n",
    "若一圓柱體的高度為 $l$, 底邊圓半徑為 $r$, 其底邊的圓面積 $A$ 為：\n",
    "\n",
    "$$\n",
    "A = \\pi r^2\n",
    "$$\n",
    "\n",
    "其中 $\\pi = 3.14159$ 為圓周率。而圓柱的體積 $V$ 則為\n",
    "\n",
    "$$\n",
    "V = A\\,l\n",
    "$$\n",
    "\n",
    "\n",
    "\n",
    "若圓柱的半徑為 0.1 公尺，高度為 0.5 公尺，試計算出此圓柱的體積。"
   ]
  },
  {
   "cell_type": "markdown",
   "id": "2bbfa4dd",
   "metadata": {
    "slideshow": {
     "slide_type": "subslide"
    }
   },
   "source": [
    "## 計算 1: 直接使用數字計算"
   ]
  },
  {
   "cell_type": "code",
   "execution_count": null,
   "id": "79d85528",
   "metadata": {},
   "outputs": [],
   "source": []
  },
  {
   "cell_type": "markdown",
   "id": "6ceef63f",
   "metadata": {
    "slideshow": {
     "slide_type": "subslide"
    }
   },
   "source": [
    "## 計算 2: 使用變數計算"
   ]
  },
  {
   "cell_type": "code",
   "execution_count": null,
   "id": "8816bcc1",
   "metadata": {},
   "outputs": [],
   "source": []
  },
  {
   "cell_type": "markdown",
   "id": "20c76c82",
   "metadata": {
    "slideshow": {
     "slide_type": "slide"
    }
   },
   "source": [
    "# 練習二\n",
    "\n",
    "若 $x = 3$, $y = 4$, 試計算\n",
    "\n",
    "$$\n",
    "\\frac{x^2 y^3}{(x-y)^2}\n",
    "$$"
   ]
  },
  {
   "cell_type": "code",
   "execution_count": null,
   "id": "4ec0f84f",
   "metadata": {},
   "outputs": [],
   "source": []
  },
  {
   "cell_type": "markdown",
   "id": "4efd1b3a",
   "metadata": {
    "slideshow": {
     "slide_type": "slide"
    }
   },
   "source": [
    "# 練習三：自由落體\n",
    "\n",
    "一個球的初始高程為 $z_0$, 若以垂直速度 $v_0$ 投出, 則經過 $t$ 時間後的高程為\n",
    "\n",
    "$$\n",
    "z = z_0 + v_0\\,t + \\frac{1}{2}g\\,t^2\n",
    "$$\n",
    "\n",
    "其中 $g = -9.81~\\mathrm{m/s^2}$ 為重力加速度（朝上為正）。\n",
    "\n",
    "若一球體之 $z_0 = 10$ m, $v_0 = 15$ m/s, 當 $t = 5$ s 時，高程為何？"
   ]
  },
  {
   "cell_type": "code",
   "execution_count": null,
   "id": "b15fe7f4",
   "metadata": {},
   "outputs": [],
   "source": []
  }
 ],
 "metadata": {
  "celltoolbar": "Slideshow",
  "kernelspec": {
   "display_name": "Python 3",
   "language": "python",
   "name": "python3"
  },
  "language_info": {
   "codemirror_mode": {
    "name": "ipython",
    "version": 3
   },
   "file_extension": ".py",
   "mimetype": "text/x-python",
   "name": "python",
   "nbconvert_exporter": "python",
   "pygments_lexer": "ipython3",
   "version": "3.8.8"
  }
 },
 "nbformat": 4,
 "nbformat_minor": 5
}
