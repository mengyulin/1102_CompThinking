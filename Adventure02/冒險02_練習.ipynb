{
 "cells": [
  {
   "cell_type": "markdown",
   "id": "1606be19",
   "metadata": {
    "slideshow": {
     "slide_type": "slide"
    }
   },
   "source": [
    "# 練習一：圓柱體積\n",
    "\n",
    "## 題目\n",
    "\n",
    "若一圓柱體的高度為 $l$, 底邊圓半徑為 $r$, 其底邊的圓面積 $A$ 為：\n",
    "\n",
    "$$\n",
    "A = \\pi r^2\n",
    "$$\n",
    "\n",
    "其中 $\\pi = 3.14159$ 為圓周率。而圓柱的體積 $V$ 則為\n",
    "\n",
    "$$\n",
    "V = A\\,l\n",
    "$$\n",
    "\n",
    "\n",
    "\n",
    "若圓柱的半徑為 0.1 公尺，高度為 0.5 公尺，試計算出此圓柱的體積。"
   ]
  },
  {
   "cell_type": "markdown",
   "id": "434319f3",
   "metadata": {
    "slideshow": {
     "slide_type": "subslide"
    }
   },
   "source": [
    "## 計算 1: 直接使用數字計算"
   ]
  },
  {
   "cell_type": "code",
   "execution_count": 1,
   "id": "113a732b",
   "metadata": {
    "slideshow": {
     "slide_type": "-"
    }
   },
   "outputs": [
    {
     "data": {
      "text/plain": [
       "0.015707950000000002"
      ]
     },
     "execution_count": 1,
     "metadata": {},
     "output_type": "execute_result"
    }
   ],
   "source": [
    "(3.14159*0.1**2)*0.5"
   ]
  },
  {
   "cell_type": "markdown",
   "id": "03591d80",
   "metadata": {
    "slideshow": {
     "slide_type": "subslide"
    }
   },
   "source": [
    "## 計算 2: 使用變數計算"
   ]
  },
  {
   "cell_type": "code",
   "execution_count": 5,
   "id": "8937b2db",
   "metadata": {
    "slideshow": {
     "slide_type": "-"
    }
   },
   "outputs": [
    {
     "data": {
      "text/plain": [
       "0.015707950000000002"
      ]
     },
     "execution_count": 5,
     "metadata": {},
     "output_type": "execute_result"
    }
   ],
   "source": [
    "r = 0.1\n",
    "l = 0.5\n",
    "A = 3.14159 * r**2\n",
    "V = A * l\n",
    "V"
   ]
  },
  {
   "cell_type": "markdown",
   "id": "3fe34bf5",
   "metadata": {
    "slideshow": {
     "slide_type": "slide"
    }
   },
   "source": [
    "# 練習二\n",
    "\n",
    "若 $x = 3$, $y = 4$, 試計算\n",
    "\n",
    "$$\n",
    "\\frac{x^2 y^3}{(x-y)^2}\n",
    "$$"
   ]
  },
  {
   "cell_type": "code",
   "execution_count": 9,
   "id": "4217d6f5",
   "metadata": {
    "slideshow": {
     "slide_type": "-"
    }
   },
   "outputs": [
    {
     "data": {
      "text/plain": [
       "576.0"
      ]
     },
     "execution_count": 9,
     "metadata": {},
     "output_type": "execute_result"
    }
   ],
   "source": [
    "x = 3\n",
    "y = 4\n",
    "ans = ((x**2) * (y**3))/((x-y)**2)\n",
    "ans"
   ]
  },
  {
   "cell_type": "markdown",
   "id": "d9987102",
   "metadata": {
    "slideshow": {
     "slide_type": "slide"
    }
   },
   "source": [
    "# 練習三：自由落體\n",
    "\n",
    "一個在空氣中自由落體運動的球，初始高程為 $z_0$, 初始速度為 $v_0$, 則經過 $t$ 時間後的高程為\n",
    "\n",
    "$$\n",
    "z = z_0 + v_0\\,t + \\frac{1}{2}g\\,t^2\n",
    "$$\n",
    "\n",
    "其中 $g = -9.81~\\mathrm{m/s^2}$ 為重力加速度（朝上為正）。\n",
    "\n",
    "若一球體之 $z_0 = 10$ m, $v_0 = 15$ m/s, 當 $t = 5$ s 時，高程為何？"
   ]
  },
  {
   "cell_type": "code",
   "execution_count": 1,
   "id": "4397bb1f",
   "metadata": {
    "slideshow": {
     "slide_type": "-"
    }
   },
   "outputs": [
    {
     "data": {
      "text/plain": [
       "-37.625"
      ]
     },
     "execution_count": 1,
     "metadata": {},
     "output_type": "execute_result"
    }
   ],
   "source": [
    "z0 = 10\n",
    "v0 = 15\n",
    "g = -9.81\n",
    "t = 5\n",
    "z = z0 + v0 * t + 0.5 * g * t**2\n",
    "z"
   ]
  }
 ],
 "metadata": {
  "celltoolbar": "Slideshow",
  "kernelspec": {
   "display_name": "Python 3",
   "language": "python",
   "name": "python3"
  },
  "language_info": {
   "codemirror_mode": {
    "name": "ipython",
    "version": 3
   },
   "file_extension": ".py",
   "mimetype": "text/x-python",
   "name": "python",
   "nbconvert_exporter": "python",
   "pygments_lexer": "ipython3",
   "version": "3.8.8"
  }
 },
 "nbformat": 4,
 "nbformat_minor": 5
}
