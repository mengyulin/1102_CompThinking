{
 "cells": [
  {
   "cell_type": "markdown",
   "metadata": {},
   "source": [
    "[![Open In Colab](https://colab.research.google.com/assets/colab-badge.svg)](https://colab.research.google.com/github/mengyulin/1102_CompThinking/blob/main/Adventure09/冒險09_用Markdown做美美的筆記.ipynb)"
   ]
  },
  {
   "cell_type": "code",
   "execution_count": 1,
   "metadata": {
    "slideshow": {
     "slide_type": "skip"
    }
   },
   "outputs": [],
   "source": [
    "%matplotlib inline\n",
    "\n",
    "import numpy as np\n",
    "import matplotlib.pyplot"
   ]
  },
  {
   "cell_type": "markdown",
   "metadata": {
    "slideshow": {
     "slide_type": "slide"
    }
   },
   "source": [
    "### 為程式加上註解\n",
    "\n",
    "加上 `#` 字符號是註解的意思, Python 就不會理會那一行！"
   ]
  },
  {
   "cell_type": "code",
   "execution_count": null,
   "metadata": {},
   "outputs": [],
   "source": [
    "# 我的夢幻鏡頭列表\n",
    "\n",
    "lenses = {'12-100mm f4':32927,\n",
    "          '300mm f4':78191,\n",
    "          '40-150mm f2.8':30581}"
   ]
  },
  {
   "cell_type": "markdown",
   "metadata": {
    "slideshow": {
     "slide_type": "subslide"
    }
   },
   "source": [
    "也可以在後面加上註解。"
   ]
  },
  {
   "cell_type": "code",
   "execution_count": 2,
   "metadata": {},
   "outputs": [],
   "source": [
    "usd = 29.94 # 美金對台幣匯率\n",
    "jpy = 0.27 # 日圓對台幣匯率"
   ]
  },
  {
   "cell_type": "markdown",
   "metadata": {},
   "source": [
    "這還是會執行的!"
   ]
  },
  {
   "cell_type": "code",
   "execution_count": 3,
   "metadata": {},
   "outputs": [
    {
     "data": {
      "text/plain": [
       "29.94"
      ]
     },
     "execution_count": 3,
     "metadata": {},
     "output_type": "execute_result"
    }
   ],
   "source": [
    "usd"
   ]
  },
  {
   "cell_type": "markdown",
   "metadata": {
    "slideshow": {
     "slide_type": "slide"
    }
   },
   "source": [
    "![markdown](markdown.png)\n",
    "\n",
    "Markdown 是一種標準語法, 很方便快速的可以做簡單排版。非常多的 app 都有支援, 可以參考\n",
    "\n",
    "[Markdown 語法簡介](https://markdown.tw)"
   ]
  },
  {
   "cell_type": "markdown",
   "metadata": {
    "slideshow": {
     "slide_type": "subslide"
    }
   },
   "source": [
    "# 我們來學 Markdown"
   ]
  },
  {
   "cell_type": "markdown",
   "metadata": {
    "slideshow": {
     "slide_type": "subslide"
    }
   },
   "source": [
    "### 標題\n",
    "\n",
    "Cell 可以選 `Markdown` 模式, 就可以用 `Markdown` 語法做筆記。\n",
    "\n",
    "### 【重點】標題\n",
    "\n",
    "`# 我們來學 Markdown`\n",
    "# 我們來學 Markdown\n",
    "\n",
    "`## 副標題`\n",
    "## 副標題"
   ]
  },
  {
   "cell_type": "markdown",
   "metadata": {
    "slideshow": {
     "slide_type": "subslide"
    }
   },
   "source": [
    "## 第二大的標題\n",
    "### 第三大的標題\n",
    "\n",
    "正常的內文會像，呃，正常的內文顯示出來。"
   ]
  },
  {
   "cell_type": "markdown",
   "metadata": {
    "slideshow": {
     "slide_type": "subslide"
    }
   },
   "source": [
    "### 【重點】分點說明\n",
    "\n",
    "我們要學以下幾個套件:\n",
    "\n",
    "* `matplotlib`\n",
    "* `numpy`\n",
    "* `pandas`\n",
    "* `scikit-learn`"
   ]
  },
  {
   "cell_type": "markdown",
   "metadata": {
    "slideshow": {
     "slide_type": "subslide"
    }
   },
   "source": [
    "### 【重點】分點說明 (有編號)\n",
    "\n",
    "我們要學以下幾個套件:\n",
    "\n",
    "1. `matplotlib`\n",
    "2. `numpy`\n",
    "3. `pandas`\n",
    "4. `scikit-learn`"
   ]
  },
  {
   "cell_type": "markdown",
   "metadata": {},
   "source": [
    "### 【重點】插入網頁\n",
    "\n",
    "格式如下\n",
    "\n",
    "    [網頁名稱](URL)\n",
    "    \n",
    "例如\n",
    "\n",
    "    [炎龍老師的 Blog](https://yenlung.blog)\n",
    "    \n",
    "結果: [炎龍老師的 Blog](https://yenlung.blog)"
   ]
  },
  {
   "cell_type": "markdown",
   "metadata": {},
   "source": [
    "### 【重點】程式碼\n",
    "\n",
    "顯示程式碼有幾種方式。\n",
    "\n",
    "#### [1] 前面有若干空白\n",
    "\n",
    "    for i in range(10):\n",
    "        print(i)\n",
    "        \n",
    "#### [2] 內文可以用斜引號\n",
    "\n",
    "    `matplotlib`\n",
    "    \n",
    "#### [3] 還可以用 3 個引號外加語言\n",
    "\n",
    "    ```python\n",
    "    for i in range(10):\n",
    "        print(i)\n",
    "    ```\n",
    "\n",
    "```python\n",
    "for i in range(10):\n",
    "    print(i)\n",
    "```"
   ]
  },
  {
   "cell_type": "markdown",
   "metadata": {},
   "source": [
    "### 【重點】插入圖片\n",
    "\n",
    "    ![圖片名稱](圖片路徑)\n",
    "    \n",
    "例如\n",
    "\n",
    "    ![可愛小豬](pig.png)\n",
    "    \n",
    "![Happy Python](pig.png)"
   ]
  },
  {
   "cell_type": "markdown",
   "metadata": {},
   "source": [
    "### 表格\n",
    "\n",
    "魔術指令 | 功能\n",
    "--------|-----\n",
    "cd      | 變換目前工作資料夾\n",
    "ls      | 列出當前資料夾下的檔案\n",
    "save    | 儲存檔案"
   ]
  },
  {
   "cell_type": "markdown",
   "metadata": {},
   "source": [
    "### 表格對齊方式設定\n",
    "\n",
    "魔術指令 | 功能\n",
    ":--------:|:-----\n",
    "cd      | 變換目前工作資料夾\n",
    "ls      | 列出當前資料夾下的檔案\n",
    "save    | 儲存檔案"
   ]
  },
  {
   "cell_type": "markdown",
   "metadata": {},
   "source": [
    "### 【重點】輸入數學符號\n",
    "\n",
    "支援 LaTeX 指令。\n",
    "\n",
    "#### 隨文模式\n",
    "\n",
    "例如\n",
    "\n",
    "    設我們有函數 $f(x) = x^3 - 2x + 5$。\n",
    "    \n",
    "[結果] 設我們有函數 $f(x)=     x^3-2x      +5$。\n",
    "\n",
    "#### 展式模式\n",
    "\n",
    "例如\n",
    "\n",
    "    我們來算個積分：$$\\int_a^b f(x) \\, dx$$\n",
    "\n",
    "我們來算個積分：$$\\int_a^b f(x)\\, dx$$\n",
    "\n",
    "#### 詳細指令\n",
    "\n",
    "見連結：[LaTeX 數學排版](https://www.cs.pu.edu.tw/~wckuo/doc/latex123/node11.html)"
   ]
  },
  {
   "cell_type": "code",
   "execution_count": null,
   "metadata": {},
   "outputs": [],
   "source": []
  }
 ],
 "metadata": {
  "kernelspec": {
   "display_name": "Python 3",
   "language": "python",
   "name": "python3"
  },
  "language_info": {
   "codemirror_mode": {
    "name": "ipython",
    "version": 3
   },
   "file_extension": ".py",
   "mimetype": "text/x-python",
   "name": "python",
   "nbconvert_exporter": "python",
   "pygments_lexer": "ipython3",
   "version": "3.8.8"
  }
 },
 "nbformat": 4,
 "nbformat_minor": 1
}
