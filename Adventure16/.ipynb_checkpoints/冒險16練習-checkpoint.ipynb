{
 "cells": [
  {
   "cell_type": "markdown",
   "id": "6332a28a",
   "metadata": {
    "slideshow": {
     "slide_type": "skip"
    }
   },
   "source": [
    "[![Open In Colab](https://colab.research.google.com/assets/colab-badge.svg)](https://colab.research.google.com/github/mengyulin/1102_CompThinking/blob/main/Adventure16/冒險16練習.ipynb)"
   ]
  },
  {
   "cell_type": "markdown",
   "id": "fcf256b0",
   "metadata": {
    "slideshow": {
     "slide_type": "slide"
    }
   },
   "source": [
    "# 冒險 16 練習\n",
    "\n",
    "## 冰雹數列 (角谷猜想、考拉茲猜想)\n",
    "\n",
    "冰雹猜想、角谷猜想、考拉茲猜想說的是同一個問題：給定任意正整數，如果是偶數就除以2，如果是奇數就乘以3再加1，最終總能得到1。\n",
    "\n",
    "人們在運算過程中發現，算出來的數字忽大忽小，有的計算過程很長。比如從27算到1，需要112步。\n",
    "有人把演算過程形容為雲中的小水滴，在高空氣流的作用下，忽高忽低，遇冷結冰，體積越來越大，最後變成冰雹落了下來，而演算的數字最後也像冰雹一樣掉了下來，變成了1。因此人們又給這個猜想起了個形象的名字——冰雹猜想。"
   ]
  },
  {
   "cell_type": "markdown",
   "id": "52fc3198",
   "metadata": {
    "slideshow": {
     "slide_type": "subslide"
    }
   },
   "source": [
    "若將此數列表示為 $a_1,a_2,\\dots,a_n,\\dots$，在起始值 $a_1$ 給定時，每次都用下面的遞迴式產生下一個數字：\n",
    "\n",
    "$$\n",
    "a_{n+1} = \\left\\{\\begin{array}{ll}\n",
    "    {a_n}/{2}, & \\mbox{若 }a_n\\mbox{ 為偶數}\\\\\n",
    "    3 a_n + 1, & \\mbox{若 }a_n\\mbox{ 為奇數}\\end{array}\\right.\n",
    "$$\n",
    "\n",
    "若我們得到 1，數列就結束。"
   ]
  },
  {
   "cell_type": "markdown",
   "id": "64146602",
   "metadata": {
    "slideshow": {
     "slide_type": "subslide"
    }
   },
   "source": [
    "## 題目\n",
    "\n",
    "寫一個程式，提示使用者輸入一個正整數，求出以這個數字開始的冰雹數列，並畫出圖來。\n",
    "\n",
    "推薦大家試試起始值為 27 的例子，相當精彩！\n",
    "\n",
    "「冰雹猜想」說不論哪個自然數當起始值，最後都會變成 1！可以試試看是不是真的如此。"
   ]
  },
  {
   "cell_type": "markdown",
   "id": "cac23b8a",
   "metadata": {
    "slideshow": {
     "slide_type": "subslide"
    }
   },
   "source": [
    "### 程式步驟\n",
    "1. 建立空串列 `num`\n",
    "2. 提示使用者讀入起始值 `a` 後，加入串列 `num`\n",
    "3. 若 `a != 1`，則:\n",
    "    * 若 `a` 為偶數，則: `a = a / 2`\n",
    "    * 若 `a` 為奇數，則: `a = 3 * a + 1`\n",
    "    * 將 `a` 加入串列 `num`\n",
    "4. 回到步驟 3\n",
    "5. 畫出 num"
   ]
  },
  {
   "cell_type": "code",
   "execution_count": 1,
   "id": "a71353bf",
   "metadata": {
    "slideshow": {
     "slide_type": "subslide"
    }
   },
   "outputs": [],
   "source": [
    "%matplotlib inline\n",
    "import numpy as np\n",
    "import matplotlib.pyplot as plt\n"
   ]
  },
  {
   "cell_type": "code",
   "execution_count": null,
   "id": "32395eda",
   "metadata": {},
   "outputs": [],
   "source": []
  }
 ],
 "metadata": {
  "celltoolbar": "Slideshow",
  "kernelspec": {
   "display_name": "Python 3",
   "language": "python",
   "name": "python3"
  },
  "language_info": {
   "codemirror_mode": {
    "name": "ipython",
    "version": 3
   },
   "file_extension": ".py",
   "mimetype": "text/x-python",
   "name": "python",
   "nbconvert_exporter": "python",
   "pygments_lexer": "ipython3",
   "version": "3.8.8"
  }
 },
 "nbformat": 4,
 "nbformat_minor": 5
}
