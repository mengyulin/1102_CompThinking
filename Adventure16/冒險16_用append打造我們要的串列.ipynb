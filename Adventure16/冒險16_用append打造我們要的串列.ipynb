{
 "cells": [
  {
   "cell_type": "markdown",
   "metadata": {
    "slideshow": {
     "slide_type": "skip"
    }
   },
   "source": [
    "[![Open In Colab](https://colab.research.google.com/assets/colab-badge.svg)](https://colab.research.google.com/github/mengyulin/1102_CompThinking/blob/main/Adventure16/冒險16_用append打造我們要的串列.ipynb)"
   ]
  },
  {
   "cell_type": "markdown",
   "metadata": {
    "slideshow": {
     "slide_type": "slide"
    }
   },
   "source": [
    "![String and List 的二三事](string_and_list.png)\n",
    "\n",
    "本單元學習的指令：\n",
    "* `append`\n",
    "* `split`\n",
    "* `sum`\n",
    "* `len`"
   ]
  },
  {
   "cell_type": "markdown",
   "metadata": {
    "slideshow": {
     "slide_type": "slide"
    }
   },
   "source": [
    "# 用 append 打造我們要的串列\n",
    "\n",
    "現在來學習如何先一個個算出串列的元素，再放入串列之中。\n",
    "\n",
    "### 問題\n",
    "\n",
    "假設你要去瑞士玩, 朋友請你帶三個東西, 你查到瑞士法郎的價格是\n",
    "\n",
    "    [3000, 2500, 100]\n",
    "\n",
    "Google 一下, 發現今天滙率為\n",
    "\n",
    "    1法郎 = 31.4862596台幣\n",
    "    \n",
    "試著把這三個物品的價格換成台幣, 再存起來。"
   ]
  },
  {
   "cell_type": "code",
   "execution_count": null,
   "metadata": {
    "slideshow": {
     "slide_type": "subslide"
    }
   },
   "outputs": [],
   "source": [
    "price = [3000, 2500, 100]   # 三個物品之瑞士法郎的價格\n",
    "\n",
    "c = 31.4862596              # 瑞士法郎與台幣之匯率\n",
    "\n",
    "price_tw = []               # 先設定一個空的串列 price_tw\n",
    "\n",
    "for p in price:\n",
    "    ptw = p*c               # 將 price 中的價格 p 乘上匯率 c 轉換成台幣 ptw\n",
    "    price_tw.append(ptw)    # 再將 ptw 放入串列 price_tw 中\n",
    "    \n",
    "print(price_tw)"
   ]
  },
  {
   "cell_type": "markdown",
   "metadata": {
    "slideshow": {
     "slide_type": "subslide"
    }
   },
   "source": [
    "![append](append.png)"
   ]
  },
  {
   "cell_type": "markdown",
   "metadata": {
    "slideshow": {
     "slide_type": "slide"
    }
   },
   "source": [
    "# 用 split 分割逗號分開的字串\n",
    "\n",
    "Python 的字串處理能力是有名的強, 比方說我們現在有一筆 CSV 形式的字串, 要分割可以用指令\n",
    "\n",
    "    .split\n",
    "    \n",
    "註：維基百科對 CSV 的說明：https://zh.wikipedia.org/zh-tw/逗号分隔值"
   ]
  },
  {
   "cell_type": "markdown",
   "metadata": {
    "slideshow": {
     "slide_type": "subslide"
    }
   },
   "source": [
    "### 範例\n",
    "\n",
    "例如有一字串存有 CSV 格式的數字："
   ]
  },
  {
   "cell_type": "code",
   "execution_count": null,
   "metadata": {
    "slideshow": {
     "slide_type": "-"
    }
   },
   "outputs": [],
   "source": [
    "st = \"23,68,99\""
   ]
  },
  {
   "cell_type": "code",
   "execution_count": null,
   "metadata": {},
   "outputs": [],
   "source": [
    "st.split(',')"
   ]
  },
  {
   "cell_type": "markdown",
   "metadata": {},
   "source": [
    "須注意分割之後的元素仍是字串。"
   ]
  },
  {
   "cell_type": "markdown",
   "metadata": {
    "slideshow": {
     "slide_type": "slide"
    }
   },
   "source": [
    "# 指令 .append 與 .split 之使用\n",
    "\n",
    "### 問題\n",
    "\n",
    "這樣子的確把\n",
    "\n",
    "    st = \"23,68,99\"\n",
    "    \n",
    "三筆資料切開, 但我們希望把這三筆資料轉成整數, 再存到一個串列之中。"
   ]
  },
  {
   "cell_type": "code",
   "execution_count": null,
   "metadata": {
    "slideshow": {
     "slide_type": "subslide"
    }
   },
   "outputs": [],
   "source": [
    "st = \"23,68,99\"         # 原 CSV 格式之字串 st\n",
    "spam = st.split(',')    # 分割原字串，存入 spam 中\n",
    "egg = []                # 開啟一個空的新字串 egg\n",
    "\n",
    "for x in spam:          \n",
    "    k = int(x)\n",
    "    egg.append(k)"
   ]
  },
  {
   "cell_type": "code",
   "execution_count": null,
   "metadata": {},
   "outputs": [],
   "source": [
    "egg"
   ]
  },
  {
   "cell_type": "markdown",
   "metadata": {
    "slideshow": {
     "slide_type": "subslide"
    }
   },
   "source": [
    "當然, 如果對程式熟悉, 我們也可能很多變數不設就直接用。"
   ]
  },
  {
   "cell_type": "code",
   "execution_count": null,
   "metadata": {},
   "outputs": [],
   "source": [
    "ham = []\n",
    "\n",
    "for x in st.split(','):\n",
    "    ham.append(int(x))"
   ]
  },
  {
   "cell_type": "code",
   "execution_count": null,
   "metadata": {},
   "outputs": [],
   "source": [
    "ham"
   ]
  },
  {
   "cell_type": "markdown",
   "metadata": {
    "slideshow": {
     "slide_type": "slide"
    }
   },
   "source": [
    "## 不過就是將字串轉為整數，為何要這麼麻煩？\n",
    "\n",
    "試試看可不可以這樣做，直接將字串串列轉換為整數串列？"
   ]
  },
  {
   "cell_type": "code",
   "execution_count": null,
   "metadata": {},
   "outputs": [],
   "source": [
    "spam # 剛剛建立的字串串列"
   ]
  },
  {
   "cell_type": "markdown",
   "metadata": {},
   "source": [
    "直接用 `int` 指令轉換整個串列 `spam`:"
   ]
  },
  {
   "cell_type": "code",
   "execution_count": null,
   "metadata": {},
   "outputs": [],
   "source": [
    "egg = int(spam)\n",
    "egg"
   ]
  },
  {
   "cell_type": "markdown",
   "metadata": {
    "slideshow": {
     "slide_type": "slide"
    }
   },
   "source": [
    "# 應用\n",
    "\n",
    "### 問題\n",
    "\n",
    "既然我們換成數字了, 不如來試著求 [23, 68, 99] 之和。剛剛已經得到\n",
    "\n",
    "    egg = [23,68,99]"
   ]
  },
  {
   "cell_type": "code",
   "execution_count": null,
   "metadata": {
    "slideshow": {
     "slide_type": "subslide"
    }
   },
   "outputs": [],
   "source": [
    "s = 0 \n",
    "\n",
    "for k in egg:\n",
    "    s = s + k\n",
    "\n",
    "print('總和為', s)"
   ]
  },
  {
   "cell_type": "markdown",
   "metadata": {
    "slideshow": {
     "slide_type": "subslide"
    }
   },
   "source": [
    "### 【小技巧】\n",
    "\n",
    "其實求一個串列中所有數字的和, Python 的快速指令為\n",
    "* `sum`"
   ]
  },
  {
   "cell_type": "code",
   "execution_count": null,
   "metadata": {},
   "outputs": [],
   "source": [
    "sum(egg)"
   ]
  },
  {
   "cell_type": "markdown",
   "metadata": {
    "slideshow": {
     "slide_type": "subslide"
    }
   },
   "source": [
    "### 【小技巧】\n",
    "\n",
    "不論要看一個串列, 還是一個字串的長度, 我們都可以用 `len` 指令。"
   ]
  },
  {
   "cell_type": "code",
   "execution_count": null,
   "metadata": {},
   "outputs": [],
   "source": [
    "len(egg)"
   ]
  }
 ],
 "metadata": {
  "celltoolbar": "Slideshow",
  "kernelspec": {
   "display_name": "Python 3",
   "language": "python",
   "name": "python3"
  },
  "language_info": {
   "codemirror_mode": {
    "name": "ipython",
    "version": 3
   },
   "file_extension": ".py",
   "mimetype": "text/x-python",
   "name": "python",
   "nbconvert_exporter": "python",
   "pygments_lexer": "ipython3",
   "version": "3.8.8"
  }
 },
 "nbformat": 4,
 "nbformat_minor": 2
}
