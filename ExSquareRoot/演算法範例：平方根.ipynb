{
 "cells": [
  {
   "cell_type": "markdown",
   "id": "27a8b0fa",
   "metadata": {},
   "source": [
    "# 演算法範例：求一數的平方根\n",
    "\n",
    "## 問題說明\n",
    "假設我們只會加、減、乘、除，但不會直接計算平方根。若一數 $x$ 的平方根為 $y$，即 $\\sqrt{x} = y$，則\n",
    "\n",
    "\\begin{equation}\n",
    "y*y = x\n",
    "\\end{equation}\n",
    "\n",
    "現給定 $x = 16$，試求出其平方根 $y$。\n",
    "\n",
    "## 演算流程\n",
    "1. 先給定 $y$ 之初始猜值為 $g$。\n",
    "2. 計算 $g*g$，若接近 $x$ 則停止計算並令其值為答案 ($y = g$)。\n",
    "3. 若不夠接近，由於 $g * (x/g) = x$，代表 $g$ 與 $x/g$ 兩值相差過大。故令新的猜值為 $g$ 與 $x/g$ 的平均。\n",
    "4. 用新的猜值再次計算直到夠接近。\n",
    "\n",
    "## 計算結果\n",
    "![sqrt](sqrt.png)"
   ]
  },
  {
   "cell_type": "code",
   "execution_count": 15,
   "id": "d3f23b08",
   "metadata": {},
   "outputs": [
    {
     "name": "stdout",
     "output_type": "stream",
     "text": [
      "g =  3 , g * g =  9 , x/g =  5.333333333333333 , (g+x/g)/2 =  4.166666666666666\n"
     ]
    }
   ],
   "source": [
    "x = 16\n",
    "g = 3\n",
    "print(\"g = \", g, \", g * g = \", g*g, \", x/g = \", x/g, \", (g+x/g)/2 = \", (g+x/g)/2)"
   ]
  },
  {
   "cell_type": "markdown",
   "id": "d15238d6",
   "metadata": {},
   "source": [
    "## 結論\n",
    "由上述範例，可知使用電腦運算解決問題的步驟為\n",
    "1. 分析問題\n",
    "2. 建立演算流程\n",
    "3. 依據演算流程，撰寫程式\n",
    "4. 運算、分析成果\n",
    "\n",
    "而使用程式語言進行演算，除了基本的數值計算能力 (四則運算、數學函數）外，還需要以下功能：\n",
    "1. 格式化的輸入、輸出\n",
    "2. 條件判斷\n",
    "3. 重複執行的作業"
   ]
  },
  {
   "cell_type": "code",
   "execution_count": null,
   "id": "3ce0a8e0",
   "metadata": {},
   "outputs": [],
   "source": []
  }
 ],
 "metadata": {
  "kernelspec": {
   "display_name": "Python 3",
   "language": "python",
   "name": "python3"
  },
  "language_info": {
   "codemirror_mode": {
    "name": "ipython",
    "version": 3
   },
   "file_extension": ".py",
   "mimetype": "text/x-python",
   "name": "python",
   "nbconvert_exporter": "python",
   "pygments_lexer": "ipython3",
   "version": "3.8.8"
  }
 },
 "nbformat": 4,
 "nbformat_minor": 5
}
