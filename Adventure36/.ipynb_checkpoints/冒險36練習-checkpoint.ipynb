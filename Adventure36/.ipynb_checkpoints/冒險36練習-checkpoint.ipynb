{
 "cells": [
  {
   "cell_type": "markdown",
   "id": "917cdac2",
   "metadata": {
    "slideshow": {
     "slide_type": "skip"
    }
   },
   "source": [
    "[![Open In Colab](https://colab.research.google.com/assets/colab-badge.svg)](https://colab.research.google.com/github/mengyulin/1102_CompThinking/blob/main/Adventure36/冒險36練習.ipynb)"
   ]
  },
  {
   "cell_type": "markdown",
   "id": "0e61f3e0",
   "metadata": {},
   "source": [
    "# 冒險 36 練習\n",
    "\n",
    "某大學中文系希望錄取文科成績好的學生。請從 grades.csv 的學測成績資料中找出國文、英文及社會科的平均成績大於等於 13 級分的學生姓名。\n",
    "\n",
    "### 小題一 (10分)\n",
    "\n",
    "1. 新增一欄位 \"文科平均\"。\n",
    "2. 以 \"文科平均\" 進行排序，從排序中顯示出大於等於 13 級分的學生姓名。"
   ]
  },
  {
   "cell_type": "code",
   "execution_count": 2,
   "id": "e69e2aef",
   "metadata": {},
   "outputs": [],
   "source": [
    "%matplotlib inline\n",
    "\n",
    "import numpy as np\n",
    "import matplotlib.pyplot as plt\n",
    "import pandas as pd"
   ]
  },
  {
   "cell_type": "code",
   "execution_count": 3,
   "id": "a973ab9d",
   "metadata": {},
   "outputs": [],
   "source": [
    "df = pd.read_csv('https://bitly.com/gradescsv') # 在 Colab 中自網路讀取檔案較方便。"
   ]
  },
  {
   "cell_type": "markdown",
   "id": "3d09aa18",
   "metadata": {},
   "source": [
    "### 小題二 (10 分)\n",
    "\n",
    "使用「快篩法」(filter) 指令，僅列出 \"文科平均\" 大於等於 13 級分的學生。\n",
    "\n",
    "參考教學：https://youtu.be/YPItfQ87qjM"
   ]
  },
  {
   "cell_type": "code",
   "execution_count": null,
   "id": "6a95aac4",
   "metadata": {},
   "outputs": [],
   "source": []
  }
 ],
 "metadata": {
  "kernelspec": {
   "display_name": "Python 3",
   "language": "python",
   "name": "python3"
  },
  "language_info": {
   "codemirror_mode": {
    "name": "ipython",
    "version": 3
   },
   "file_extension": ".py",
   "mimetype": "text/x-python",
   "name": "python",
   "nbconvert_exporter": "python",
   "pygments_lexer": "ipython3",
   "version": "3.8.8"
  }
 },
 "nbformat": 4,
 "nbformat_minor": 5
}
