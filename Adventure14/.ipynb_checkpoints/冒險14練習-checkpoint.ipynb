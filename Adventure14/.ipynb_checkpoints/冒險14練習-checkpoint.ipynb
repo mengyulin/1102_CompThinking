{
 "cells": [
  {
   "cell_type": "markdown",
   "id": "289b7c3c",
   "metadata": {},
   "source": [
    "[![Open In Colab](https://colab.research.google.com/assets/colab-badge.svg)](https://colab.research.google.com/github/mengyulin/1102_CompThinking/blob/main/Adventure14/冒險14練習.ipynb)"
   ]
  },
  {
   "cell_type": "markdown",
   "id": "a7185d24",
   "metadata": {},
   "source": [
    "# 練習 1\n",
    "\n",
    "你和朋友總共五個人一起去吃飯，每個人點的餐價格是：\n",
    "\n",
    "    price = [100, 150, 120, 90, 145]\n",
    "\n",
    "你們最後決定大家平分就好，請用 for 迴圈把總金額算出來，再求出平均數。"
   ]
  },
  {
   "cell_type": "code",
   "execution_count": null,
   "id": "52805048",
   "metadata": {},
   "outputs": [],
   "source": []
  }
 ],
 "metadata": {
  "kernelspec": {
   "display_name": "Python 3",
   "language": "python",
   "name": "python3"
  },
  "language_info": {
   "codemirror_mode": {
    "name": "ipython",
    "version": 3
   },
   "file_extension": ".py",
   "mimetype": "text/x-python",
   "name": "python",
   "nbconvert_exporter": "python",
   "pygments_lexer": "ipython3",
   "version": "3.8.8"
  }
 },
 "nbformat": 4,
 "nbformat_minor": 5
}
