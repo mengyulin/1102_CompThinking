{
 "cells": [
  {
   "cell_type": "code",
   "execution_count": null,
   "metadata": {},
   "outputs": [],
   "source": [
    "%matplotlib inline\n",
    "\n",
    "import numpy as np\n",
    "import matplotlib.pyplot as plt"
   ]
  },
  {
   "cell_type": "markdown",
   "metadata": {},
   "source": [
    "# 常態分佈取樣\n",
    "\n",
    "接著下來我們來生成一堆的數字。我們從「平均值是 0, 標準差是 1」的標準常態分佈中, 抽出 $n$ 個樣本。這神奇指令是:\n",
    "    \n",
    "    np.random.randn(n)\n",
    "    \n",
    "意義為使用 `numpy` 套件中的 `random` 子套件中的 `randn` 指令。\n",
    "\n",
    "`random` 子套件為用來取亂數的套件，而 `randn` 指令可以產生「平均值是 0, 標準差是 1」的標準常態分佈。\n",
    "\n",
    "![test](numpy-random-randn_featured-image.png)"
   ]
  },
  {
   "cell_type": "code",
   "execution_count": null,
   "metadata": {},
   "outputs": [],
   "source": [
    "np.random.randn(10)"
   ]
  },
  {
   "cell_type": "markdown",
   "metadata": {},
   "source": [
    "註：`array` 為 `numpy` 中的一種重要的資料型態，中文稱為「陣列」，可以想像是數學中的「矩陣」或「向量」。`array` 非常好用，日後會常常用到！\n",
    "\n",
    "我們抽 100 個樣本畫出來!"
   ]
  },
  {
   "cell_type": "code",
   "execution_count": null,
   "metadata": {},
   "outputs": [],
   "source": [
    "plt.plot(np.random.randn(100))"
   ]
  },
  {
   "cell_type": "markdown",
   "metadata": {},
   "source": [
    "接著我們進入 `plt.scatter`, 這是把點點出來, 但不連起來..."
   ]
  },
  {
   "cell_type": "code",
   "execution_count": null,
   "metadata": {},
   "outputs": [],
   "source": [
    "X = [0, 1.1, 2.5, 3.2, 4.8]\n",
    "Y = [2.1, 3.4, 1, 5, 7]"
   ]
  },
  {
   "cell_type": "code",
   "execution_count": null,
   "metadata": {},
   "outputs": [],
   "source": [
    "plt.scatter(X, Y)"
   ]
  },
  {
   "cell_type": "markdown",
   "metadata": {},
   "source": [
    "然後我們來個 X, Y 座標都從標準常態分佈出來。"
   ]
  },
  {
   "cell_type": "code",
   "execution_count": null,
   "metadata": {},
   "outputs": [],
   "source": [
    "X = np.random.randn(300)\n",
    "Y = np.random.randn(300)"
   ]
  },
  {
   "cell_type": "code",
   "execution_count": null,
   "metadata": {},
   "outputs": [],
   "source": [
    "plt.scatter(X, Y)"
   ]
  },
  {
   "cell_type": "markdown",
   "metadata": {},
   "source": [
    "## 從亂數中找整數\n",
    "\n",
    "若想從亂數中找到某個整數 $r$, 符合 $n \\le r < m$, 指令為\n",
    "\n",
    "    np.random.randint(n, m)\n",
    "    \n",
    "例如，由 1 到 100 隨機取一個整數出來，可以用："
   ]
  },
  {
   "cell_type": "code",
   "execution_count": null,
   "metadata": {},
   "outputs": [],
   "source": [
    "r = np.random.randint(1,101)\n",
    "r"
   ]
  },
  {
   "cell_type": "markdown",
   "metadata": {},
   "source": [
    "可以試試每一次再執行都會得到不同的值。"
   ]
  },
  {
   "cell_type": "markdown",
   "metadata": {},
   "source": [
    "## 冒險旅程 4\n",
    "\n",
    "可以從平均值 2, 標準差 5 符合常態分佈的資料中，取出 100 筆資料嗎？\n",
    "\n",
    "Hint: google 搜尋 `np.random.randn`, 可以找到 `numpy.random` 的官網說明資料：\n",
    "\n",
    "https://numpy.org/doc/stable/reference/random/generated/numpy.random.randn.html"
   ]
  },
  {
   "cell_type": "code",
   "execution_count": null,
   "metadata": {},
   "outputs": [],
   "source": []
  }
 ],
 "metadata": {
  "anaconda-cloud": {},
  "kernelspec": {
   "display_name": "Python 3",
   "language": "python",
   "name": "python3"
  },
  "language_info": {
   "codemirror_mode": {
    "name": "ipython",
    "version": 3
   },
   "file_extension": ".py",
   "mimetype": "text/x-python",
   "name": "python",
   "nbconvert_exporter": "python",
   "pygments_lexer": "ipython3",
   "version": "3.8.8"
  }
 },
 "nbformat": 4,
 "nbformat_minor": 1
}
