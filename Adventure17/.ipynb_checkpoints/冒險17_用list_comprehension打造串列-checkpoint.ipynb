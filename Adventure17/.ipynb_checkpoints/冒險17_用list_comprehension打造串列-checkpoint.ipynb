{
 "cells": [
  {
   "cell_type": "markdown",
   "metadata": {
    "slideshow": {
     "slide_type": "skip"
    }
   },
   "source": [
    "[![Open In Colab](https://colab.research.google.com/assets/colab-badge.svg)](https://colab.research.google.com/github/mengyulin/1102_CompThinking/blob/main/Adventure17/冒險17_用list_comprehension打造串列.ipynb)"
   ]
  },
  {
   "cell_type": "markdown",
   "metadata": {
    "slideshow": {
     "slide_type": "slide"
    }
   },
   "source": [
    "# 冒險 17 用 list comprehension 打造我們要的串列\n",
    "\n",
    "這裡基本上和上次一様, 只是這次用個很炫的 list comprehension 打造我們要的串列。\n",
    "使用數學的集合表示式，若想要 1, 3, 5, 7, 9 這五個奇數，是這樣的：\n",
    "\n",
    "$$\n",
    "\\{ 2k+1~|~ k \\in \\{0,1,2,3,4\\}\\}\n",
    "$$"
   ]
  },
  {
   "cell_type": "code",
   "execution_count": null,
   "metadata": {},
   "outputs": [],
   "source": [
    "[2*k+1 for k in range(5)]"
   ]
  },
  {
   "cell_type": "markdown",
   "metadata": {
    "slideshow": {
     "slide_type": "slide"
    }
   },
   "source": [
    "### 問題\n",
    "\n",
    "假設你要去瑞士玩, 朋友請你帶三個東西, 你查到瑞士法郎的價格是\n",
    "\n",
    "    [3000, 2500, 100]\n",
    "\n",
    "Google 一下, 發現今天滙率為\n",
    "\n",
    "    1法郎 = 31.4862596台幣\n",
    "    \n",
    "試著把這三個物品的價格換成台幣, 再存起來。"
   ]
  },
  {
   "cell_type": "code",
   "execution_count": null,
   "metadata": {
    "slideshow": {
     "slide_type": "subslide"
    }
   },
   "outputs": [],
   "source": [
    "price = [3000, 2500, 100]\n",
    "c = 31.4862596\n",
    "\n",
    "price_tw = [p*c for p in price]"
   ]
  },
  {
   "cell_type": "code",
   "execution_count": null,
   "metadata": {},
   "outputs": [],
   "source": [
    "price_tw"
   ]
  },
  {
   "cell_type": "markdown",
   "metadata": {
    "slideshow": {
     "slide_type": "slide"
    }
   },
   "source": [
    "## 字串分割 split 與 list comprehension\n",
    "\n",
    "Python 的字串處理能力是有名的強, 比方說我們現在有一筆 CSV 形式的字串, 要分割可以用\n",
    "\n",
    "    .split\n",
    "    \n",
    "來做。"
   ]
  },
  {
   "cell_type": "code",
   "execution_count": null,
   "metadata": {},
   "outputs": [],
   "source": [
    "st = \"23,68,99\""
   ]
  },
  {
   "cell_type": "code",
   "execution_count": null,
   "metadata": {},
   "outputs": [],
   "source": [
    "st.split(',')"
   ]
  },
  {
   "cell_type": "markdown",
   "metadata": {
    "slideshow": {
     "slide_type": "subslide"
    }
   },
   "source": [
    "### 問題\n",
    "\n",
    "這樣子的確把\n",
    "\n",
    "    st = \"23,68,99\"\n",
    "    \n",
    "三筆資料切開, 但我們希望把這三筆資料轉成整數, 再存到一個串列之中。"
   ]
  },
  {
   "cell_type": "code",
   "execution_count": null,
   "metadata": {},
   "outputs": [],
   "source": [
    "st = \"23,68,99\"\n",
    "\n",
    "egg = [int(x) for x in st.split(',')]"
   ]
  },
  {
   "cell_type": "code",
   "execution_count": null,
   "metadata": {},
   "outputs": [],
   "source": [
    "egg"
   ]
  },
  {
   "cell_type": "markdown",
   "metadata": {
    "slideshow": {
     "slide_type": "slide"
    }
   },
   "source": [
    "## 應用\n",
    "\n",
    "來副撲克牌吧! 將 52 張牌中每張牌都以下面的元組 (tuple) 表示：\n",
    "\n",
    "    (花色, 牌面大小)\n",
    "    \n",
    "比如說 `('♥', 'Q')`、`('♠', '3')` 等等。\n",
    "\n",
    "元組 (tuple) 類似串列 (list)，但不能像串列做 append 或局部修改，常用來作為一個不能更動的表示。"
   ]
  },
  {
   "cell_type": "markdown",
   "metadata": {
    "slideshow": {
     "slide_type": "subslide"
    }
   },
   "source": [
    "首先將所有花色 (suit) 和牌面大小 (rank) 做成兩個串列。使用之前學過的兩個技巧："
   ]
  },
  {
   "cell_type": "code",
   "execution_count": null,
   "metadata": {
    "slideshow": {
     "slide_type": "-"
    }
   },
   "outputs": [],
   "source": [
    "suit = list(\"♣♦♥♠\")\n",
    "rank = \"A,2,3,4,5,6,7,8,9,10,J,Q,K\".split(',')"
   ]
  },
  {
   "cell_type": "code",
   "execution_count": null,
   "metadata": {
    "slideshow": {
     "slide_type": "subslide"
    }
   },
   "outputs": [],
   "source": [
    "suit"
   ]
  },
  {
   "cell_type": "code",
   "execution_count": null,
   "metadata": {},
   "outputs": [],
   "source": [
    "rank"
   ]
  },
  {
   "cell_type": "code",
   "execution_count": null,
   "metadata": {
    "slideshow": {
     "slide_type": "subslide"
    }
   },
   "outputs": [],
   "source": [
    "card = [(s, r) for s in suit for r in rank]"
   ]
  },
  {
   "cell_type": "code",
   "execution_count": null,
   "metadata": {},
   "outputs": [],
   "source": [
    "card"
   ]
  }
 ],
 "metadata": {
  "celltoolbar": "Slideshow",
  "kernelspec": {
   "display_name": "Python 3",
   "language": "python",
   "name": "python3"
  },
  "language_info": {
   "codemirror_mode": {
    "name": "ipython",
    "version": 3
   },
   "file_extension": ".py",
   "mimetype": "text/x-python",
   "name": "python",
   "nbconvert_exporter": "python",
   "pygments_lexer": "ipython3",
   "version": "3.8.8"
  }
 },
 "nbformat": 4,
 "nbformat_minor": 2
}
