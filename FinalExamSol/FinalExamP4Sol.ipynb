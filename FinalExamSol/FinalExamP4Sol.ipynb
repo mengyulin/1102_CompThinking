{
 "cells": [
  {
   "cell_type": "markdown",
   "id": "50656eeb",
   "metadata": {},
   "source": [
    "# 第四題 (20 分)\n",
    "\n",
    "請寫一程式，先用 while 迴圈 (可配合 if/else 判斷)，讓使用者一一輸入想購買的物品，並將輸入的物品加入串列中。當輸入 \"沒了\" 時就結束迴圈，然後用 for 迴圈把完整的購物清單列出來。以下為程式執行範例，請依此範例測試程式：\n",
    "\n",
    "    請輸入要買的商品：牙刷\n",
    "    請輸入要買的商品：牛奶\n",
    "    請輸入要買的商品：衛生紙\n",
    "    請輸入要買的商品：沒了\n",
    " \n",
    "    以下是您的購物清單：\n",
    "    * 牙刷\n",
    "    * 牛奶\n",
    "    * 衛生紙"
   ]
  },
  {
   "cell_type": "code",
   "execution_count": 3,
   "id": "8cd9f099",
   "metadata": {},
   "outputs": [],
   "source": [
    "%matplotlib inline\n",
    "\n",
    "import numpy as np\n",
    "import matplotlib.pyplot as plt"
   ]
  },
  {
   "cell_type": "code",
   "execution_count": 9,
   "id": "105287a6",
   "metadata": {},
   "outputs": [
    {
     "name": "stdout",
     "output_type": "stream",
     "text": [
      "請輸入要買的商品：牙刷\n",
      "請輸入要買的商品：牛奶\n",
      "請輸入要買的商品：衛生紙\n",
      "請輸入要買的商品：沒了\n",
      " \n",
      "以下是您的購物清單：\n",
      "* 牙刷\n",
      "* 牛奶\n",
      "* 衛生紙\n"
     ]
    }
   ],
   "source": [
    "read = True\n",
    "itemList = []\n",
    "\n",
    "while read:\n",
    "    item = input(\"請輸入要買的商品：\")\n",
    "    if item != \"沒了\":\n",
    "        itemList.append(item)\n",
    "    else:\n",
    "        read = False\n",
    "\n",
    "print(\" \")        \n",
    "print(\"以下是您的購物清單：\")\n",
    "for item in itemList:\n",
    "    print(\"* \" + item)"
   ]
  },
  {
   "cell_type": "code",
   "execution_count": null,
   "id": "5914ce59",
   "metadata": {},
   "outputs": [],
   "source": []
  }
 ],
 "metadata": {
  "kernelspec": {
   "display_name": "Python 3",
   "language": "python",
   "name": "python3"
  },
  "language_info": {
   "codemirror_mode": {
    "name": "ipython",
    "version": 3
   },
   "file_extension": ".py",
   "mimetype": "text/x-python",
   "name": "python",
   "nbconvert_exporter": "python",
   "pygments_lexer": "ipython3",
   "version": "3.8.8"
  }
 },
 "nbformat": 4,
 "nbformat_minor": 5
}
