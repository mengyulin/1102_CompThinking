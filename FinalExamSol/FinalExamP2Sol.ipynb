{
 "cells": [
  {
   "cell_type": "markdown",
   "id": "a38c4452",
   "metadata": {},
   "source": [
    "# 第二題 (30 分)\n",
    "\n",
    "若三角形之三個角點座標，點 1 為 $(x_1,y_1)$, 點 2 為 $(x_2,y_2)$, 點 3 為 $(x_3,y_3)$,\n",
    "則其面積 $A$ 為\n",
    "\n",
    "$$\n",
    "A = \\frac{1}{2}\\left[x_1(y_2-y_3)+x_2(y_3-y_1)+x_3(y_1-y_2)\\right].\n",
    "$$\n",
    "\n",
    "撰寫一函式 `area2d`，輸入引數為三點之座標，並輸出面積。各點之座標使用串列表示。撰寫主程式，先設定三點座標為 $(0,0)$, $(10,0)$, $(15,5)$；\n",
    "再呼叫 `area2d` 計算出面積後輸出在螢幕上。\n",
    "\n",
    "## 小題一 (10 分)\n",
    "\n",
    "請依下列架構撰寫程式。\n",
    "\n",
    "1. 定義函式 `area2d`。此函式功能包含：\n",
    "    1. 輸入引數為三個串列，分別代表三個點之座標。\n",
    "    2. 計算面積 A。\n",
    "    3. 以 print 輸出面積。\n",
    "    4. 不需回傳 (return)。\n",
    "2. 在主程式中直接以串列設定三點之座標。\n",
    "3. 呼叫函式以計算三角形面積。"
   ]
  },
  {
   "cell_type": "code",
   "execution_count": 1,
   "id": "c2e12e9e",
   "metadata": {},
   "outputs": [],
   "source": [
    "%matplotlib inline\n",
    "\n",
    "import numpy as np\n",
    "import matplotlib.pyplot as plt"
   ]
  },
  {
   "cell_type": "code",
   "execution_count": 7,
   "id": "1b457ee8",
   "metadata": {},
   "outputs": [],
   "source": [
    "def area2d(a,b,c):\n",
    "    A = 0.5*(a[0]*(b[1]-c[1])+b[0]*(c[1]-a[1])+c[0]*(a[1]-b[1]))\n",
    "    print(\"三角形面積 A = \", A)\n",
    "#    return A"
   ]
  },
  {
   "cell_type": "code",
   "execution_count": 8,
   "id": "d1840764",
   "metadata": {},
   "outputs": [
    {
     "name": "stdout",
     "output_type": "stream",
     "text": [
      "三角形面積 A =  25.0\n"
     ]
    }
   ],
   "source": [
    "#a = np.array([0,0])\n",
    "#b = np.array([10,0])\n",
    "#c = np.array([15,5])\n",
    "a = [0,0]\n",
    "b = [10,0]\n",
    "c = [15,5]\n",
    "\n",
    "area2d(a,b,c)\n"
   ]
  },
  {
   "cell_type": "markdown",
   "id": "e33f76af",
   "metadata": {},
   "source": [
    "## 小題二 (20 分)\n",
    "\n",
    "再寫一個函式 `inputPoints`，讓使用者可以用鍵盤輸入任意的三點座標。此函式不需引數，座標在函式中輸入。函式的回傳 (return) 為三點的座標。函式內容須包含：\n",
    "1. 提示使用者輸入座標，座標分量以逗號區隔，例如 `10,0`。\n",
    "2. 參考課本之冒險 16，使用 `split` 與 `append` 指令，將輸入的字串拆解兩筆數據 (x 座標與 y 座標）、轉為浮點數後存入串列，作為座標點。\n",
    "3. 重複步驟 1, 2, 以輸入三點座標並存入三個串列。\n",
    "4. 回傳 (return) 三點座標之串列。\n",
    "\n",
    "在主程式中，先執行函式 `inputPoints` 得到三點的座標，再執行函式 `area2d`，以算出三角形面積。使用與小題一相同之座標數據計算。"
   ]
  },
  {
   "cell_type": "code",
   "execution_count": 13,
   "id": "6076084a",
   "metadata": {},
   "outputs": [],
   "source": [
    "def inputPoints():\n",
    "    point = input(\"請輸入第一點的座標，分量使用逗號區隔，例如 1,2: \")\n",
    "    a = []\n",
    "    for x in point.split(',') :\n",
    "        a.append(float(x))\n",
    "        \n",
    "    point = input(\"請輸入第二點的座標，分量使用逗號區隔，例如 1,2: \")\n",
    "    b = []\n",
    "    for x in point.split(',') :\n",
    "        b.append(float(x))\n",
    "\n",
    "    point = input(\"請輸入第三點的座標，分量使用逗號區隔，例如 1,2: \")\n",
    "    c = []\n",
    "    for x in point.split(',') :\n",
    "        c.append(float(x))\n",
    "    \n",
    "    return a,b,c"
   ]
  },
  {
   "cell_type": "code",
   "execution_count": 14,
   "id": "042f3c9d",
   "metadata": {},
   "outputs": [
    {
     "name": "stdout",
     "output_type": "stream",
     "text": [
      "請輸入第一點的座標，使用逗號區隔，例如 1,2: 0,0\n",
      "請輸入第二點的座標，使用逗號區隔，例如 1,2: 10,0\n",
      "請輸入第三點的座標，使用逗號區隔，例如 1,2: 15,5\n"
     ]
    }
   ],
   "source": [
    "a,b,c = inputPoints()"
   ]
  },
  {
   "cell_type": "code",
   "execution_count": 15,
   "id": "12d5391c",
   "metadata": {},
   "outputs": [
    {
     "data": {
      "text/plain": [
       "[0.0, 0.0]"
      ]
     },
     "execution_count": 15,
     "metadata": {},
     "output_type": "execute_result"
    }
   ],
   "source": [
    "a"
   ]
  },
  {
   "cell_type": "code",
   "execution_count": 16,
   "id": "56f910cf",
   "metadata": {},
   "outputs": [
    {
     "data": {
      "text/plain": [
       "[10.0, 0.0]"
      ]
     },
     "execution_count": 16,
     "metadata": {},
     "output_type": "execute_result"
    }
   ],
   "source": [
    "b"
   ]
  },
  {
   "cell_type": "code",
   "execution_count": 17,
   "id": "e5700f2b",
   "metadata": {},
   "outputs": [
    {
     "data": {
      "text/plain": [
       "[15.0, 5.0]"
      ]
     },
     "execution_count": 17,
     "metadata": {},
     "output_type": "execute_result"
    }
   ],
   "source": [
    "c"
   ]
  },
  {
   "cell_type": "code",
   "execution_count": 18,
   "id": "4c7a981c",
   "metadata": {},
   "outputs": [
    {
     "name": "stdout",
     "output_type": "stream",
     "text": [
      "三角形面積 A =  25.0\n"
     ]
    }
   ],
   "source": [
    "area2d(a,b,c)"
   ]
  },
  {
   "cell_type": "code",
   "execution_count": null,
   "id": "60257aca",
   "metadata": {},
   "outputs": [],
   "source": []
  }
 ],
 "metadata": {
  "kernelspec": {
   "display_name": "Python 3",
   "language": "python",
   "name": "python3"
  },
  "language_info": {
   "codemirror_mode": {
    "name": "ipython",
    "version": 3
   },
   "file_extension": ".py",
   "mimetype": "text/x-python",
   "name": "python",
   "nbconvert_exporter": "python",
   "pygments_lexer": "ipython3",
   "version": "3.8.8"
  }
 },
 "nbformat": 4,
 "nbformat_minor": 5
}
