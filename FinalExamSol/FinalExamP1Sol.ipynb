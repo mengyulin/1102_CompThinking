{
 "cells": [
  {
   "cell_type": "markdown",
   "id": "441d96fb",
   "metadata": {},
   "source": [
    "# 第一題 (20 分)\n",
    "\n",
    "## 小題一 (10 分)\n",
    "\n",
    "試以 `for` 迴圈與 `if` 分支結構編寫程式來計算 $y(t)$:\n",
    "\n",
    "$$\n",
    "y(t) = \\left\\{\\begin{array}{ll}\n",
    "                -3t^2 + 5, & t\\ge 0\\\\\n",
    "                3t^2 + 5, & t<0\n",
    "              \\end{array}\\right.\n",
    "$$\n",
    "並繪出在 $-9 \\le t \\le 9$ 之函數圖形。繪圖的點數至少 100 點。\n"
   ]
  },
  {
   "cell_type": "code",
   "execution_count": 1,
   "id": "6d9ed613",
   "metadata": {},
   "outputs": [],
   "source": [
    "%matplotlib inline\n",
    "\n",
    "import numpy as np\n",
    "import matplotlib.pyplot as plt"
   ]
  },
  {
   "cell_type": "code",
   "execution_count": 7,
   "id": "7ba1c3b3",
   "metadata": {},
   "outputs": [],
   "source": [
    "N = 100\n",
    "t = np.linspace(-9,9,N)\n",
    "y = np.zeros(t.shape)"
   ]
  },
  {
   "cell_type": "code",
   "execution_count": 8,
   "id": "e2286ddb",
   "metadata": {},
   "outputs": [],
   "source": [
    "for i in range(N):\n",
    "    if t[i] < 0:\n",
    "        y[i] = 3 * t[i]**2 + 5\n",
    "    else:\n",
    "        y[i] = -3 * t[i]**2 + 5        "
   ]
  },
  {
   "cell_type": "code",
   "execution_count": 9,
   "id": "d33c6ebf",
   "metadata": {},
   "outputs": [
    {
     "data": {
      "text/plain": [
       "[<matplotlib.lines.Line2D at 0x7ff0525713d0>]"
      ]
     },
     "execution_count": 9,
     "metadata": {},
     "output_type": "execute_result"
    },
    {
     "data": {
      "image/png": "[encoded data removed]",
      "text/plain": [
       "<Figure size 432x288 with 1 Axes>"
      ]
     },
     "metadata": {
      "needs_background": "light"
     },
     "output_type": "display_data"
    }
   ],
   "source": [
    "plt.plot(t,y)"
   ]
  },
  {
   "cell_type": "markdown",
   "id": "6760bd9e",
   "metadata": {},
   "source": [
    "## 小題二 (10 分)\n",
    "\n",
    "改為使用 `Array 快篩法` (可參考冒險 34)，不使用 `for` 迴圈，設定 $y(t)$ 並繪製上述圖形。"
   ]
  },
  {
   "cell_type": "code",
   "execution_count": 11,
   "id": "904d541b",
   "metadata": {},
   "outputs": [],
   "source": [
    "N = 100\n",
    "t = np.linspace(-9,9,N)"
   ]
  },
  {
   "cell_type": "code",
   "execution_count": 14,
   "id": "da770c61",
   "metadata": {},
   "outputs": [],
   "source": [
    "y = -3 * t**2 + 5\n",
    "y[t<0] = 3 * t[t<0]**2 + 5"
   ]
  },
  {
   "cell_type": "code",
   "execution_count": 15,
   "id": "260d2e3e",
   "metadata": {},
   "outputs": [
    {
     "data": {
      "text/plain": [
       "[<matplotlib.lines.Line2D at 0x7ff028106df0>]"
      ]
     },
     "execution_count": 15,
     "metadata": {},
     "output_type": "execute_result"
    },
    {
     "data": {
      "image/png": "[encoded data removed]",
      "text/plain": [
       "<Figure size 432x288 with 1 Axes>"
      ]
     },
     "metadata": {
      "needs_background": "light"
     },
     "output_type": "display_data"
    }
   ],
   "source": [
    "plt.plot(t,y)"
   ]
  },
  {
   "cell_type": "code",
   "execution_count": null,
   "id": "15e5f31f",
   "metadata": {},
   "outputs": [],
   "source": []
  }
 ],
 "metadata": {
  "kernelspec": {
   "display_name": "Python 3",
   "language": "python",
   "name": "python3"
  },
  "language_info": {
   "codemirror_mode": {
    "name": "ipython",
    "version": 3
   },
   "file_extension": ".py",
   "mimetype": "text/x-python",
   "name": "python",
   "nbconvert_exporter": "python",
   "pygments_lexer": "ipython3",
   "version": "3.8.8"
  }
 },
 "nbformat": 4,
 "nbformat_minor": 5
}
