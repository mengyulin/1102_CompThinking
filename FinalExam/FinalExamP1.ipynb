{
 "cells": [
  {
   "cell_type": "markdown",
   "id": "bf2fb5c1",
   "metadata": {
    "slideshow": {
     "slide_type": "skip"
    }
   },
   "source": [
    "[![Open In Colab](https://colab.research.google.com/assets/colab-badge.svg)](https://colab.research.google.com/github/mengyulin/1102_CompThinking/blob/main/FinalExam/FinalExamP1.ipynb)"
   ]
  },
  {
   "cell_type": "markdown",
   "id": "441d96fb",
   "metadata": {},
   "source": [
    "# 第一題 (20 分)\n",
    "\n",
    "## 小題一 (10 分)\n",
    "\n",
    "試以 `for` 迴圈與 `if` 分支結構編寫程式來計算 $y(t)$:\n",
    "\n",
    "$$\n",
    "y(t) = \\left\\{\\begin{array}{ll}\n",
    "                -3t^2 + 5, & t\\ge 0\\\\\n",
    "                3t^2 + 5, & t<0\n",
    "              \\end{array}\\right.\n",
    "$$\n",
    "並繪出在 $-9 \\le t \\le 9$ 之函數圖形。繪圖的點數至少 100 點。\n"
   ]
  },
  {
   "cell_type": "code",
   "execution_count": 1,
   "id": "6d9ed613",
   "metadata": {},
   "outputs": [],
   "source": [
    "%matplotlib inline\n",
    "\n",
    "import numpy as np\n",
    "import matplotlib.pyplot as plt"
   ]
  },
  {
   "cell_type": "code",
   "execution_count": null,
   "id": "040d2b4e",
   "metadata": {},
   "outputs": [],
   "source": []
  },
  {
   "cell_type": "markdown",
   "id": "6760bd9e",
   "metadata": {},
   "source": [
    "## 小題二 (10 分)\n",
    "\n",
    "改為使用 `Array 快篩法` (可參考冒險 34)，不使用 `for` 迴圈，設定 $y(t)$ 並繪製上述圖形。"
   ]
  },
  {
   "cell_type": "code",
   "execution_count": null,
   "id": "15e5f31f",
   "metadata": {},
   "outputs": [],
   "source": []
  }
 ],
 "metadata": {
  "kernelspec": {
   "display_name": "Python 3",
   "language": "python",
   "name": "python3"
  },
  "language_info": {
   "codemirror_mode": {
    "name": "ipython",
    "version": 3
   },
   "file_extension": ".py",
   "mimetype": "text/x-python",
   "name": "python",
   "nbconvert_exporter": "python",
   "pygments_lexer": "ipython3",
   "version": "3.8.8"
  }
 },
 "nbformat": 4,
 "nbformat_minor": 5
}
