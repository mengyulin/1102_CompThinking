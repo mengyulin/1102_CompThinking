{
 "cells": [
  {
   "cell_type": "markdown",
   "id": "5b17814f",
   "metadata": {
    "slideshow": {
     "slide_type": "skip"
    }
   },
   "source": [
    "[![Open In Colab](https://colab.research.google.com/assets/colab-badge.svg)](https://colab.research.google.com/github/mengyulin/1102_CompThinking/blob/main/FinalExam/FinalExamP3.ipynb)"
   ]
  },
  {
   "cell_type": "markdown",
   "id": "9109acf3",
   "metadata": {},
   "source": [
    "# 第三題 (30 分)\n",
    "\n",
    "使用 Pandas 套件，匯入網路資源提供的學生學測資料 (https://bitly.com/gradescsv) ，進行以下分析（每小題 5 分）：\n",
    "\n",
    "1. 增加新的一欄 \"總級分\"，為國文、英文、數學與自然四科成績的總和，但不加入社會科成績。列出五筆數據以檢查是否正確。\n",
    "2. 增加新的一欄 \"主科\", 其計算方式為英文成績 + 1.5 倍的數學成績 + 自然成績。列出五筆數據以檢查是否正確。\n",
    "3. 以適當的區間，分別繪出總級分與主科的長條圖 (又稱直方圖，histogram)。\n",
    "4. 計算主科與總級分的相關係數。\n",
    "5. 將成績表排序，排序規則為先以主科排序、主科若同分再以總級分排序，由大排到小。列出前十筆數據。\n",
    "6. 使用快篩法，依照前述排序，列出所有主科大於等於 47 分，且總級分大於等於 50 分的名單。"
   ]
  },
  {
   "cell_type": "code",
   "execution_count": 9,
   "id": "9bd6350e",
   "metadata": {},
   "outputs": [],
   "source": [
    "%matplotlib inline\n",
    "\n",
    "import numpy as np\n",
    "import matplotlib.pyplot as plt\n",
    "import pandas as pd"
   ]
  },
  {
   "cell_type": "code",
   "execution_count": 10,
   "id": "1225adfd",
   "metadata": {},
   "outputs": [],
   "source": [
    "df = pd.read_csv('https://bitly.com/gradescsv') "
   ]
  },
  {
   "cell_type": "code",
   "execution_count": null,
   "id": "94b1caa8",
   "metadata": {},
   "outputs": [],
   "source": []
  }
 ],
 "metadata": {
  "kernelspec": {
   "display_name": "Python 3",
   "language": "python",
   "name": "python3"
  },
  "language_info": {
   "codemirror_mode": {
    "name": "ipython",
    "version": 3
   },
   "file_extension": ".py",
   "mimetype": "text/x-python",
   "name": "python",
   "nbconvert_exporter": "python",
   "pygments_lexer": "ipython3",
   "version": "3.8.8"
  }
 },
 "nbformat": 4,
 "nbformat_minor": 5
}
