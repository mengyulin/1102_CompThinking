{
 "cells": [
  {
   "cell_type": "markdown",
   "id": "66cfed7a",
   "metadata": {
    "slideshow": {
     "slide_type": "skip"
    }
   },
   "source": [
    "[![Open In Colab](https://colab.research.google.com/assets/colab-badge.svg)](https://colab.research.google.com/github/mengyulin/1102_CompThinking/blob/main/Adventure18/冒險18練習.ipynb)"
   ]
  },
  {
   "cell_type": "markdown",
   "id": "957a0a8a",
   "metadata": {
    "slideshow": {
     "slide_type": "slide"
    }
   },
   "source": [
    "## 練習：BMI 計算\n",
    "\n",
    "寫一個函式，有兩個引數，一個是身高，一個是體重，回傳 BMI 值。其計算公式是以體重（公斤）除以身高（公尺）的平方。\n",
    "\n",
    "### 程式架構\n",
    "1. 定義可輸入體重與身高，計算 bmi 值後輸出之函式。\n",
    "2. 在主程式中提示使用者輸入身高、體重。\n",
    "3. 呼叫步驟 1 定義之函式。\n",
    "4. 輸出結果。\n",
    "\n",
    "註：可以從下面的程式改寫。"
   ]
  },
  {
   "cell_type": "code",
   "execution_count": null,
   "id": "93a03391",
   "metadata": {
    "slideshow": {
     "slide_type": "subslide"
    }
   },
   "outputs": [],
   "source": [
    "# 原練習 12 的程式：\n",
    "\n",
    "height = float(input(\"請輸入身高 (公尺): \"))\n",
    "weight = float(input(\"請輸入體重 (公斤): \"))\n",
    "bmi = weight / height / height"
   ]
  },
  {
   "cell_type": "code",
   "execution_count": 3,
   "id": "5f6d4a60",
   "metadata": {},
   "outputs": [
    {
     "name": "stdout",
     "output_type": "stream",
     "text": [
      "請輸入身高 (公尺): 1.6\n",
      "請輸入體重 (公斤): 50\n",
      "bmi =  19.53125\n"
     ]
    }
   ],
   "source": [
    "# 定義函式        變數生命週期\n",
    "\n",
    "def bmical():\n",
    "    height = float(input(\"請輸入身高 (公尺): \"))\n",
    "    weight = float(input(\"請輸入體重 (公斤): \"))\n",
    "    bmi = weight / height / height # bmi 之計算公式\n",
    "    print(\"bmi = \", bmi)\n",
    "\n",
    "\n",
    "# 主程式\n",
    "\n",
    "bmical()\n"
   ]
  },
  {
   "cell_type": "code",
   "execution_count": null,
   "id": "97abb05e",
   "metadata": {},
   "outputs": [],
   "source": []
  }
 ],
 "metadata": {
  "kernelspec": {
   "display_name": "Python 3",
   "language": "python",
   "name": "python3"
  },
  "language_info": {
   "codemirror_mode": {
    "name": "ipython",
    "version": 3
   },
   "file_extension": ".py",
   "mimetype": "text/x-python",
   "name": "python",
   "nbconvert_exporter": "python",
   "pygments_lexer": "ipython3",
   "version": "3.8.8"
  }
 },
 "nbformat": 4,
 "nbformat_minor": 5
}
