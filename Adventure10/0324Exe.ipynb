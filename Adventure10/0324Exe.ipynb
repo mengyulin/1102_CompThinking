{
 "cells": [
  {
   "cell_type": "markdown",
   "id": "d734961d",
   "metadata": {},
   "source": [
    "[![Open In Colab](https://colab.research.google.com/assets/colab-badge.svg)](https://colab.research.google.com/github/mengyulin/1102_CompThinking/blob/main/Adventure10/0324Exe.ipynb)\n",
    "\n",
    "# 冒險 04 練習\n",
    "\n",
    "可以從平均值 2, 標準差 5 符合常態分佈的資料中，取出 100 筆資料嗎？\n",
    "\n",
    "Hint: google 搜尋 `np.random.randn`, 可以找到 `numpy.random` 的官網說明資料：\n",
    "\n",
    "https://numpy.org/doc/stable/reference/random/generated/numpy.random.randn.html"
   ]
  },
  {
   "cell_type": "code",
   "execution_count": null,
   "id": "bfdf9d6b",
   "metadata": {},
   "outputs": [],
   "source": []
  },
  {
   "cell_type": "markdown",
   "id": "7b7af59a",
   "metadata": {},
   "source": [
    "# 冒險 09 練習\n",
    "\n",
    "請用 Markdown 與 LaTeX 語法，嘗試寫出下面的內容。\n",
    "\n",
    "LaTeX 指令提示：\n",
    "\n",
    "- 上標為 `^`, 下標為 `_`。例如 $a^{0.1}$ 指令為 `$a^{0.1}$`。\n",
    "- 求和 (summation) 符號為 `\\Sigma`\n",
    "- 分式指令為 `\\frac{a}{b}`, 其結果為 $\\frac{a}{b}$\n",
    "\n",
    "![Markdown範例](markdown.png)"
   ]
  },
  {
   "cell_type": "code",
   "execution_count": null,
   "id": "a6aa7ae4",
   "metadata": {},
   "outputs": [],
   "source": []
  },
  {
   "cell_type": "markdown",
   "id": "b50024e6",
   "metadata": {},
   "source": [
    "# 冒險 10 練習\n",
    "\n",
    "亂數決定重覆印幾次 face 這個字串。\n",
    "\n",
    "    face = \"(*´∀`)~♥\""
   ]
  },
  {
   "cell_type": "code",
   "execution_count": null,
   "id": "23e3572e",
   "metadata": {},
   "outputs": [],
   "source": []
  }
 ],
 "metadata": {
  "kernelspec": {
   "display_name": "Python 3",
   "language": "python",
   "name": "python3"
  },
  "language_info": {
   "codemirror_mode": {
    "name": "ipython",
    "version": 3
   },
   "file_extension": ".py",
   "mimetype": "text/x-python",
   "name": "python",
   "nbconvert_exporter": "python",
   "pygments_lexer": "ipython3",
   "version": "3.8.8"
  }
 },
 "nbformat": 4,
 "nbformat_minor": 5
}
