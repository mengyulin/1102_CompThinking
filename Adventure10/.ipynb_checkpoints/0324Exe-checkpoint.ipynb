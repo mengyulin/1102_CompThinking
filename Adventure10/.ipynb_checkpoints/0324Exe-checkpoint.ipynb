{
 "cells": [
  {
   "cell_type": "markdown",
   "id": "d734961d",
   "metadata": {},
   "source": [
    "[![Open In Colab](https://colab.research.google.com/assets/colab-badge.svg)](https://colab.research.google.com/github/mengyulin/1102_CompThinking/blob/main/Adventure10/0324Exe.ipynb)\n",
    "\n",
    "# 冒險 04 練習\n",
    "\n",
    "可以從平均值 2, 標準差 5 符合常態分佈的資料中，取出 100 筆資料嗎？\n",
    "\n",
    "Hint: google 搜尋 `np.random.randn`, 可以找到 `numpy.random` 的官網說明資料：\n",
    "\n",
    "https://numpy.org/doc/stable/reference/random/generated/numpy.random.randn.html"
   ]
  },
  {
   "cell_type": "code",
   "execution_count": 2,
   "id": "bfdf9d6b",
   "metadata": {},
   "outputs": [
    {
     "data": {
      "text/plain": [
       "array([ -5.66131716,   2.79584743,   5.04849918,   2.98715018,\n",
       "        -2.13341468,   0.2760492 ,   7.09814935,   0.92071919,\n",
       "        -2.63435355,   1.30070808, -12.11927256,  -1.86573552,\n",
       "         7.17865577,  -1.86868366,  -3.7881081 ,  -1.0394245 ,\n",
       "         6.93141858,   2.96166554,   3.69526361,   6.42089634,\n",
       "         3.65069216,  11.34643885,  -4.71995801,   0.8109439 ,\n",
       "         4.71148765,   3.78494041,  -2.27355555,  14.48260872,\n",
       "        -6.79325275,  -3.70847801,  10.54324754,   2.24462294,\n",
       "         7.18711354,   3.57524647,   0.36056017,   2.01680675,\n",
       "        -3.08838879,   0.10658218,   5.97725058,   1.01872563,\n",
       "         0.94053612,   1.39307336,   9.23179787,   7.81490083,\n",
       "         8.07265946,  -5.98676959,   2.23879334,   6.17752762,\n",
       "         4.48484235,   0.29359214,   0.18103382,  -2.38122142,\n",
       "        10.20702851,   5.55684493,  12.83875404,   1.88593196,\n",
       "        -2.48005644,  10.01429744,   8.35719967,   7.01579503,\n",
       "        10.58080866,   7.72669072,   5.14877265,  -5.19508184,\n",
       "        13.70762412,  -8.42251212,   6.82048637,   8.21600086,\n",
       "         5.29656584,   5.40199278,   4.1460154 ,   7.12538327,\n",
       "        -1.34323643,   3.32420033,   4.62999782,  -4.19147332,\n",
       "        -6.35004523,   2.85610071,  -5.3874069 ,  -1.19702166,\n",
       "        -0.5814353 ,   6.71352743,   5.577809  ,   5.48110975,\n",
       "         1.97598818,   8.80418568,   1.8152224 ,   3.24797387,\n",
       "         2.87129674,   2.41627526,   1.61803839,   1.65184188,\n",
       "        -2.94807985,  -0.84161558,   2.3468573 ,  -3.63901902,\n",
       "         1.26333439,  -1.63628512,  -4.97942434,   1.69874461])"
      ]
     },
     "execution_count": 2,
     "metadata": {},
     "output_type": "execute_result"
    }
   ],
   "source": [
    "%matplotlib inline\n",
    "\n",
    "import numpy as np\n",
    "import matplotlib.pyplot\n",
    "\n",
    "x = 2 + 5 * np.random.randn(100)\n",
    "x"
   ]
  },
  {
   "cell_type": "markdown",
   "id": "7b7af59a",
   "metadata": {},
   "source": [
    "# 冒險 09 練習\n",
    "\n",
    "請用 Markdown 與 LaTeX 語法，嘗試寫出下面的內容。\n",
    "\n",
    "LaTeX 指令提示：\n",
    "\n",
    "- 上標為 `^`, 下標為 `_`。例如 $a^{0.1}$ 指令為 `$a^{0.1}$`。\n",
    "- 求和 (summation) 符號為 `\\Sigma`\n",
    "- 分式指令為 `\\frac{a}{b}`, 其結果為 $\\frac{a}{b}$\n",
    "\n",
    "![Markdown範例](markdown.png)"
   ]
  },
  {
   "cell_type": "markdown",
   "id": "ee1af3d9",
   "metadata": {},
   "source": [
    "# 合理化公式例題三\n",
    "\n",
    "某市鎮其面積及各區逕流係數如下表:\n",
    "\n",
    "地區                   | 住宅區  | 商業區 | 綠地 \n",
    ":--------------------:|:-----:|:------:|:----:\n",
    "面積 ($\\mathrm{km}^2$) | 3.0   |  2.0   | 1.0   \n",
    "逕流係數                | 0.4  |  0.7   |  0.2 \n",
    "\n",
    "假設雨水到達下水道時間最長為 10 min，下水道長度 3 km，下水道設計流速 1.5 m/s，該區降雨強度-延時曲線為\n",
    "\n",
    "$$\n",
    "i = \\frac{1851}{(t+19)^{0.7}}\n",
    "$$\n",
    "\n",
    "其中 *i* 為降雨強度 (mm/hr)，*t* 為時間 (min)。試求下水道之設計流量。\n",
    "\n",
    "## 解答\n",
    "\n",
    "首先以**面積加權**方式計算平均逕流係數\n",
    "\n",
    "$$ C = \\frac{\\sum_i C_i A_i}{\\sum_i A_i} $$"
   ]
  },
  {
   "cell_type": "markdown",
   "id": "b50024e6",
   "metadata": {},
   "source": [
    "# 冒險 10 練習\n",
    "\n",
    "亂數決定重覆印幾次 face 這個字串。\n",
    "\n",
    "    face = \"(*´∀`)~♥\""
   ]
  },
  {
   "cell_type": "code",
   "execution_count": 10,
   "id": "23e3572e",
   "metadata": {},
   "outputs": [
    {
     "name": "stdout",
     "output_type": "stream",
     "text": [
      "(*´∀`)~♥(*´∀`)~♥(*´∀`)~♥\n"
     ]
    }
   ],
   "source": [
    "n = np.random.randint(1,10)\n",
    "face = \"(*´∀`)~♥\"\n",
    "print(face * n)"
   ]
  }
 ],
 "metadata": {
  "kernelspec": {
   "display_name": "Python 3",
   "language": "python",
   "name": "python3"
  },
  "language_info": {
   "codemirror_mode": {
    "name": "ipython",
    "version": 3
   },
   "file_extension": ".py",
   "mimetype": "text/x-python",
   "name": "python",
   "nbconvert_exporter": "python",
   "pygments_lexer": "ipython3",
   "version": "3.8.8"
  }
 },
 "nbformat": 4,
 "nbformat_minor": 5
}
