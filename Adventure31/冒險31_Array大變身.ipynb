{
 "cells": [
  {
   "cell_type": "markdown",
   "metadata": {
    "slideshow": {
     "slide_type": "skip"
    }
   },
   "source": [
    "[![Open In Colab](https://colab.research.google.com/assets/colab-badge.svg)](https://colab.research.google.com/github/mengyulin/1102_CompThinking/blob/main/Adventure31/冒險31_Array大變身.ipynb)"
   ]
  },
  {
   "cell_type": "markdown",
   "metadata": {
    "slideshow": {
     "slide_type": "slide"
    }
   },
   "source": [
    "# 冒險 31 Array 大變身"
   ]
  },
  {
   "cell_type": "code",
   "execution_count": 1,
   "metadata": {
    "slideshow": {
     "slide_type": "-"
    }
   },
   "outputs": [],
   "source": [
    "%matplotlib inline\n",
    "\n",
    "import numpy as np\n",
    "import matplotlib.pyplot as plt"
   ]
  },
  {
   "cell_type": "markdown",
   "metadata": {
    "slideshow": {
     "slide_type": "subslide"
    }
   },
   "source": [
    "用亂數取一個 array，總共有100個數字，從標準常態分配取出來。"
   ]
  },
  {
   "cell_type": "code",
   "execution_count": 2,
   "metadata": {},
   "outputs": [],
   "source": [
    "A = np.random.randn(100)"
   ]
  },
  {
   "cell_type": "code",
   "execution_count": 3,
   "metadata": {
    "slideshow": {
     "slide_type": "subslide"
    }
   },
   "outputs": [
    {
     "data": {
      "text/plain": [
       "array([-3.35923502e-01,  6.03868224e-01, -1.47126184e+00,  1.66527497e+00,\n",
       "        1.29750409e+00,  4.37798068e-01,  7.14126856e-01,  3.46044623e-01,\n",
       "       -4.53963926e-01,  1.10076449e+00, -1.04004889e+00,  1.59383617e+00,\n",
       "       -7.66453511e-01,  1.43165357e-01, -5.36447717e-01, -8.39889653e-01,\n",
       "       -1.26077784e+00,  2.52198790e-01, -2.18946496e-01, -1.63537543e+00,\n",
       "       -1.21506654e-01, -1.67440887e+00, -1.34941474e+00,  1.04981615e+00,\n",
       "        2.21000111e-02, -4.64559175e-02, -2.62972431e+00,  7.90828515e-01,\n",
       "        3.28606898e-01, -1.13211344e+00,  6.52761815e-01, -7.72274840e-01,\n",
       "       -7.12738552e-02, -1.33815224e-01, -3.00522044e-01, -7.53617259e-01,\n",
       "       -1.86998549e+00, -8.73148198e-01,  1.04229455e-01, -9.90335164e-01,\n",
       "       -1.01920513e+00,  6.96620267e-02,  1.00182351e+00, -1.63935752e+00,\n",
       "        3.12043980e-01,  1.39670786e+00,  4.88162133e-01, -7.99902312e-01,\n",
       "       -1.23703003e-02, -5.13237671e-01,  7.69736589e-01,  8.19078789e-01,\n",
       "       -9.31657982e-01,  3.74443598e-01, -1.05805007e+00, -7.83815454e-01,\n",
       "        6.22491034e-01,  1.28964573e+00,  1.05735563e+00,  1.36650752e+00,\n",
       "       -8.30662108e-02,  1.97455241e-01, -3.75134701e-01, -2.57316256e-02,\n",
       "       -1.13280548e+00,  6.66209695e-01, -9.67354056e-01,  2.78082974e-01,\n",
       "        7.83896278e-01, -6.12507199e-01,  2.44460269e+00,  3.72681012e-01,\n",
       "        1.29256185e+00, -4.95448634e-01,  1.20474611e+00, -1.79471982e+00,\n",
       "       -1.34918449e+00, -6.42758360e-01, -4.37854935e-01,  8.52486320e-01,\n",
       "       -1.05988916e-03, -6.28571464e-02, -2.13763761e-01, -7.39267825e-01,\n",
       "       -2.42637082e-01, -4.84104859e-01,  1.66195816e+00,  6.83768925e-01,\n",
       "       -1.13262021e+00,  1.97959762e+00, -1.78618258e+00, -3.48932359e-01,\n",
       "        4.50220823e-01, -1.86341830e+00,  5.16705848e-01, -4.08358347e-01,\n",
       "       -6.86849496e-01,  1.61869853e-01,  6.70693968e-01,  2.96924068e-01])"
      ]
     },
     "execution_count": 3,
     "metadata": {},
     "output_type": "execute_result"
    }
   ],
   "source": [
    "A"
   ]
  },
  {
   "cell_type": "markdown",
   "metadata": {
    "slideshow": {
     "slide_type": "subslide"
    }
   },
   "source": [
    "A 目前的形狀。"
   ]
  },
  {
   "cell_type": "code",
   "execution_count": 4,
   "metadata": {},
   "outputs": [
    {
     "data": {
      "text/plain": [
       "(100,)"
      ]
     },
     "execution_count": 4,
     "metadata": {},
     "output_type": "execute_result"
    }
   ],
   "source": [
    "A.shape"
   ]
  },
  {
   "cell_type": "markdown",
   "metadata": {
    "slideshow": {
     "slide_type": "slide"
    }
   },
   "source": [
    "把 A 變成 5$\\times$20 的矩陣。"
   ]
  },
  {
   "cell_type": "code",
   "execution_count": 7,
   "metadata": {},
   "outputs": [
    {
     "data": {
      "text/plain": [
       "(5, 20)"
      ]
     },
     "execution_count": 7,
     "metadata": {},
     "output_type": "execute_result"
    }
   ],
   "source": [
    "A.shape = (5, 20)\n",
    "A.shape"
   ]
  },
  {
   "cell_type": "code",
   "execution_count": 6,
   "metadata": {
    "slideshow": {
     "slide_type": "subslide"
    }
   },
   "outputs": [
    {
     "data": {
      "text/plain": [
       "array([[-3.35923502e-01,  6.03868224e-01, -1.47126184e+00,\n",
       "         1.66527497e+00,  1.29750409e+00,  4.37798068e-01,\n",
       "         7.14126856e-01,  3.46044623e-01, -4.53963926e-01,\n",
       "         1.10076449e+00, -1.04004889e+00,  1.59383617e+00,\n",
       "        -7.66453511e-01,  1.43165357e-01, -5.36447717e-01,\n",
       "        -8.39889653e-01, -1.26077784e+00,  2.52198790e-01,\n",
       "        -2.18946496e-01, -1.63537543e+00],\n",
       "       [-1.21506654e-01, -1.67440887e+00, -1.34941474e+00,\n",
       "         1.04981615e+00,  2.21000111e-02, -4.64559175e-02,\n",
       "        -2.62972431e+00,  7.90828515e-01,  3.28606898e-01,\n",
       "        -1.13211344e+00,  6.52761815e-01, -7.72274840e-01,\n",
       "        -7.12738552e-02, -1.33815224e-01, -3.00522044e-01,\n",
       "        -7.53617259e-01, -1.86998549e+00, -8.73148198e-01,\n",
       "         1.04229455e-01, -9.90335164e-01],\n",
       "       [-1.01920513e+00,  6.96620267e-02,  1.00182351e+00,\n",
       "        -1.63935752e+00,  3.12043980e-01,  1.39670786e+00,\n",
       "         4.88162133e-01, -7.99902312e-01, -1.23703003e-02,\n",
       "        -5.13237671e-01,  7.69736589e-01,  8.19078789e-01,\n",
       "        -9.31657982e-01,  3.74443598e-01, -1.05805007e+00,\n",
       "        -7.83815454e-01,  6.22491034e-01,  1.28964573e+00,\n",
       "         1.05735563e+00,  1.36650752e+00],\n",
       "       [-8.30662108e-02,  1.97455241e-01, -3.75134701e-01,\n",
       "        -2.57316256e-02, -1.13280548e+00,  6.66209695e-01,\n",
       "        -9.67354056e-01,  2.78082974e-01,  7.83896278e-01,\n",
       "        -6.12507199e-01,  2.44460269e+00,  3.72681012e-01,\n",
       "         1.29256185e+00, -4.95448634e-01,  1.20474611e+00,\n",
       "        -1.79471982e+00, -1.34918449e+00, -6.42758360e-01,\n",
       "        -4.37854935e-01,  8.52486320e-01],\n",
       "       [-1.05988916e-03, -6.28571464e-02, -2.13763761e-01,\n",
       "        -7.39267825e-01, -2.42637082e-01, -4.84104859e-01,\n",
       "         1.66195816e+00,  6.83768925e-01, -1.13262021e+00,\n",
       "         1.97959762e+00, -1.78618258e+00, -3.48932359e-01,\n",
       "         4.50220823e-01, -1.86341830e+00,  5.16705848e-01,\n",
       "        -4.08358347e-01, -6.86849496e-01,  1.61869853e-01,\n",
       "         6.70693968e-01,  2.96924068e-01]])"
      ]
     },
     "execution_count": 6,
     "metadata": {},
     "output_type": "execute_result"
    }
   ],
   "source": [
    "A"
   ]
  },
  {
   "cell_type": "markdown",
   "metadata": {
    "slideshow": {
     "slide_type": "subslide"
    }
   },
   "source": [
    "若要讀取 A 在不同維度的元素個數，也可以用 `shape` 指令。A 的第一、第二個維度之元素個數分別為"
   ]
  },
  {
   "cell_type": "code",
   "execution_count": 8,
   "metadata": {},
   "outputs": [
    {
     "data": {
      "text/plain": [
       "5"
      ]
     },
     "execution_count": 8,
     "metadata": {},
     "output_type": "execute_result"
    }
   ],
   "source": [
    "A.shape[0]   #index     "
   ]
  },
  {
   "cell_type": "code",
   "execution_count": 9,
   "metadata": {},
   "outputs": [
    {
     "data": {
      "text/plain": [
       "20"
      ]
     },
     "execution_count": 9,
     "metadata": {},
     "output_type": "execute_result"
    }
   ],
   "source": [
    "A.shape[1]"
   ]
  },
  {
   "cell_type": "markdown",
   "metadata": {
    "slideshow": {
     "slide_type": "slide"
    }
   },
   "source": [
    "要改變array的形狀還可以這樣，這次我們想換成100$\\times$1的矩陣。"
   ]
  },
  {
   "cell_type": "code",
   "execution_count": null,
   "metadata": {
    "scrolled": true
   },
   "outputs": [],
   "source": [
    "A.reshape(100, 1)"
   ]
  },
  {
   "cell_type": "markdown",
   "metadata": {
    "slideshow": {
     "slide_type": "subslide"
    }
   },
   "source": [
    "若一個 array 的形狀是 (100,), 代表是一個一維的向量，裡面有 100 個數字。\n",
    "\n",
    "若 array 的形狀是 (100,1)，則代表是一個二維矩陣，總共有 100 個列，每一列有 100 個數字。"
   ]
  },
  {
   "cell_type": "markdown",
   "metadata": {
    "slideshow": {
     "slide_type": "slide"
    }
   },
   "source": [
    "reshape 後形狀沒有改變。"
   ]
  },
  {
   "cell_type": "code",
   "execution_count": null,
   "metadata": {},
   "outputs": [],
   "source": [
    "A.shape"
   ]
  },
  {
   "cell_type": "markdown",
   "metadata": {},
   "source": [
    "賦值才能改變形狀。"
   ]
  },
  {
   "cell_type": "code",
   "execution_count": null,
   "metadata": {},
   "outputs": [],
   "source": [
    "A = A.reshape(100, 1)\n",
    "A.shape"
   ]
  },
  {
   "cell_type": "code",
   "execution_count": null,
   "metadata": {},
   "outputs": [],
   "source": []
  }
 ],
 "metadata": {
  "celltoolbar": "Slideshow",
  "kernelspec": {
   "display_name": "Python 3",
   "language": "python",
   "name": "python3"
  },
  "language_info": {
   "codemirror_mode": {
    "name": "ipython",
    "version": 3
   },
   "file_extension": ".py",
   "mimetype": "text/x-python",
   "name": "python",
   "nbconvert_exporter": "python",
   "pygments_lexer": "ipython3",
   "version": "3.8.8"
  }
 },
 "nbformat": 4,
 "nbformat_minor": 2
}
