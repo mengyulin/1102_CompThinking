{
 "cells": [
  {
   "cell_type": "markdown",
   "id": "002501c5",
   "metadata": {},
   "source": [
    "[![Open In Colab](https://colab.research.google.com/assets/colab-badge.svg)](https://colab.research.google.com/github/mengyulin/1102_CompThinking/blob/main/Adventure06/冒險06_練習.ipynb)\n",
    "\n",
    "# 冒險 06 練習\n",
    "\n",
    "## 練習 1\n",
    "\n",
    "對函數 $r(\\theta) = \\sin(2\\theta)\\cos(\\theta)$, $0\\le \\theta \\le 2\\pi$ 繪製極座標圖。注意圖形的座標要設為相同單位長度。"
   ]
  },
  {
   "cell_type": "code",
   "execution_count": null,
   "id": "770a3ce9",
   "metadata": {},
   "outputs": [],
   "source": []
  },
  {
   "cell_type": "markdown",
   "id": "55bc2107",
   "metadata": {},
   "source": [
    "## 練習 2\n",
    "\n",
    "**阿基米德螺旋**是一個在極座標中，根據方程式\n",
    "\n",
    "$$ r = k\\theta$$\n",
    "\n",
    "所繪出的曲線。請繪出當 $r = 0.5$ 時，$\\theta$ 在 0 至 $6\\pi$ 的區間內的阿基米德螺旋。"
   ]
  },
  {
   "cell_type": "code",
   "execution_count": null,
   "id": "8759b57a",
   "metadata": {},
   "outputs": [],
   "source": []
  }
 ],
 "metadata": {
  "kernelspec": {
   "display_name": "Python 3",
   "language": "python",
   "name": "python3"
  },
  "language_info": {
   "codemirror_mode": {
    "name": "ipython",
    "version": 3
   },
   "file_extension": ".py",
   "mimetype": "text/x-python",
   "name": "python",
   "nbconvert_exporter": "python",
   "pygments_lexer": "ipython3",
   "version": "3.8.8"
  }
 },
 "nbformat": 4,
 "nbformat_minor": 5
}
