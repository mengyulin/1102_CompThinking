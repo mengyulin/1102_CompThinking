{
 "cells": [
  {
   "cell_type": "markdown",
   "id": "92194fca",
   "metadata": {
    "slideshow": {
     "slide_type": "skip"
    }
   },
   "source": [
    "[![Open In Colab](https://colab.research.google.com/assets/colab-badge.svg)](https://colab.research.google.com/github/mengyulin/1102_CompThinking/blob/main/Project/ReportExamp.ipynb)"
   ]
  },
  {
   "cell_type": "markdown",
   "id": "b9a90423",
   "metadata": {},
   "source": [
    "# 運算思維與程式設計專題書面報告\n",
    "\n",
    "班級：XXX\n",
    "\n",
    "學號：OOOOOO\n",
    "\n",
    "姓名：XXX\n",
    "\n",
    "## 專題題目\n",
    "\n",
    "略 (請自行加入)"
   ]
  },
  {
   "cell_type": "code",
   "execution_count": 1,
   "id": "72efbcb4",
   "metadata": {},
   "outputs": [],
   "source": [
    "%matplotlib inline\n",
    "\n",
    "import numpy as np\n",
    "import matplotlib.pyplot as plt"
   ]
  },
  {
   "cell_type": "markdown",
   "id": "9d753628",
   "metadata": {},
   "source": [
    "## 簡單案例之一\n",
    "\n",
    "考慮一圖形 $y(x) = x$。此線條至 $x$ 軸在 $x = 0$ 至 $x = 1$ 之間所涵蓋的面積為何?\n",
    "\n",
    "首先繪出 $y(x) = x, x \\in (0,1)$, 並標示起點與終點如下："
   ]
  },
  {
   "cell_type": "code",
   "execution_count": 13,
   "id": "4628139c",
   "metadata": {},
   "outputs": [
    {
     "data": {
      "image/png": "[encoded data removed]",
      "text/plain": [
       "<Figure size 432x288 with 1 Axes>"
      ]
     },
     "metadata": {
      "needs_background": "light"
     },
     "output_type": "display_data"
    }
   ],
   "source": [
    "x = np.linspace(0,1,100)\n",
    "y = x\n",
    "\n",
    "plt.title(\"$y(x) = x$\") \n",
    "plt.xlabel(\"$x$\")\n",
    "plt.ylabel(\"$y$\")\n",
    "plt.plot(x,y)\n",
    "plt.plot(x[0],y[0],\"o\")\n",
    "plt.plot(x[-1],y[-1],\"o\")\n",
    "plt.show()"
   ]
  },
  {
   "cell_type": "markdown",
   "id": "8cacec01",
   "metadata": {},
   "source": [
    "由於此線條至 $x$ 軸所涵蓋的面積為三角形，故可由起點與終點的座標，計算出其面積:"
   ]
  },
  {
   "cell_type": "code",
   "execution_count": 17,
   "id": "f7a05725",
   "metadata": {},
   "outputs": [
    {
     "name": "stdout",
     "output_type": "stream",
     "text": [
      "線段之下的面積為 0.5\n"
     ]
    }
   ],
   "source": [
    "area = 0.5 * (x[-1]-x[0]) * (y[-1]-y[0])\n",
    "print('線段之下的面積為', area)"
   ]
  },
  {
   "cell_type": "code",
   "execution_count": null,
   "id": "8cb7167d",
   "metadata": {},
   "outputs": [],
   "source": []
  }
 ],
 "metadata": {
  "kernelspec": {
   "display_name": "Python 3",
   "language": "python",
   "name": "python3"
  },
  "language_info": {
   "codemirror_mode": {
    "name": "ipython",
    "version": 3
   },
   "file_extension": ".py",
   "mimetype": "text/x-python",
   "name": "python",
   "nbconvert_exporter": "python",
   "pygments_lexer": "ipython3",
   "version": "3.8.8"
  }
 },
 "nbformat": 4,
 "nbformat_minor": 5
}
